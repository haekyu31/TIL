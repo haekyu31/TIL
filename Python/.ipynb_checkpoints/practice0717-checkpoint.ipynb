{
 "cells": [
  {
   "cell_type": "code",
   "execution_count": 6,
   "id": "783922b4-de4b-4c91-9729-c20fbcb1767c",
   "metadata": {},
   "outputs": [],
   "source": [
    "import numpy as np"
   ]
  },
  {
   "cell_type": "code",
   "execution_count": 3,
   "id": "97c6ab0d-6171-4045-9d21-738d3b9e9bb1",
   "metadata": {},
   "outputs": [],
   "source": [
    "a = np.array([[10,20,30,40],[50,60,70,80]])"
   ]
  },
  {
   "cell_type": "code",
   "execution_count": 4,
   "id": "4122309b-4fb1-496a-97a1-90722549ecf4",
   "metadata": {},
   "outputs": [
    {
     "data": {
      "text/plain": [
       "array([[10, 20, 30, 40],\n",
       "       [50, 60, 70, 80]])"
      ]
     },
     "execution_count": 4,
     "metadata": {},
     "output_type": "execute_result"
    }
   ],
   "source": [
    "a"
   ]
  },
  {
   "cell_type": "code",
   "execution_count": 5,
   "id": "d5e5fe1f-9be9-4ee9-adfe-90118bb50eec",
   "metadata": {},
   "outputs": [
    {
     "data": {
      "text/plain": [
       "(2, 4)"
      ]
     },
     "execution_count": 5,
     "metadata": {},
     "output_type": "execute_result"
    }
   ],
   "source": [
    "a.shape"
   ]
  },
  {
   "cell_type": "code",
   "execution_count": 7,
   "id": "49445bf8-8583-43a6-a213-e294f36d1a7b",
   "metadata": {},
   "outputs": [],
   "source": [
    "b = np.array([[[1,2,3,4],[5,6,7,8],[9,10,11,12]],[[11,12,13,14],[15,16,17,18],[19,20,21,22]]])"
   ]
  },
  {
   "cell_type": "code",
   "execution_count": 8,
   "id": "4f02882e-2e30-4f46-a423-1055b08f08e2",
   "metadata": {},
   "outputs": [
    {
     "data": {
      "text/plain": [
       "array([[[ 1,  2,  3,  4],\n",
       "        [ 5,  6,  7,  8],\n",
       "        [ 9, 10, 11, 12]],\n",
       "\n",
       "       [[11, 12, 13, 14],\n",
       "        [15, 16, 17, 18],\n",
       "        [19, 20, 21, 22]]])"
      ]
     },
     "execution_count": 8,
     "metadata": {},
     "output_type": "execute_result"
    }
   ],
   "source": [
    "b"
   ]
  },
  {
   "cell_type": "code",
   "execution_count": 9,
   "id": "a7096c7c-d1e6-4825-aa8a-9a956b636afc",
   "metadata": {},
   "outputs": [
    {
     "data": {
      "text/plain": [
       "(2, 3, 4)"
      ]
     },
     "execution_count": 9,
     "metadata": {},
     "output_type": "execute_result"
    }
   ],
   "source": [
    "b.shape"
   ]
  },
  {
   "cell_type": "code",
   "execution_count": 11,
   "id": "354e40f9-8ba5-45a2-bbc5-8fce3fa283c4",
   "metadata": {},
   "outputs": [
    {
     "name": "stdout",
     "output_type": "stream",
     "text": [
      "2\n"
     ]
    }
   ],
   "source": [
    "print(a.ndim)"
   ]
  },
  {
   "cell_type": "code",
   "execution_count": 12,
   "id": "dac2ca39-6d42-4bd7-be32-20f7b442d361",
   "metadata": {},
   "outputs": [],
   "source": [
    "a = np.array([[0,1,2],[3,4,5]])"
   ]
  },
  {
   "cell_type": "code",
   "execution_count": 13,
   "id": "fa3a09f4-f6ff-420e-a2af-eb2dc977f20c",
   "metadata": {},
   "outputs": [
    {
     "data": {
      "text/plain": [
       "array([[0, 1, 2],\n",
       "       [3, 4, 5]])"
      ]
     },
     "execution_count": 13,
     "metadata": {},
     "output_type": "execute_result"
    }
   ],
   "source": [
    "a"
   ]
  },
  {
   "cell_type": "code",
   "execution_count": 14,
   "id": "134f6102-e754-4174-b8bb-e9ab5dfbd3e2",
   "metadata": {},
   "outputs": [
    {
     "data": {
      "text/plain": [
       "0"
      ]
     },
     "execution_count": 14,
     "metadata": {},
     "output_type": "execute_result"
    }
   ],
   "source": [
    "a[0,0]"
   ]
  },
  {
   "cell_type": "code",
   "execution_count": 15,
   "id": "28d353fd-4ee0-419a-b26b-ddd80864d7a4",
   "metadata": {},
   "outputs": [
    {
     "data": {
      "text/plain": [
       "5"
      ]
     },
     "execution_count": 15,
     "metadata": {},
     "output_type": "execute_result"
    }
   ],
   "source": [
    "a[-1,-1]"
   ]
  },
  {
   "cell_type": "code",
   "execution_count": 16,
   "id": "1dc425c4-76c4-4414-91ef-b20a918569dd",
   "metadata": {},
   "outputs": [],
   "source": [
    "a = np.array([[0,1,2,3],[4,5,6,7]])"
   ]
  },
  {
   "cell_type": "code",
   "execution_count": 17,
   "id": "0f4f36d7-2f23-46da-b8df-635233782480",
   "metadata": {},
   "outputs": [
    {
     "data": {
      "text/plain": [
       "array([[0, 1, 2, 3],\n",
       "       [4, 5, 6, 7]])"
      ]
     },
     "execution_count": 17,
     "metadata": {},
     "output_type": "execute_result"
    }
   ],
   "source": [
    "a"
   ]
  },
  {
   "cell_type": "code",
   "execution_count": 22,
   "id": "064012fc-f4d1-49ad-9b46-864368f105de",
   "metadata": {},
   "outputs": [
    {
     "data": {
      "text/plain": [
       "array([0, 1, 2, 3])"
      ]
     },
     "execution_count": 22,
     "metadata": {},
     "output_type": "execute_result"
    }
   ],
   "source": [
    "a[0,:]  #첫번째 raw의 모든 column"
   ]
  },
  {
   "cell_type": "code",
   "execution_count": 23,
   "id": "d5aebacd-bf02-4f9f-b143-e7ee8833441c",
   "metadata": {},
   "outputs": [
    {
     "data": {
      "text/plain": [
       "array([1, 5])"
      ]
     },
     "execution_count": 23,
     "metadata": {},
     "output_type": "execute_result"
    }
   ],
   "source": [
    "a[:,1]   #모든 raw의 두번째 column"
   ]
  },
  {
   "cell_type": "code",
   "execution_count": 24,
   "id": "0fe5780a-90de-4cae-979f-48ce0223704a",
   "metadata": {},
   "outputs": [
    {
     "data": {
      "text/plain": [
       "array([[0, 1, 2, 3],\n",
       "       [4, 5, 6, 7]])"
      ]
     },
     "execution_count": 24,
     "metadata": {},
     "output_type": "execute_result"
    }
   ],
   "source": [
    "a[:,:]  #모든 raw의 모든 column"
   ]
  },
  {
   "cell_type": "code",
   "execution_count": 26,
   "id": "d28230e2-b254-41fc-855a-2f6d6326b24a",
   "metadata": {},
   "outputs": [
    {
     "data": {
      "text/plain": [
       "array([[0, 1],\n",
       "       [4, 5]])"
      ]
     },
     "execution_count": 26,
     "metadata": {},
     "output_type": "execute_result"
    }
   ],
   "source": [
    "a[:2,:2]  #0번째 raw 1번째 raw까지 0번째 column부터 1번쨰 column까지"
   ]
  },
  {
   "cell_type": "code",
   "execution_count": 27,
   "id": "e499d6fc-0285-4e97-ab13-2de7efc90168",
   "metadata": {},
   "outputs": [],
   "source": [
    "#슬라이싱도 range와 비슷하게 "
   ]
  },
  {
   "cell_type": "code",
   "execution_count": 28,
   "id": "e1517f2c-c0f6-4d12-ba79-fe8e6b61f6b4",
   "metadata": {},
   "outputs": [],
   "source": [
    "m = np.array([[0,1,2,3,4],[5,6,7,8,9],[10,11,12,13,14]])"
   ]
  },
  {
   "cell_type": "code",
   "execution_count": 29,
   "id": "74f16f14-4132-486a-baa3-09351585c3be",
   "metadata": {},
   "outputs": [
    {
     "name": "stdout",
     "output_type": "stream",
     "text": [
      "7\n",
      "14\n",
      "[6 7]\n",
      "[ 7 12]\n",
      "[[3 4]\n",
      " [8 9]]\n"
     ]
    }
   ],
   "source": [
    "print(m[1,2])\n",
    "print(m[-1,-1])\n",
    "print(m[1,1:3])\n",
    "print(m[1:3,2])\n",
    "print(m[:2,3:])"
   ]
  },
  {
   "cell_type": "code",
   "execution_count": 30,
   "id": "422c9e03-d84a-4069-8fd3-e3d91afac9f1",
   "metadata": {},
   "outputs": [],
   "source": [
    "a = np.array([0,1,2,3,4,5,6,7,8,9])"
   ]
  },
  {
   "cell_type": "code",
   "execution_count": 31,
   "id": "3de7ac2c-705e-4e7b-930e-3bb3ab6eb376",
   "metadata": {},
   "outputs": [],
   "source": [
    "idx = np.array([True, False, True, False,True, False,True, False,True, False,])"
   ]
  },
  {
   "cell_type": "code",
   "execution_count": 32,
   "id": "4100234a-0098-48dc-9a6b-18363d6aeb16",
   "metadata": {},
   "outputs": [
    {
     "data": {
      "text/plain": [
       "array([0, 2, 4, 6, 8])"
      ]
     },
     "execution_count": 32,
     "metadata": {},
     "output_type": "execute_result"
    }
   ],
   "source": [
    "a[idx]"
   ]
  },
  {
   "cell_type": "code",
   "execution_count": 33,
   "id": "92c5bcf3-ee25-489b-b058-385180fbbe92",
   "metadata": {},
   "outputs": [
    {
     "data": {
      "text/plain": [
       "array([0, 1, 0, 1, 0, 1, 0, 1, 0, 1], dtype=int32)"
      ]
     },
     "execution_count": 33,
     "metadata": {},
     "output_type": "execute_result"
    }
   ],
   "source": [
    "a%2"
   ]
  },
  {
   "cell_type": "code",
   "execution_count": 34,
   "id": "b30e967d-9f8d-45f5-a388-7ac8052d4669",
   "metadata": {},
   "outputs": [
    {
     "data": {
      "text/plain": [
       "array([ True, False,  True, False,  True, False,  True, False,  True,\n",
       "       False])"
      ]
     },
     "execution_count": 34,
     "metadata": {},
     "output_type": "execute_result"
    }
   ],
   "source": [
    "a % 2 == 0"
   ]
  },
  {
   "cell_type": "code",
   "execution_count": 35,
   "id": "6c993057-b78c-4dc3-b84b-6739b478ad47",
   "metadata": {},
   "outputs": [
    {
     "data": {
      "text/plain": [
       "array([0, 2, 4, 6, 8])"
      ]
     },
     "execution_count": 35,
     "metadata": {},
     "output_type": "execute_result"
    }
   ],
   "source": [
    "a[a % 2 == 0]"
   ]
  },
  {
   "cell_type": "code",
   "execution_count": 36,
   "id": "b422fbc5-c635-497f-8734-6368cf98ca73",
   "metadata": {},
   "outputs": [
    {
     "data": {
      "text/plain": [
       "array([11, 33, 55, 77, 99])"
      ]
     },
     "execution_count": 36,
     "metadata": {},
     "output_type": "execute_result"
    }
   ],
   "source": [
    "a = np.array([11,22,33,44,55,66,77,88,99])\n",
    "idx = np.array([0,2,4,6,8])\n",
    "a[idx]"
   ]
  },
  {
   "cell_type": "code",
   "execution_count": 37,
   "id": "1a49a120-83c6-4b49-ae10-6c072f74dd3a",
   "metadata": {},
   "outputs": [
    {
     "data": {
      "text/plain": [
       "array([[ 1,  2,  3,  4],\n",
       "       [ 5,  6,  7,  8],\n",
       "       [ 9, 10, 11, 12]])"
      ]
     },
     "execution_count": 37,
     "metadata": {},
     "output_type": "execute_result"
    }
   ],
   "source": [
    "a = np.array([[1,2,3,4],[5,6,7,8],[9,10,11,12]])\n",
    "a"
   ]
  },
  {
   "cell_type": "code",
   "execution_count": 38,
   "id": "61584b53-5100-4104-b66a-5ae79f5aefec",
   "metadata": {},
   "outputs": [
    {
     "data": {
      "text/plain": [
       "array([[ 1,  4],\n",
       "       [ 5,  8],\n",
       "       [ 9, 12]])"
      ]
     },
     "execution_count": 38,
     "metadata": {},
     "output_type": "execute_result"
    }
   ],
   "source": [
    "a[:,[True, False, False, True]]"
   ]
  },
  {
   "cell_type": "code",
   "execution_count": 41,
   "id": "1c43d0f3-e5fe-47ef-98e8-f73e1c11efbb",
   "metadata": {},
   "outputs": [
    {
     "data": {
      "text/plain": [
       "array([[ 9, 10, 11, 12],\n",
       "       [ 1,  2,  3,  4],\n",
       "       [ 5,  6,  7,  8]])"
      ]
     },
     "execution_count": 41,
     "metadata": {},
     "output_type": "execute_result"
    }
   ],
   "source": [
    "a[[2,0,1],:]  #3번째 raw부터 0번째 전까지 1씩 증가 # 모든 column"
   ]
  },
  {
   "cell_type": "code",
   "execution_count": 42,
   "id": "8fff7d06-e8ac-4870-be19-eb5ea07651eb",
   "metadata": {},
   "outputs": [],
   "source": [
    "x = np.array([1,2,3,4,5,6,7,8,9,10,11,12,13,14,15,16,17,18,19,20])"
   ]
  },
  {
   "cell_type": "code",
   "execution_count": 43,
   "id": "f5e9a5c9-a8df-4f89-9394-b3f195919697",
   "metadata": {},
   "outputs": [
    {
     "data": {
      "text/plain": [
       "array([ 3,  6,  9, 12, 15, 18])"
      ]
     },
     "execution_count": 43,
     "metadata": {},
     "output_type": "execute_result"
    }
   ],
   "source": [
    "x[x % 3 == 0]"
   ]
  },
  {
   "cell_type": "code",
   "execution_count": 44,
   "id": "66fb7b6d-63f1-4d7e-8841-ac5b3111cbbc",
   "metadata": {},
   "outputs": [
    {
     "data": {
      "text/plain": [
       "array([ 1,  5,  9, 13, 17])"
      ]
     },
     "execution_count": 44,
     "metadata": {},
     "output_type": "execute_result"
    }
   ],
   "source": [
    "x[x % 4 == 1]"
   ]
  },
  {
   "cell_type": "code",
   "execution_count": 47,
   "id": "e255f250-c7c1-4336-b8b9-45529f8529d9",
   "metadata": {},
   "outputs": [
    {
     "data": {
      "text/plain": [
       "array([9])"
      ]
     },
     "execution_count": 47,
     "metadata": {},
     "output_type": "execute_result"
    }
   ],
   "source": [
    "x[(x % 3 == 0) & (x % 4 == 1)]"
   ]
  },
  {
   "cell_type": "code",
   "execution_count": 53,
   "id": "fa3349c2-8cb9-49aa-90d7-d5b09532eda3",
   "metadata": {},
   "outputs": [
    {
     "data": {
      "text/plain": [
       "dtype('int32')"
      ]
     },
     "execution_count": 53,
     "metadata": {},
     "output_type": "execute_result"
    }
   ],
   "source": [
    "x = np.array([1,2,3])\n",
    "x.dtype"
   ]
  },
  {
   "cell_type": "code",
   "execution_count": 58,
   "id": "41cd3359-6e70-44a0-8298-bd892b82a743",
   "metadata": {},
   "outputs": [
    {
     "data": {
      "text/plain": [
       "array([[1.24794201e-311, 2.81617418e-322, 0.00000000e+000],\n",
       "       [0.00000000e+000, 1.16709769e-312, 6.82116729e-043],\n",
       "       [5.64042459e-091, 5.49167846e+174, 1.00511991e-047],\n",
       "       [9.14764895e-043, 6.48224659e+170, 4.93432906e+257]])"
      ]
     },
     "execution_count": 58,
     "metadata": {},
     "output_type": "execute_result"
    }
   ],
   "source": [
    "g = np.empty((4,3))\n",
    "g"
   ]
  },
  {
   "cell_type": "code",
   "execution_count": 59,
   "id": "f18f6498-dcd2-4aca-9be8-9e19d5e14829",
   "metadata": {},
   "outputs": [
    {
     "data": {
      "text/plain": [
       "array([0, 1, 2, 3, 4, 5, 6, 7, 8, 9])"
      ]
     },
     "execution_count": 59,
     "metadata": {},
     "output_type": "execute_result"
    }
   ],
   "source": [
    "np.arange(10)"
   ]
  },
  {
   "cell_type": "code",
   "execution_count": 60,
   "id": "6fddb76d-89a1-459f-b90a-4eaf58b702b7",
   "metadata": {},
   "outputs": [
    {
     "data": {
      "text/plain": [
       "array([ 3,  5,  7,  9, 11, 13, 15, 17, 19, 21])"
      ]
     },
     "execution_count": 60,
     "metadata": {},
     "output_type": "execute_result"
    }
   ],
   "source": [
    "np.arange(3,22,2)"
   ]
  },
  {
   "cell_type": "code",
   "execution_count": 61,
   "id": "d35017c5-05a3-4794-a8c0-fdf09e127536",
   "metadata": {},
   "outputs": [
    {
     "data": {
      "text/plain": [
       "array([[1, 2, 3],\n",
       "       [4, 5, 6]])"
      ]
     },
     "execution_count": 61,
     "metadata": {},
     "output_type": "execute_result"
    }
   ],
   "source": [
    "A = np.array([[1,2,3],[4,5,6]])\n",
    "A"
   ]
  },
  {
   "cell_type": "code",
   "execution_count": 62,
   "id": "55da0eca-984d-4442-84f6-1fedfe3e0f7c",
   "metadata": {},
   "outputs": [
    {
     "data": {
      "text/plain": [
       "array([[1, 4],\n",
       "       [2, 5],\n",
       "       [3, 6]])"
      ]
     },
     "execution_count": 62,
     "metadata": {},
     "output_type": "execute_result"
    }
   ],
   "source": [
    "A.transpose()"
   ]
  },
  {
   "cell_type": "code",
   "execution_count": 65,
   "id": "c72fb1c2-18f5-4e1b-9a1e-8f7b0ac652d0",
   "metadata": {},
   "outputs": [
    {
     "data": {
      "text/plain": [
       "array([[1, 4],\n",
       "       [2, 5],\n",
       "       [3, 6]])"
      ]
     },
     "execution_count": 65,
     "metadata": {},
     "output_type": "execute_result"
    }
   ],
   "source": [
    "A.T  #반환하지 않는다"
   ]
  },
  {
   "cell_type": "code",
   "execution_count": 66,
   "id": "823e1dbd-c452-4f32-b498-314cd535b8aa",
   "metadata": {},
   "outputs": [
    {
     "data": {
      "text/plain": [
       "array([[1, 2, 3],\n",
       "       [4, 5, 6]])"
      ]
     },
     "execution_count": 66,
     "metadata": {},
     "output_type": "execute_result"
    }
   ],
   "source": [
    "A"
   ]
  },
  {
   "cell_type": "code",
   "execution_count": 67,
   "id": "8a999f21-7d3b-4978-bde9-07c35a5c517c",
   "metadata": {},
   "outputs": [
    {
     "data": {
      "text/plain": [
       "array([ 0,  1,  2,  3,  4,  5,  6,  7,  8,  9, 10, 11])"
      ]
     },
     "execution_count": 67,
     "metadata": {},
     "output_type": "execute_result"
    }
   ],
   "source": [
    "a = np.arange(12)\n",
    "a"
   ]
  },
  {
   "cell_type": "code",
   "execution_count": 68,
   "id": "87c1c879-d619-4898-99c5-814f02566dec",
   "metadata": {},
   "outputs": [
    {
     "data": {
      "text/plain": [
       "array([[ 0,  1,  2,  3],\n",
       "       [ 4,  5,  6,  7],\n",
       "       [ 8,  9, 10, 11]])"
      ]
     },
     "execution_count": 68,
     "metadata": {},
     "output_type": "execute_result"
    }
   ],
   "source": [
    "b = a.reshape(3,4)\n",
    "b"
   ]
  },
  {
   "cell_type": "code",
   "execution_count": 69,
   "id": "2455c94c-bc30-4356-bdfe-efb51ec8a4ac",
   "metadata": {},
   "outputs": [
    {
     "data": {
      "text/plain": [
       "array([[ 0,  1,  2],\n",
       "       [ 3,  4,  5],\n",
       "       [ 6,  7,  8],\n",
       "       [ 9, 10, 11]])"
      ]
     },
     "execution_count": 69,
     "metadata": {},
     "output_type": "execute_result"
    }
   ],
   "source": [
    "a.reshape(4,-1)"
   ]
  },
  {
   "cell_type": "code",
   "execution_count": 70,
   "id": "3eb93d46-202b-47f1-ba4d-fe5f2fdb51b0",
   "metadata": {},
   "outputs": [
    {
     "data": {
      "text/plain": [
       "array([[[ 0,  1,  2],\n",
       "        [ 3,  4,  5]],\n",
       "\n",
       "       [[ 6,  7,  8],\n",
       "        [ 9, 10, 11]]])"
      ]
     },
     "execution_count": 70,
     "metadata": {},
     "output_type": "execute_result"
    }
   ],
   "source": [
    "a.reshape(2,2,-1)"
   ]
  },
  {
   "cell_type": "code",
   "execution_count": 71,
   "id": "f263aa46-8dcf-4cf4-bee5-300963e64756",
   "metadata": {},
   "outputs": [
    {
     "data": {
      "text/plain": [
       "array([[[ 0,  1],\n",
       "        [ 2,  3],\n",
       "        [ 4,  5]],\n",
       "\n",
       "       [[ 6,  7],\n",
       "        [ 8,  9],\n",
       "        [10, 11]]])"
      ]
     },
     "execution_count": 71,
     "metadata": {},
     "output_type": "execute_result"
    }
   ],
   "source": [
    "a.reshape(2,-1,2)"
   ]
  },
  {
   "cell_type": "code",
   "execution_count": 72,
   "id": "8c681c61-499f-4543-aa5d-e8c4a187ce90",
   "metadata": {},
   "outputs": [],
   "source": [
    "x = np.arange(1,10001)\n",
    "y = np.arange(10001, 20001)"
   ]
  },
  {
   "cell_type": "code",
   "execution_count": 73,
   "id": "1498938e-6f12-420b-9fee-6f785a316c45",
   "metadata": {},
   "outputs": [
    {
     "name": "stdout",
     "output_type": "stream",
     "text": [
      "CPU times: total: 0 ns\n",
      "Wall time: 4.01 ms\n"
     ]
    }
   ],
   "source": [
    "%%time\n",
    "z = np.zeros_like(x)\n",
    "for i in range(10000):\n",
    "    z[i] = x[i] + y[i]"
   ]
  },
  {
   "cell_type": "code",
   "execution_count": 74,
   "id": "eed20f3b-a725-4d45-96a7-08bfa49e7985",
   "metadata": {},
   "outputs": [
    {
     "data": {
      "text/plain": [
       "array([10002, 10004, 10006, 10008, 10010, 10012, 10014, 10016, 10018,\n",
       "       10020])"
      ]
     },
     "execution_count": 74,
     "metadata": {},
     "output_type": "execute_result"
    }
   ],
   "source": [
    "z[:10]"
   ]
  },
  {
   "cell_type": "code",
   "execution_count": 75,
   "id": "4d1a57ef-48f6-4361-84a4-998db4a8686c",
   "metadata": {},
   "outputs": [
    {
     "name": "stdout",
     "output_type": "stream",
     "text": [
      "CPU times: total: 0 ns\n",
      "Wall time: 0 ns\n"
     ]
    }
   ],
   "source": [
    "%%time\n",
    "z = x + y"
   ]
  },
  {
   "cell_type": "code",
   "execution_count": 76,
   "id": "eacfafe1-2d43-4d3c-995d-bc8652f30672",
   "metadata": {},
   "outputs": [],
   "source": [
    "a = np.array([1,2,3,4])\n",
    "b = np.array([4,2,2,4])"
   ]
  },
  {
   "cell_type": "code",
   "execution_count": 77,
   "id": "052265c4-eb5b-40a8-95be-9169f03b1fec",
   "metadata": {},
   "outputs": [
    {
     "data": {
      "text/plain": [
       "array([False,  True, False,  True])"
      ]
     },
     "execution_count": 77,
     "metadata": {},
     "output_type": "execute_result"
    }
   ],
   "source": [
    "a == b"
   ]
  },
  {
   "cell_type": "code",
   "execution_count": 78,
   "id": "10c18d52-7cbb-4ff0-a0ef-1e99f0051754",
   "metadata": {},
   "outputs": [
    {
     "data": {
      "text/plain": [
       "False"
      ]
     },
     "execution_count": 78,
     "metadata": {},
     "output_type": "execute_result"
    }
   ],
   "source": [
    "c = np.array([1,2,3,4])\n",
    "np.all(a == b)"
   ]
  },
  {
   "cell_type": "code",
   "execution_count": 79,
   "id": "21a644e5-10bf-4c42-86f9-f01df542c9da",
   "metadata": {},
   "outputs": [
    {
     "data": {
      "text/plain": [
       "True"
      ]
     },
     "execution_count": 79,
     "metadata": {},
     "output_type": "execute_result"
    }
   ],
   "source": [
    "np.all(a == c)"
   ]
  },
  {
   "cell_type": "code",
   "execution_count": 80,
   "id": "990c6a00-4a4f-4765-8b34-a4f6732eea00",
   "metadata": {},
   "outputs": [
    {
     "data": {
      "text/plain": [
       "array([0, 1, 2, 3, 4])"
      ]
     },
     "execution_count": 80,
     "metadata": {},
     "output_type": "execute_result"
    }
   ],
   "source": [
    "x = np.arange(5)\n",
    "x"
   ]
  },
  {
   "cell_type": "code",
   "execution_count": 83,
   "id": "a0ba75fc-c383-4e8c-95e0-7fd7bcb413ae",
   "metadata": {},
   "outputs": [
    {
     "data": {
      "text/plain": [
       "array([1., 1., 1., 1., 1.])"
      ]
     },
     "execution_count": 83,
     "metadata": {},
     "output_type": "execute_result"
    }
   ],
   "source": [
    "y = np.ones(5)\n",
    "y"
   ]
  },
  {
   "cell_type": "code",
   "execution_count": 84,
   "id": "d4f72790-d8f8-4ee8-a807-a2c6a98740f9",
   "metadata": {},
   "outputs": [
    {
     "data": {
      "text/plain": [
       "array([1., 2., 3., 4., 5.])"
      ]
     },
     "execution_count": 84,
     "metadata": {},
     "output_type": "execute_result"
    }
   ],
   "source": [
    "x + y"
   ]
  },
  {
   "cell_type": "code",
   "execution_count": 85,
   "id": "dabb5caa-68a6-488d-a4de-a3c5cd39ac3c",
   "metadata": {},
   "outputs": [
    {
     "data": {
      "text/plain": [
       "'1.23.1'"
      ]
     },
     "execution_count": 85,
     "metadata": {},
     "output_type": "execute_result"
    }
   ],
   "source": [
    "#연습문제\n",
    "import numpy as np\n",
    "np.__version__"
   ]
  },
  {
   "cell_type": "code",
   "execution_count": 86,
   "id": "9709ec5b-aad3-40ea-8c61-9b06ee047901",
   "metadata": {},
   "outputs": [
    {
     "data": {
      "text/plain": [
       "array([0, 0, 0, 0, 0, 0, 0, 0, 0, 0])"
      ]
     },
     "execution_count": 86,
     "metadata": {},
     "output_type": "execute_result"
    }
   ],
   "source": [
    "a = np.array([0,0,0,0,0,0,0,0,0,0])\n",
    "a"
   ]
  },
  {
   "cell_type": "code",
   "execution_count": 87,
   "id": "920171e8-09a5-4db8-bbae-31d831229c25",
   "metadata": {},
   "outputs": [
    {
     "data": {
      "text/plain": [
       "(10,)"
      ]
     },
     "execution_count": 87,
     "metadata": {},
     "output_type": "execute_result"
    }
   ],
   "source": [
    "a.shape"
   ]
  },
  {
   "cell_type": "code",
   "execution_count": 89,
   "id": "2d54c5a6-7026-4746-a10a-82bf9c67383d",
   "metadata": {},
   "outputs": [
    {
     "data": {
      "text/plain": [
       "array([0., 0., 0., 0., 0., 0., 0., 0., 0., 0.])"
      ]
     },
     "execution_count": 89,
     "metadata": {},
     "output_type": "execute_result"
    }
   ],
   "source": [
    "b = np.zeros(10)\n",
    "b"
   ]
  },
  {
   "cell_type": "code",
   "execution_count": 90,
   "id": "4f9b2a94-4ca7-4c7d-833d-25612beadb07",
   "metadata": {},
   "outputs": [
    {
     "data": {
      "text/plain": [
       "array([0, 0, 0, 0, 0, 0, 0, 0, 0, 0])"
      ]
     },
     "execution_count": 90,
     "metadata": {},
     "output_type": "execute_result"
    }
   ],
   "source": [
    "b_1 = np.full(10,0)\n",
    "b_1"
   ]
  },
  {
   "cell_type": "code",
   "execution_count": 99,
   "id": "f37c0753-4e04-47f8-81d4-c359dc56285a",
   "metadata": {},
   "outputs": [],
   "source": [
    "n_arr = np.array([1,2,3,4,5,6,7,8,9,10], dtype = np.int64)"
   ]
  },
  {
   "cell_type": "code",
   "execution_count": 100,
   "id": "e98cb75e-e0a7-4405-803c-8692d737fb68",
   "metadata": {},
   "outputs": [
    {
     "data": {
      "text/plain": [
       "8"
      ]
     },
     "execution_count": 100,
     "metadata": {},
     "output_type": "execute_result"
    }
   ],
   "source": [
    "n_arr.itemsize"
   ]
  },
  {
   "cell_type": "code",
   "execution_count": 104,
   "id": "fd61ffa9-a376-4273-b307-9a36b61d80c1",
   "metadata": {},
   "outputs": [
    {
     "data": {
      "text/plain": [
       "array([ 1,  2,  3,  4,  5,  6,  7,  8,  9, 10])"
      ]
     },
     "execution_count": 104,
     "metadata": {},
     "output_type": "execute_result"
    }
   ],
   "source": [
    "a = np.arange(1,11)\n",
    "a"
   ]
  },
  {
   "cell_type": "code",
   "execution_count": 105,
   "id": "6176af2e-1207-4e51-a8ca-6d7507b778e4",
   "metadata": {},
   "outputs": [
    {
     "data": {
      "text/plain": [
       "array([10,  9,  8,  7,  6,  5,  4,  3,  2,  1])"
      ]
     },
     "execution_count": 105,
     "metadata": {},
     "output_type": "execute_result"
    }
   ],
   "source": [
    "a = a[::-1]\n",
    "a"
   ]
  },
  {
   "cell_type": "code",
   "execution_count": 106,
   "id": "3b0ded57-72e2-43f2-ba97-b302d90d7990",
   "metadata": {},
   "outputs": [
    {
     "data": {
      "text/plain": [
       "array([[10,  9,  8,  7,  6],\n",
       "       [ 5,  4,  3,  2,  1]])"
      ]
     },
     "execution_count": 106,
     "metadata": {},
     "output_type": "execute_result"
    }
   ],
   "source": [
    "a = a.reshape(2,5)\n",
    "a"
   ]
  },
  {
   "cell_type": "code",
   "execution_count": 107,
   "id": "a9721570-cca1-4195-bf6e-6ad9ecc907cd",
   "metadata": {},
   "outputs": [
    {
     "data": {
      "text/plain": [
       "array([[10,  9],\n",
       "       [ 8,  7],\n",
       "       [ 6,  5],\n",
       "       [ 4,  3],\n",
       "       [ 2,  1]])"
      ]
     },
     "execution_count": 107,
     "metadata": {},
     "output_type": "execute_result"
    }
   ],
   "source": [
    "a = a.reshape(5,2)\n",
    "a"
   ]
  },
  {
   "cell_type": "code",
   "execution_count": 108,
   "id": "2b061259-b985-4696-9828-f07e97bb480c",
   "metadata": {},
   "outputs": [
    {
     "data": {
      "text/plain": [
       "array([[ 1,  2,  3,  4],\n",
       "       [ 5,  6,  7,  8],\n",
       "       [ 9, 10, 11, 12],\n",
       "       [13, 14, 15, 16]])"
      ]
     },
     "execution_count": 108,
     "metadata": {},
     "output_type": "execute_result"
    }
   ],
   "source": [
    "np.arange(1,17).reshape(4,4)"
   ]
  },
  {
   "cell_type": "code",
   "execution_count": 111,
   "id": "584fa1db-f78b-417f-bbd7-3091ad7130ad",
   "metadata": {},
   "outputs": [
    {
     "name": "stdout",
     "output_type": "stream",
     "text": [
      "0.6192709663506637\n",
      "0.025926231827891333\n",
      "0.358801017672414\n"
     ]
    }
   ],
   "source": [
    "np.random.seed(2)\n",
    "a = np.random.random(10)\n",
    "print(a.max())\n",
    "print(a.min())\n",
    "print(a.mean())"
   ]
  },
  {
   "cell_type": "code",
   "execution_count": 120,
   "id": "5ad09ba7-aff2-4821-bd49-d65f5c124a7c",
   "metadata": {},
   "outputs": [
    {
     "name": "stdin",
     "output_type": "stream",
     "text": [
      "n :  3\n"
     ]
    },
    {
     "name": "stdout",
     "output_type": "stream",
     "text": [
      "[[1 0 1]\n",
      " [0 1 0]\n",
      " [1 0 1]]\n"
     ]
    }
   ],
   "source": [
    "n = int(input(\"n : \"))\n",
    "arr_1 = np.full((n,n),0)\n",
    "for i in range(n):\n",
    "    for j in range(n):\n",
    "        if (i+j)%2 == 0:\n",
    "            arr_1[i,j] = 1\n",
    "print(arr_1)"
   ]
  },
  {
   "cell_type": "code",
   "execution_count": 124,
   "id": "55ddaab5-62da-4392-bfd3-99914e693e8c",
   "metadata": {},
   "outputs": [
    {
     "name": "stdin",
     "output_type": "stream",
     "text": [
      "n :  10\n"
     ]
    },
    {
     "name": "stdout",
     "output_type": "stream",
     "text": [
      "[[ 1  0  0  0  0  0  0  0  0  0]\n",
      " [ 0  2  0  0  0  0  0  0  0  0]\n",
      " [ 0  0  3  0  0  0  0  0  0  0]\n",
      " [ 0  0  0  4  0  0  0  0  0  0]\n",
      " [ 0  0  0  0  5  0  0  0  0  0]\n",
      " [ 0  0  0  0  0  6  0  0  0  0]\n",
      " [ 0  0  0  0  0  0  7  0  0  0]\n",
      " [ 0  0  0  0  0  0  0  8  0  0]\n",
      " [ 0  0  0  0  0  0  0  0  9  0]\n",
      " [ 0  0  0  0  0  0  0  0  0 10]]\n"
     ]
    }
   ],
   "source": [
    "n = int(input(\"n : \"))\n",
    "arr_2 = np.full((n,n), 0)\n",
    "for i in range(n):\n",
    "    arr_2[i,i] = i+1\n",
    "print(arr_2)"
   ]
  },
  {
   "cell_type": "code",
   "execution_count": 125,
   "id": "f42efc82-7b87-4599-972f-d3503fcb26fd",
   "metadata": {},
   "outputs": [
    {
     "name": "stdin",
     "output_type": "stream",
     "text": [
      "n :  10\n"
     ]
    },
    {
     "name": "stdout",
     "output_type": "stream",
     "text": [
      "[[1 1 1 1 1 1 1 1 1 1]\n",
      " [1 0 0 0 0 0 0 0 0 1]\n",
      " [1 0 0 0 0 0 0 0 0 1]\n",
      " [1 0 0 0 0 0 0 0 0 1]\n",
      " [1 0 0 0 0 0 0 0 0 1]\n",
      " [1 0 0 0 0 0 0 0 0 1]\n",
      " [1 0 0 0 0 0 0 0 0 1]\n",
      " [1 0 0 0 0 0 0 0 0 1]\n",
      " [1 0 0 0 0 0 0 0 0 1]\n",
      " [1 1 1 1 1 1 1 1 1 1]]\n"
     ]
    }
   ],
   "source": [
    "n = int(input(\"n : \"))\n",
    "arr_3 = np.full((n,n),1)\n",
    "arr_3[1:-1, 1:-1] = 0\n",
    "print(arr_3)"
   ]
  },
  {
   "cell_type": "code",
   "execution_count": 128,
   "id": "6210bfcd-a749-4183-8027-73d1d65a5d5e",
   "metadata": {},
   "outputs": [
    {
     "name": "stdin",
     "output_type": "stream",
     "text": [
      "n :  10\n"
     ]
    },
    {
     "name": "stdout",
     "output_type": "stream",
     "text": [
      "[[0 0 0 0 0 0 0 0 0 0]\n",
      " [0 1 1 1 1 1 1 1 1 0]\n",
      " [0 1 1 1 1 1 1 1 1 0]\n",
      " [0 1 1 1 1 1 1 1 1 0]\n",
      " [0 1 1 1 1 1 1 1 1 0]\n",
      " [0 1 1 1 1 1 1 1 1 0]\n",
      " [0 1 1 1 1 1 1 1 1 0]\n",
      " [0 1 1 1 1 1 1 1 1 0]\n",
      " [0 1 1 1 1 1 1 1 1 0]\n",
      " [0 0 0 0 0 0 0 0 0 0]]\n"
     ]
    }
   ],
   "source": [
    "n = int(input(\"n : \"))\n",
    "arr_4 = np.full((n,n),1)\n",
    "arr_4[1:-1,1:-1] = 0\n",
    "arr_4 = (arr_4-1)*(-1)\n",
    "print(arr_4)"
   ]
  },
  {
   "cell_type": "code",
   "execution_count": 52,
   "id": "c2cc8c0b-41d4-4448-89e1-e4523bd18fdb",
   "metadata": {},
   "outputs": [],
   "source": [
    "a = np.arange(0,81,10)\n",
    "b = np.arange(0,21,20)"
   ]
  },
  {
   "cell_type": "code",
   "execution_count": 53,
   "id": "065dce3e-a5a5-4ec8-ae34-1df9520b8d4d",
   "metadata": {},
   "outputs": [
    {
     "name": "stdout",
     "output_type": "stream",
     "text": [
      "[ 0 10 20 30 40 50 60 70 80]\n",
      "[ 0 20]\n"
     ]
    }
   ],
   "source": [
    "print(a)\n",
    "print(b)"
   ]
  },
  {
   "cell_type": "code",
   "execution_count": 61,
   "id": "2a58e625-facb-437f-82fc-48ad3cdb8f5d",
   "metadata": {},
   "outputs": [
    {
     "name": "stdout",
     "output_type": "stream",
     "text": [
      "[ True False  True False False False False False False]\n",
      "<class 'numpy.ndarray'>\n"
     ]
    }
   ],
   "source": [
    "T_or_F = np.full(a.shape, False)  # 배열로 구하는 법\n",
    "idx = 0\n",
    "for i in a:\n",
    "    if i in b:\n",
    "        T_or_F[idx] = True\n",
    "    idx += 1\n",
    "print(T_or_F)\n",
    "print(type(T_or_F))"
   ]
  },
  {
   "cell_type": "code",
   "execution_count": 60,
   "id": "19c0d546-a263-48f8-b98e-7b798f4b8724",
   "metadata": {},
   "outputs": [
    {
     "name": "stdout",
     "output_type": "stream",
     "text": [
      "[True, False, True, False, False, False, False, False, False]\n",
      "<class 'list'>\n"
     ]
    }
   ],
   "source": [
    "list_a = []  #리스트로 구하는 법\n",
    "for i in a:\n",
    "    if i in b:\n",
    "        list_a.append(True)\n",
    "    else:\n",
    "        list_a.append(False)\n",
    "print(list_a)\n",
    "print(type(list_a))  "
   ]
  },
  {
   "cell_type": "code",
   "execution_count": 63,
   "id": "3d3dd521-3934-4216-b789-ad30efad7cf7",
   "metadata": {},
   "outputs": [],
   "source": [
    "x = np.array([[10,20,40,60],[10,20,40,40]])"
   ]
  },
  {
   "cell_type": "code",
   "execution_count": 64,
   "id": "c5189067-d6c7-4555-9f4d-24b5739a7e31",
   "metadata": {},
   "outputs": [],
   "source": [
    "a, b = np.unique(x.ravel(), return_counts = True)"
   ]
  },
  {
   "cell_type": "code",
   "execution_count": 70,
   "id": "55d8f278-5cea-44d6-b66a-eb49e7fb5349",
   "metadata": {},
   "outputs": [
    {
     "data": {
      "text/plain": [
       "array([10, 20, 40, 60])"
      ]
     },
     "execution_count": 70,
     "metadata": {},
     "output_type": "execute_result"
    }
   ],
   "source": [
    "a  # x 배열에서 중복없이 추출함"
   ]
  },
  {
   "cell_type": "code",
   "execution_count": 71,
   "id": "1f8c1500-ce03-4ae9-a3f1-421624bbb706",
   "metadata": {},
   "outputs": [
    {
     "data": {
      "text/plain": [
       "array([2, 2, 3, 1], dtype=int64)"
      ]
     },
     "execution_count": 71,
     "metadata": {},
     "output_type": "execute_result"
    }
   ],
   "source": [
    "b   # x배열에서 각 요소별 갯수"
   ]
  },
  {
   "cell_type": "code",
   "execution_count": 69,
   "id": "c97fb5ea-8339-42d7-ba2b-04648dc16390",
   "metadata": {},
   "outputs": [
    {
     "name": "stdout",
     "output_type": "stream",
     "text": [
      "10 2\n",
      "20 2\n",
      "40 3\n",
      "60 1\n"
     ]
    }
   ],
   "source": [
    "for i , j in zip(a,b):\n",
    "    print(i,j)"
   ]
  },
  {
   "cell_type": "code",
   "execution_count": 72,
   "id": "b774c536-0a5b-467b-b4d7-a2a54242db17",
   "metadata": {},
   "outputs": [],
   "source": [
    "y = np.array([[80,120,40], [60,80,120],[40,40,40]])"
   ]
  },
  {
   "cell_type": "code",
   "execution_count": 74,
   "id": "7dc188fe-0640-4211-90e7-683a6d47cb1c",
   "metadata": {},
   "outputs": [
    {
     "name": "stdout",
     "output_type": "stream",
     "text": [
      "40 4\n",
      "60 1\n",
      "80 2\n",
      "120 2\n"
     ]
    }
   ],
   "source": [
    "a,b = np.unique(y.flatten(), return_counts = True)\n",
    "for i, j in zip(a,b):\n",
    "    print(i,j)"
   ]
  },
  {
   "cell_type": "code",
   "execution_count": 75,
   "id": "20ba8d13-d6db-42e3-93f9-bb39d6e2d069",
   "metadata": {},
   "outputs": [],
   "source": [
    "a = np.array([0,10,20,40,60,80])\n",
    "b = np.array([0,20])"
   ]
  },
  {
   "cell_type": "code",
   "execution_count": 79,
   "id": "794a33b7-c032-489f-9d6c-95c2f517de6d",
   "metadata": {},
   "outputs": [],
   "source": [
    "c = np.empty(0)   #빈 배열 만들기"
   ]
  },
  {
   "cell_type": "code",
   "execution_count": 81,
   "id": "b6db5d40-bfa9-4516-abf3-357cc9c232e2",
   "metadata": {},
   "outputs": [
    {
     "name": "stdout",
     "output_type": "stream",
     "text": [
      "[10. 40. 60. 80.]\n"
     ]
    }
   ],
   "source": [
    "for i in a:\n",
    "    if i not in b:\n",
    "        c = np.append(c,i)\n",
    "print(c)"
   ]
  },
  {
   "cell_type": "code",
   "execution_count": 83,
   "id": "64324281-4ccf-4b98-9859-ad5c0432c5c1",
   "metadata": {},
   "outputs": [
    {
     "name": "stdout",
     "output_type": "stream",
     "text": [
      "[10 40 60 80]\n"
     ]
    }
   ],
   "source": [
    "d = np.setdiff1d(a,b)   #차집합을 구하는 np.setdiff1d\n",
    "print(d)"
   ]
  },
  {
   "cell_type": "code",
   "execution_count": 87,
   "id": "a53d885b-45a7-48ff-a814-8b773552e88c",
   "metadata": {},
   "outputs": [
    {
     "name": "stdin",
     "output_type": "stream",
     "text": [
      "n :  10\n"
     ]
    },
    {
     "name": "stdout",
     "output_type": "stream",
     "text": [
      "[[1 0 0 0 0 0 0 0 0 1]\n",
      " [0 1 0 0 0 0 0 0 1 0]\n",
      " [0 0 1 0 0 0 0 1 0 0]\n",
      " [0 0 0 1 0 0 1 0 0 0]\n",
      " [0 0 0 0 1 1 0 0 0 0]\n",
      " [0 0 0 0 1 1 0 0 0 0]\n",
      " [0 0 0 1 0 0 1 0 0 0]\n",
      " [0 0 1 0 0 0 0 1 0 0]\n",
      " [0 1 0 0 0 0 0 0 1 0]\n",
      " [1 0 0 0 0 0 0 0 0 1]]\n"
     ]
    }
   ],
   "source": [
    "n = int(input(\"n : \"))\n",
    "arr_1 = np.full((n,n),0)\n",
    "for i in range(n):\n",
    "    arr_1[i,i] = 1\n",
    "    arr_1[i,n-i-1] = 1\n",
    "print(arr_1)"
   ]
  },
  {
   "cell_type": "code",
   "execution_count": 93,
   "id": "8f19620a-be8e-401e-a14c-70d08241048c",
   "metadata": {},
   "outputs": [
    {
     "name": "stdin",
     "output_type": "stream",
     "text": [
      "n :  5\n"
     ]
    },
    {
     "name": "stdout",
     "output_type": "stream",
     "text": [
      "[[1 0 0 0 0]\n",
      " [1 1 0 0 0]\n",
      " [1 1 1 0 0]\n",
      " [1 1 1 1 0]\n",
      " [1 1 1 1 1]]\n"
     ]
    }
   ],
   "source": [
    "n = int(input(\"n : \"))\n",
    "arr_2 = np.full((n,n),0)\n",
    "for i in range(n):\n",
    "    arr_2[i,:i+1] =1\n",
    "print(arr_2)"
   ]
  },
  {
   "cell_type": "code",
   "execution_count": 94,
   "id": "bfd46c20-a1bd-454b-8ae8-7d2b3cf50cda",
   "metadata": {},
   "outputs": [
    {
     "data": {
      "text/plain": [
       "15"
      ]
     },
     "execution_count": 94,
     "metadata": {},
     "output_type": "execute_result"
    }
   ],
   "source": [
    "arr_2.sum()"
   ]
  },
  {
   "cell_type": "code",
   "execution_count": 95,
   "id": "dd320950-289e-4193-bed8-d13c08289036",
   "metadata": {},
   "outputs": [
    {
     "data": {
      "text/plain": [
       "array([5, 4, 3, 2, 1])"
      ]
     },
     "execution_count": 95,
     "metadata": {},
     "output_type": "execute_result"
    }
   ],
   "source": [
    "arr_2.sum(axis = 0)"
   ]
  },
  {
   "cell_type": "code",
   "execution_count": 96,
   "id": "793ce6f6-8f97-4a2f-bf7c-1f155524184a",
   "metadata": {},
   "outputs": [
    {
     "data": {
      "text/plain": [
       "array([1, 2, 3, 4, 5])"
      ]
     },
     "execution_count": 96,
     "metadata": {},
     "output_type": "execute_result"
    }
   ],
   "source": [
    "arr_2.sum(axis = 1)"
   ]
  },
  {
   "cell_type": "code",
   "execution_count": 148,
   "id": "449ff6d3-a3c9-4567-b94c-fcc630eda84a",
   "metadata": {},
   "outputs": [],
   "source": [
    "a = np.array([[0,1,2],[3,4,5],[0,2,4],[6,8,10]])\n",
    "b = np.array([[0,1,2,0,2,4],[3,4,5,6,8,10]])"
   ]
  },
  {
   "cell_type": "code",
   "execution_count": 149,
   "id": "43502358-ad0f-4652-bf98-2b8c5e9dce3d",
   "metadata": {},
   "outputs": [
    {
     "data": {
      "text/plain": [
       "array([[ 0,  1,  2],\n",
       "       [ 3,  4,  5],\n",
       "       [ 0,  2,  4],\n",
       "       [ 6,  8, 10]])"
      ]
     },
     "execution_count": 149,
     "metadata": {},
     "output_type": "execute_result"
    }
   ],
   "source": [
    "a   #배열의 형태를 보고 자르기"
   ]
  },
  {
   "cell_type": "code",
   "execution_count": 150,
   "id": "b308d5e6-39fe-4118-88bf-190c220837b3",
   "metadata": {},
   "outputs": [
    {
     "name": "stdout",
     "output_type": "stream",
     "text": [
      "[[0 1 2]\n",
      " [3 4 5]]\n",
      "[[ 0  2  4]\n",
      " [ 6  8 10]]\n"
     ]
    }
   ],
   "source": [
    "a_1 = a[0:2,:]   #배열을 두개로 자르기\n",
    "a_2 = a[2:,:]\n",
    "print(a_1)\n",
    "print(a_2)"
   ]
  },
  {
   "cell_type": "code",
   "execution_count": 151,
   "id": "cab6e4df-eb8c-4190-bfd9-397a63428465",
   "metadata": {},
   "outputs": [
    {
     "data": {
      "text/plain": [
       "array([[ 0,  1,  2,  0,  2,  4],\n",
       "       [ 3,  4,  5,  6,  8, 10]])"
      ]
     },
     "execution_count": 151,
     "metadata": {},
     "output_type": "execute_result"
    }
   ],
   "source": [
    "a = np.concatenate((a_1, a_2), axis = 1)  #column 끼리 합치는 방법\n",
    "a"
   ]
  }
 ],
 "metadata": {
  "kernelspec": {
   "display_name": "Python 3 (ipykernel)",
   "language": "python",
   "name": "python3"
  },
  "language_info": {
   "codemirror_mode": {
    "name": "ipython",
    "version": 3
   },
   "file_extension": ".py",
   "mimetype": "text/x-python",
   "name": "python",
   "nbconvert_exporter": "python",
   "pygments_lexer": "ipython3",
   "version": "3.9.12"
  }
 },
 "nbformat": 4,
 "nbformat_minor": 5
}
