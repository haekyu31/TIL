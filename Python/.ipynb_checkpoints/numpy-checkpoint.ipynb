{
 "cells": [
  {
   "cell_type": "code",
   "execution_count": 2,
   "id": "45bd4bfd-90d9-44dd-bdb4-de1d4b7dfb89",
   "metadata": {},
   "outputs": [
    {
     "name": "stdout",
     "output_type": "stream",
     "text": [
      "Requirement already satisfied: numpy in c:\\users\\haekyu\\anaconda3\\envs\\week1\\lib\\site-packages (1.23.1)\n"
     ]
    }
   ],
   "source": [
    "!pip install numpy"
   ]
  },
  {
   "cell_type": "code",
   "execution_count": 2,
   "id": "ecc61486-c21b-4324-87b8-cf494eefa28a",
   "metadata": {},
   "outputs": [],
   "source": [
    "import numpy as np"
   ]
  },
  {
   "cell_type": "code",
   "execution_count": 4,
   "id": "7f17d569-b1e3-4b3c-a984-ff15e9b909d5",
   "metadata": {},
   "outputs": [],
   "source": [
    "# array 생성\n",
    "arr_1 = np.arange(1000)"
   ]
  },
  {
   "cell_type": "code",
   "execution_count": 5,
   "id": "45ad270a-29cd-4158-ba55-1dae953c957d",
   "metadata": {},
   "outputs": [
    {
     "data": {
      "text/plain": [
       "numpy.ndarray"
      ]
     },
     "execution_count": 5,
     "metadata": {},
     "output_type": "execute_result"
    }
   ],
   "source": [
    "type(arr_1)"
   ]
  },
  {
   "cell_type": "code",
   "execution_count": 6,
   "id": "0ae7e61e-64b3-41d4-a616-5e726da1b32e",
   "metadata": {
    "scrolled": true,
    "tags": []
   },
   "outputs": [
    {
     "data": {
      "text/plain": [
       "array([  0,   1,   2,   3,   4,   5,   6,   7,   8,   9,  10,  11,  12,\n",
       "        13,  14,  15,  16,  17,  18,  19,  20,  21,  22,  23,  24,  25,\n",
       "        26,  27,  28,  29,  30,  31,  32,  33,  34,  35,  36,  37,  38,\n",
       "        39,  40,  41,  42,  43,  44,  45,  46,  47,  48,  49,  50,  51,\n",
       "        52,  53,  54,  55,  56,  57,  58,  59,  60,  61,  62,  63,  64,\n",
       "        65,  66,  67,  68,  69,  70,  71,  72,  73,  74,  75,  76,  77,\n",
       "        78,  79,  80,  81,  82,  83,  84,  85,  86,  87,  88,  89,  90,\n",
       "        91,  92,  93,  94,  95,  96,  97,  98,  99, 100, 101, 102, 103,\n",
       "       104, 105, 106, 107, 108, 109, 110, 111, 112, 113, 114, 115, 116,\n",
       "       117, 118, 119, 120, 121, 122, 123, 124, 125, 126, 127, 128, 129,\n",
       "       130, 131, 132, 133, 134, 135, 136, 137, 138, 139, 140, 141, 142,\n",
       "       143, 144, 145, 146, 147, 148, 149, 150, 151, 152, 153, 154, 155,\n",
       "       156, 157, 158, 159, 160, 161, 162, 163, 164, 165, 166, 167, 168,\n",
       "       169, 170, 171, 172, 173, 174, 175, 176, 177, 178, 179, 180, 181,\n",
       "       182, 183, 184, 185, 186, 187, 188, 189, 190, 191, 192, 193, 194,\n",
       "       195, 196, 197, 198, 199, 200, 201, 202, 203, 204, 205, 206, 207,\n",
       "       208, 209, 210, 211, 212, 213, 214, 215, 216, 217, 218, 219, 220,\n",
       "       221, 222, 223, 224, 225, 226, 227, 228, 229, 230, 231, 232, 233,\n",
       "       234, 235, 236, 237, 238, 239, 240, 241, 242, 243, 244, 245, 246,\n",
       "       247, 248, 249, 250, 251, 252, 253, 254, 255, 256, 257, 258, 259,\n",
       "       260, 261, 262, 263, 264, 265, 266, 267, 268, 269, 270, 271, 272,\n",
       "       273, 274, 275, 276, 277, 278, 279, 280, 281, 282, 283, 284, 285,\n",
       "       286, 287, 288, 289, 290, 291, 292, 293, 294, 295, 296, 297, 298,\n",
       "       299, 300, 301, 302, 303, 304, 305, 306, 307, 308, 309, 310, 311,\n",
       "       312, 313, 314, 315, 316, 317, 318, 319, 320, 321, 322, 323, 324,\n",
       "       325, 326, 327, 328, 329, 330, 331, 332, 333, 334, 335, 336, 337,\n",
       "       338, 339, 340, 341, 342, 343, 344, 345, 346, 347, 348, 349, 350,\n",
       "       351, 352, 353, 354, 355, 356, 357, 358, 359, 360, 361, 362, 363,\n",
       "       364, 365, 366, 367, 368, 369, 370, 371, 372, 373, 374, 375, 376,\n",
       "       377, 378, 379, 380, 381, 382, 383, 384, 385, 386, 387, 388, 389,\n",
       "       390, 391, 392, 393, 394, 395, 396, 397, 398, 399, 400, 401, 402,\n",
       "       403, 404, 405, 406, 407, 408, 409, 410, 411, 412, 413, 414, 415,\n",
       "       416, 417, 418, 419, 420, 421, 422, 423, 424, 425, 426, 427, 428,\n",
       "       429, 430, 431, 432, 433, 434, 435, 436, 437, 438, 439, 440, 441,\n",
       "       442, 443, 444, 445, 446, 447, 448, 449, 450, 451, 452, 453, 454,\n",
       "       455, 456, 457, 458, 459, 460, 461, 462, 463, 464, 465, 466, 467,\n",
       "       468, 469, 470, 471, 472, 473, 474, 475, 476, 477, 478, 479, 480,\n",
       "       481, 482, 483, 484, 485, 486, 487, 488, 489, 490, 491, 492, 493,\n",
       "       494, 495, 496, 497, 498, 499, 500, 501, 502, 503, 504, 505, 506,\n",
       "       507, 508, 509, 510, 511, 512, 513, 514, 515, 516, 517, 518, 519,\n",
       "       520, 521, 522, 523, 524, 525, 526, 527, 528, 529, 530, 531, 532,\n",
       "       533, 534, 535, 536, 537, 538, 539, 540, 541, 542, 543, 544, 545,\n",
       "       546, 547, 548, 549, 550, 551, 552, 553, 554, 555, 556, 557, 558,\n",
       "       559, 560, 561, 562, 563, 564, 565, 566, 567, 568, 569, 570, 571,\n",
       "       572, 573, 574, 575, 576, 577, 578, 579, 580, 581, 582, 583, 584,\n",
       "       585, 586, 587, 588, 589, 590, 591, 592, 593, 594, 595, 596, 597,\n",
       "       598, 599, 600, 601, 602, 603, 604, 605, 606, 607, 608, 609, 610,\n",
       "       611, 612, 613, 614, 615, 616, 617, 618, 619, 620, 621, 622, 623,\n",
       "       624, 625, 626, 627, 628, 629, 630, 631, 632, 633, 634, 635, 636,\n",
       "       637, 638, 639, 640, 641, 642, 643, 644, 645, 646, 647, 648, 649,\n",
       "       650, 651, 652, 653, 654, 655, 656, 657, 658, 659, 660, 661, 662,\n",
       "       663, 664, 665, 666, 667, 668, 669, 670, 671, 672, 673, 674, 675,\n",
       "       676, 677, 678, 679, 680, 681, 682, 683, 684, 685, 686, 687, 688,\n",
       "       689, 690, 691, 692, 693, 694, 695, 696, 697, 698, 699, 700, 701,\n",
       "       702, 703, 704, 705, 706, 707, 708, 709, 710, 711, 712, 713, 714,\n",
       "       715, 716, 717, 718, 719, 720, 721, 722, 723, 724, 725, 726, 727,\n",
       "       728, 729, 730, 731, 732, 733, 734, 735, 736, 737, 738, 739, 740,\n",
       "       741, 742, 743, 744, 745, 746, 747, 748, 749, 750, 751, 752, 753,\n",
       "       754, 755, 756, 757, 758, 759, 760, 761, 762, 763, 764, 765, 766,\n",
       "       767, 768, 769, 770, 771, 772, 773, 774, 775, 776, 777, 778, 779,\n",
       "       780, 781, 782, 783, 784, 785, 786, 787, 788, 789, 790, 791, 792,\n",
       "       793, 794, 795, 796, 797, 798, 799, 800, 801, 802, 803, 804, 805,\n",
       "       806, 807, 808, 809, 810, 811, 812, 813, 814, 815, 816, 817, 818,\n",
       "       819, 820, 821, 822, 823, 824, 825, 826, 827, 828, 829, 830, 831,\n",
       "       832, 833, 834, 835, 836, 837, 838, 839, 840, 841, 842, 843, 844,\n",
       "       845, 846, 847, 848, 849, 850, 851, 852, 853, 854, 855, 856, 857,\n",
       "       858, 859, 860, 861, 862, 863, 864, 865, 866, 867, 868, 869, 870,\n",
       "       871, 872, 873, 874, 875, 876, 877, 878, 879, 880, 881, 882, 883,\n",
       "       884, 885, 886, 887, 888, 889, 890, 891, 892, 893, 894, 895, 896,\n",
       "       897, 898, 899, 900, 901, 902, 903, 904, 905, 906, 907, 908, 909,\n",
       "       910, 911, 912, 913, 914, 915, 916, 917, 918, 919, 920, 921, 922,\n",
       "       923, 924, 925, 926, 927, 928, 929, 930, 931, 932, 933, 934, 935,\n",
       "       936, 937, 938, 939, 940, 941, 942, 943, 944, 945, 946, 947, 948,\n",
       "       949, 950, 951, 952, 953, 954, 955, 956, 957, 958, 959, 960, 961,\n",
       "       962, 963, 964, 965, 966, 967, 968, 969, 970, 971, 972, 973, 974,\n",
       "       975, 976, 977, 978, 979, 980, 981, 982, 983, 984, 985, 986, 987,\n",
       "       988, 989, 990, 991, 992, 993, 994, 995, 996, 997, 998, 999])"
      ]
     },
     "execution_count": 6,
     "metadata": {},
     "output_type": "execute_result"
    }
   ],
   "source": [
    "arr_1"
   ]
  },
  {
   "cell_type": "code",
   "execution_count": 7,
   "id": "b7ad6c3f-4ad3-43d7-b8f6-56442a9860b0",
   "metadata": {},
   "outputs": [],
   "source": [
    "arr2list = list(arr_1)"
   ]
  },
  {
   "cell_type": "code",
   "execution_count": 8,
   "id": "36c832be-0ef7-415f-809b-b70fe2c208d5",
   "metadata": {},
   "outputs": [
    {
     "data": {
      "text/plain": [
       "list"
      ]
     },
     "execution_count": 8,
     "metadata": {},
     "output_type": "execute_result"
    }
   ],
   "source": [
    "type(arr2list)"
   ]
  },
  {
   "cell_type": "code",
   "execution_count": 9,
   "id": "67fcf7f0-596e-4a0e-ac35-89632cfe79a5",
   "metadata": {},
   "outputs": [],
   "source": [
    "list_2=[i for i in range(0,50)]"
   ]
  },
  {
   "cell_type": "code",
   "execution_count": 12,
   "id": "7c05a1f9-864b-47ff-ad71-7fdcca6da7c6",
   "metadata": {},
   "outputs": [],
   "source": [
    "arr_2 = np.array(list_2)"
   ]
  },
  {
   "cell_type": "code",
   "execution_count": 13,
   "id": "8f5bd42b-52fd-409b-9700-03f965f5e57b",
   "metadata": {},
   "outputs": [
    {
     "data": {
      "text/plain": [
       "numpy.ndarray"
      ]
     },
     "execution_count": 13,
     "metadata": {},
     "output_type": "execute_result"
    }
   ],
   "source": [
    "type(arr_2)"
   ]
  },
  {
   "cell_type": "code",
   "execution_count": 14,
   "id": "eec37d35-8873-4bcb-85e3-d33562f31887",
   "metadata": {},
   "outputs": [],
   "source": [
    "list_3 = [\"1\", \"2\", \"3\"]"
   ]
  },
  {
   "cell_type": "code",
   "execution_count": 15,
   "id": "9fba87cd-827c-40a6-9c45-56d93c8c8b90",
   "metadata": {},
   "outputs": [],
   "source": [
    "arr_3 = np.array(list_3)"
   ]
  },
  {
   "cell_type": "code",
   "execution_count": 16,
   "id": "57002a40-4c0e-4133-b09b-0ca8416499a4",
   "metadata": {},
   "outputs": [
    {
     "data": {
      "text/plain": [
       "numpy.ndarray"
      ]
     },
     "execution_count": 16,
     "metadata": {},
     "output_type": "execute_result"
    }
   ],
   "source": [
    "type(arr_3)"
   ]
  },
  {
   "cell_type": "code",
   "execution_count": 17,
   "id": "1014e9c0-4b8d-44d7-a7fd-bb1505406059",
   "metadata": {},
   "outputs": [
    {
     "data": {
      "text/plain": [
       "array([ 2,  3,  4,  5,  6,  7,  8,  9, 10, 11, 12, 13, 14, 15, 16, 17, 18,\n",
       "       19, 20, 21, 22, 23, 24, 25, 26, 27, 28, 29, 30, 31, 32, 33, 34, 35,\n",
       "       36, 37, 38, 39, 40, 41, 42, 43, 44, 45, 46, 47, 48, 49, 50, 51])"
      ]
     },
     "execution_count": 17,
     "metadata": {},
     "output_type": "execute_result"
    }
   ],
   "source": [
    "arr_2 +2 #숫자열이니까 가능하다"
   ]
  },
  {
   "cell_type": "code",
   "execution_count": 18,
   "id": "d6d32f5c-ae82-4772-a824-a5957ded1740",
   "metadata": {},
   "outputs": [
    {
     "ename": "UFuncTypeError",
     "evalue": "ufunc 'add' did not contain a loop with signature matching types (dtype('<U1'), dtype('int32')) -> None",
     "output_type": "error",
     "traceback": [
      "\u001b[1;31m---------------------------------------------------------------------------\u001b[0m",
      "\u001b[1;31mUFuncTypeError\u001b[0m                            Traceback (most recent call last)",
      "Input \u001b[1;32mIn [18]\u001b[0m, in \u001b[0;36m<cell line: 1>\u001b[1;34m()\u001b[0m\n\u001b[1;32m----> 1\u001b[0m \u001b[43marr_3\u001b[49m\u001b[43m \u001b[49m\u001b[38;5;241;43m+\u001b[39;49m\u001b[38;5;241;43m2\u001b[39;49m\n",
      "\u001b[1;31mUFuncTypeError\u001b[0m: ufunc 'add' did not contain a loop with signature matching types (dtype('<U1'), dtype('int32')) -> None"
     ]
    }
   ],
   "source": [
    "arr_3 +2  # 문자열이라서 안된다"
   ]
  },
  {
   "cell_type": "code",
   "execution_count": 54,
   "id": "24a3b0cb-24e2-409d-a2d9-59693dbf7d4c",
   "metadata": {},
   "outputs": [],
   "source": [
    "my_arr = np.arange(1000000)"
   ]
  },
  {
   "cell_type": "code",
   "execution_count": 55,
   "id": "6c8f2640-4481-4983-abd5-daa774c95f46",
   "metadata": {},
   "outputs": [],
   "source": [
    "my_list = list(np.arange(1000000))"
   ]
  },
  {
   "cell_type": "code",
   "execution_count": 56,
   "id": "bc938c80-ac58-448f-838b-7c6e24a36347",
   "metadata": {},
   "outputs": [
    {
     "name": "stdout",
     "output_type": "stream",
     "text": [
      "CPU times: total: 93.8 ms\n",
      "Wall time: 97.9 ms\n"
     ]
    }
   ],
   "source": [
    "%time for _ in range(100) : my_arr2 = my_arr*2"
   ]
  },
  {
   "cell_type": "code",
   "execution_count": 57,
   "id": "eceb1192-d2b9-483d-bde8-cb8b11f21365",
   "metadata": {},
   "outputs": [
    {
     "name": "stdout",
     "output_type": "stream",
     "text": [
      "CPU times: total: 6.27 s\n",
      "Wall time: 6.26 s\n"
     ]
    }
   ],
   "source": [
    "%time for _ in range(100) : my_list2 = [i*2 for i in my_list]"
   ]
  },
  {
   "cell_type": "code",
   "execution_count": 58,
   "id": "e768f602-8dab-4211-bea0-5dd48ab0ad6b",
   "metadata": {},
   "outputs": [],
   "source": [
    "#array 생성"
   ]
  },
  {
   "cell_type": "code",
   "execution_count": 59,
   "id": "e2dae2d8-d042-434d-a2a8-f397f071e3e8",
   "metadata": {},
   "outputs": [],
   "source": [
    "data_1 = [6,7,8,9]"
   ]
  },
  {
   "cell_type": "code",
   "execution_count": 60,
   "id": "bdafc881-bcfc-48f8-9977-6ff69f24a47d",
   "metadata": {},
   "outputs": [
    {
     "data": {
      "text/plain": [
       "list"
      ]
     },
     "execution_count": 60,
     "metadata": {},
     "output_type": "execute_result"
    }
   ],
   "source": [
    "type(data_1)"
   ]
  },
  {
   "cell_type": "code",
   "execution_count": 61,
   "id": "9e97024e-8bbe-4643-9344-fa2287777267",
   "metadata": {},
   "outputs": [],
   "source": [
    "arr_1 = np.array(data_1)"
   ]
  },
  {
   "cell_type": "code",
   "execution_count": 62,
   "id": "a9f948d8-0962-4249-8952-c992aa143c20",
   "metadata": {},
   "outputs": [
    {
     "data": {
      "text/plain": [
       "array([6, 7, 8, 9])"
      ]
     },
     "execution_count": 62,
     "metadata": {},
     "output_type": "execute_result"
    }
   ],
   "source": [
    "arr_1"
   ]
  },
  {
   "cell_type": "code",
   "execution_count": 63,
   "id": "39301d4a-4307-40d8-9c4e-71c06c4240a6",
   "metadata": {},
   "outputs": [],
   "source": [
    "data_2 = [1,2]"
   ]
  },
  {
   "cell_type": "code",
   "execution_count": 64,
   "id": "08503c9d-9bcb-4765-8429-9782a69ac813",
   "metadata": {},
   "outputs": [],
   "source": [
    "arr_2 = np.array(data_2)"
   ]
  },
  {
   "cell_type": "code",
   "execution_count": 65,
   "id": "b85ea777-cf74-4806-92c4-55b8ae3186e1",
   "metadata": {},
   "outputs": [
    {
     "data": {
      "text/plain": [
       "array([1, 2])"
      ]
     },
     "execution_count": 65,
     "metadata": {},
     "output_type": "execute_result"
    }
   ],
   "source": [
    "arr_2 #벡터"
   ]
  },
  {
   "cell_type": "code",
   "execution_count": 66,
   "id": "a8ff6dce-b1b1-4264-bae0-9babb34e021d",
   "metadata": {},
   "outputs": [],
   "source": [
    "data_3 = [1,2,3]"
   ]
  },
  {
   "cell_type": "code",
   "execution_count": 67,
   "id": "dfc68f11-5834-46af-9af0-1c79d84ffeae",
   "metadata": {},
   "outputs": [],
   "source": [
    "arr_3 = np.array(data_3)"
   ]
  },
  {
   "cell_type": "code",
   "execution_count": 68,
   "id": "63fbfc4e-3728-422a-8767-7dd42a63cb25",
   "metadata": {},
   "outputs": [
    {
     "data": {
      "text/plain": [
       "array([1, 2, 3])"
      ]
     },
     "execution_count": 68,
     "metadata": {},
     "output_type": "execute_result"
    }
   ],
   "source": [
    "arr_3"
   ]
  },
  {
   "cell_type": "code",
   "execution_count": 69,
   "id": "046223fb-42e1-437e-9e16-b32eddf2aee7",
   "metadata": {},
   "outputs": [
    {
     "data": {
      "text/plain": [
       "1"
      ]
     },
     "execution_count": 69,
     "metadata": {},
     "output_type": "execute_result"
    }
   ],
   "source": [
    "arr_3.ndim"
   ]
  },
  {
   "cell_type": "code",
   "execution_count": 70,
   "id": "d7f6ecbe-8f27-477f-a09b-d5cf57b99e8c",
   "metadata": {},
   "outputs": [
    {
     "data": {
      "text/plain": [
       "1"
      ]
     },
     "execution_count": 70,
     "metadata": {},
     "output_type": "execute_result"
    }
   ],
   "source": [
    "arr_2.ndim"
   ]
  },
  {
   "cell_type": "code",
   "execution_count": 71,
   "id": "df2059f5-6fca-4110-b7b6-e41f94b84386",
   "metadata": {},
   "outputs": [],
   "source": [
    "data_4 = [4,5,6]"
   ]
  },
  {
   "cell_type": "code",
   "execution_count": 72,
   "id": "41230aaf-ec77-44fa-bcff-0ff92bd05eb4",
   "metadata": {},
   "outputs": [],
   "source": [
    "arr_4 = np.array(data_4)"
   ]
  },
  {
   "cell_type": "code",
   "execution_count": 73,
   "id": "9f5febeb-8423-4a41-a79a-7d632024f264",
   "metadata": {},
   "outputs": [],
   "source": [
    "data_5 = [data_3, data_4]"
   ]
  },
  {
   "cell_type": "code",
   "execution_count": 74,
   "id": "adbd869e-876c-45ca-aeb3-ec12ab85e9bf",
   "metadata": {},
   "outputs": [],
   "source": [
    "arr_5 = np.array(data_5)"
   ]
  },
  {
   "cell_type": "code",
   "execution_count": 75,
   "id": "a6aa7ca5-66bf-4e1b-9a6f-5fddf2698f2a",
   "metadata": {},
   "outputs": [
    {
     "data": {
      "text/plain": [
       "array([[1, 2, 3],\n",
       "       [4, 5, 6]])"
      ]
     },
     "execution_count": 75,
     "metadata": {},
     "output_type": "execute_result"
    }
   ],
   "source": [
    "arr_5"
   ]
  },
  {
   "cell_type": "code",
   "execution_count": 76,
   "id": "10346684-3177-4f7a-8243-5772d3e977b0",
   "metadata": {},
   "outputs": [
    {
     "data": {
      "text/plain": [
       "2"
      ]
     },
     "execution_count": 76,
     "metadata": {},
     "output_type": "execute_result"
    }
   ],
   "source": [
    "arr_5.ndim"
   ]
  },
  {
   "cell_type": "code",
   "execution_count": 77,
   "id": "ad7a7183-66fb-406f-b8d3-e05d7de90e47",
   "metadata": {},
   "outputs": [],
   "source": [
    "data_6 = [[[1,2,3],[4,5,6]],[[7,8,9],[10,11,12]]]"
   ]
  },
  {
   "cell_type": "code",
   "execution_count": 78,
   "id": "5503342c-4228-4cd5-be85-f00815fec95d",
   "metadata": {},
   "outputs": [],
   "source": [
    "arr_6 = np.array(data_6)"
   ]
  },
  {
   "cell_type": "code",
   "execution_count": 79,
   "id": "f137ebc8-5fa6-4a43-a29f-2a602d4a9afb",
   "metadata": {},
   "outputs": [
    {
     "data": {
      "text/plain": [
       "array([[[ 1,  2,  3],\n",
       "        [ 4,  5,  6]],\n",
       "\n",
       "       [[ 7,  8,  9],\n",
       "        [10, 11, 12]]])"
      ]
     },
     "execution_count": 79,
     "metadata": {},
     "output_type": "execute_result"
    }
   ],
   "source": [
    "arr_6"
   ]
  },
  {
   "cell_type": "code",
   "execution_count": 80,
   "id": "7efb9039-7a84-4ea8-b970-a2390f42e02b",
   "metadata": {},
   "outputs": [
    {
     "data": {
      "text/plain": [
       "3"
      ]
     },
     "execution_count": 80,
     "metadata": {},
     "output_type": "execute_result"
    }
   ],
   "source": [
    "arr_6.ndim"
   ]
  },
  {
   "cell_type": "code",
   "execution_count": 81,
   "id": "572838cc-a857-4c5c-9cf2-c2ba5ebd8c02",
   "metadata": {},
   "outputs": [],
   "source": [
    "#참고 매트릭스생성함수 \n",
    "#np.mat 매트릭스 생성할수 있지만 생성하지 않는다."
   ]
  },
  {
   "cell_type": "code",
   "execution_count": 64,
   "id": "6c2332dc-775a-4019-8989-1d7db4fcf564",
   "metadata": {},
   "outputs": [
    {
     "data": {
      "text/plain": [
       "array([[-0.90738907, -0.41963569,  1.67630353, -0.08659508, -0.78957147]])"
      ]
     },
     "execution_count": 64,
     "metadata": {},
     "output_type": "execute_result"
    }
   ],
   "source": [
    "np.random.randn(1,5)"
   ]
  },
  {
   "cell_type": "code",
   "execution_count": 65,
   "id": "c94e5dbb-1b80-45f3-a44d-c57b1c62381b",
   "metadata": {},
   "outputs": [
    {
     "data": {
      "text/plain": [
       "array([[-0.90619598,  0.3202456 , -0.40621719, -0.85497291, -1.96359796],\n",
       "       [ 0.57591978, -0.05719656, -2.1447904 ,  1.34212853,  0.92065177],\n",
       "       [-0.18145273, -1.21281962,  0.33545526, -1.2451226 ,  3.28991154]])"
      ]
     },
     "execution_count": 65,
     "metadata": {},
     "output_type": "execute_result"
    }
   ],
   "source": [
    "np.random.randn(3,5)"
   ]
  },
  {
   "cell_type": "code",
   "execution_count": 66,
   "id": "89fdb7fd-0f26-46d2-904c-f02681ce693e",
   "metadata": {},
   "outputs": [],
   "source": [
    "# 빈리스트 = []\n",
    "# 숫자 초기화 = 0 또는 1로 초기화\n",
    "#랜덤하게 할때 사용한다\n",
    "# np.random.randn() 랜덤하게 뽑기 위해서"
   ]
  },
  {
   "cell_type": "code",
   "execution_count": null,
   "id": "dea53e55-5e75-4d42-89c9-9668e8ce21f0",
   "metadata": {},
   "outputs": [],
   "source": [
    "#np.full 특정 값으로 채워 넣는다."
   ]
  },
  {
   "cell_type": "code",
   "execution_count": 68,
   "id": "64ff6453-8e21-4f58-9cd6-9e77772edf92",
   "metadata": {},
   "outputs": [],
   "source": [
    "arr_7 = np.zeros(10)"
   ]
  },
  {
   "cell_type": "code",
   "execution_count": 69,
   "id": "fb9ebc6d-d620-40d1-a4a0-504f576325da",
   "metadata": {},
   "outputs": [
    {
     "data": {
      "text/plain": [
       "array([0., 0., 0., 0., 0., 0., 0., 0., 0., 0.])"
      ]
     },
     "execution_count": 69,
     "metadata": {},
     "output_type": "execute_result"
    }
   ],
   "source": [
    "arr_7"
   ]
  },
  {
   "cell_type": "code",
   "execution_count": 70,
   "id": "3b471256-856c-45f2-bb6f-ae5b2e32a6d6",
   "metadata": {},
   "outputs": [],
   "source": [
    "arr_8 = np.zeros((10,10))"
   ]
  },
  {
   "cell_type": "code",
   "execution_count": 72,
   "id": "557ef681-252a-43c2-9a39-a9220563fac6",
   "metadata": {},
   "outputs": [
    {
     "data": {
      "text/plain": [
       "array([[0., 0., 0., 0., 0., 0., 0., 0., 0., 0.],\n",
       "       [0., 0., 0., 0., 0., 0., 0., 0., 0., 0.],\n",
       "       [0., 0., 0., 0., 0., 0., 0., 0., 0., 0.],\n",
       "       [0., 0., 0., 0., 0., 0., 0., 0., 0., 0.],\n",
       "       [0., 0., 0., 0., 0., 0., 0., 0., 0., 0.],\n",
       "       [0., 0., 0., 0., 0., 0., 0., 0., 0., 0.],\n",
       "       [0., 0., 0., 0., 0., 0., 0., 0., 0., 0.],\n",
       "       [0., 0., 0., 0., 0., 0., 0., 0., 0., 0.],\n",
       "       [0., 0., 0., 0., 0., 0., 0., 0., 0., 0.],\n",
       "       [0., 0., 0., 0., 0., 0., 0., 0., 0., 0.]])"
      ]
     },
     "execution_count": 72,
     "metadata": {},
     "output_type": "execute_result"
    }
   ],
   "source": [
    "arr_8 #10x10이 0으로 채워진행렬"
   ]
  },
  {
   "cell_type": "code",
   "execution_count": 73,
   "id": "aa4e8767-ef82-47e4-aa79-b1bdfa015b30",
   "metadata": {},
   "outputs": [],
   "source": [
    "arr_9 = np.zeros((10,10,3))"
   ]
  },
  {
   "cell_type": "code",
   "execution_count": 74,
   "id": "4c09b0e5-6236-4196-894f-4b49ca0422e8",
   "metadata": {},
   "outputs": [
    {
     "data": {
      "text/plain": [
       "array([[[0., 0., 0.],\n",
       "        [0., 0., 0.],\n",
       "        [0., 0., 0.],\n",
       "        [0., 0., 0.],\n",
       "        [0., 0., 0.],\n",
       "        [0., 0., 0.],\n",
       "        [0., 0., 0.],\n",
       "        [0., 0., 0.],\n",
       "        [0., 0., 0.],\n",
       "        [0., 0., 0.]],\n",
       "\n",
       "       [[0., 0., 0.],\n",
       "        [0., 0., 0.],\n",
       "        [0., 0., 0.],\n",
       "        [0., 0., 0.],\n",
       "        [0., 0., 0.],\n",
       "        [0., 0., 0.],\n",
       "        [0., 0., 0.],\n",
       "        [0., 0., 0.],\n",
       "        [0., 0., 0.],\n",
       "        [0., 0., 0.]],\n",
       "\n",
       "       [[0., 0., 0.],\n",
       "        [0., 0., 0.],\n",
       "        [0., 0., 0.],\n",
       "        [0., 0., 0.],\n",
       "        [0., 0., 0.],\n",
       "        [0., 0., 0.],\n",
       "        [0., 0., 0.],\n",
       "        [0., 0., 0.],\n",
       "        [0., 0., 0.],\n",
       "        [0., 0., 0.]],\n",
       "\n",
       "       [[0., 0., 0.],\n",
       "        [0., 0., 0.],\n",
       "        [0., 0., 0.],\n",
       "        [0., 0., 0.],\n",
       "        [0., 0., 0.],\n",
       "        [0., 0., 0.],\n",
       "        [0., 0., 0.],\n",
       "        [0., 0., 0.],\n",
       "        [0., 0., 0.],\n",
       "        [0., 0., 0.]],\n",
       "\n",
       "       [[0., 0., 0.],\n",
       "        [0., 0., 0.],\n",
       "        [0., 0., 0.],\n",
       "        [0., 0., 0.],\n",
       "        [0., 0., 0.],\n",
       "        [0., 0., 0.],\n",
       "        [0., 0., 0.],\n",
       "        [0., 0., 0.],\n",
       "        [0., 0., 0.],\n",
       "        [0., 0., 0.]],\n",
       "\n",
       "       [[0., 0., 0.],\n",
       "        [0., 0., 0.],\n",
       "        [0., 0., 0.],\n",
       "        [0., 0., 0.],\n",
       "        [0., 0., 0.],\n",
       "        [0., 0., 0.],\n",
       "        [0., 0., 0.],\n",
       "        [0., 0., 0.],\n",
       "        [0., 0., 0.],\n",
       "        [0., 0., 0.]],\n",
       "\n",
       "       [[0., 0., 0.],\n",
       "        [0., 0., 0.],\n",
       "        [0., 0., 0.],\n",
       "        [0., 0., 0.],\n",
       "        [0., 0., 0.],\n",
       "        [0., 0., 0.],\n",
       "        [0., 0., 0.],\n",
       "        [0., 0., 0.],\n",
       "        [0., 0., 0.],\n",
       "        [0., 0., 0.]],\n",
       "\n",
       "       [[0., 0., 0.],\n",
       "        [0., 0., 0.],\n",
       "        [0., 0., 0.],\n",
       "        [0., 0., 0.],\n",
       "        [0., 0., 0.],\n",
       "        [0., 0., 0.],\n",
       "        [0., 0., 0.],\n",
       "        [0., 0., 0.],\n",
       "        [0., 0., 0.],\n",
       "        [0., 0., 0.]],\n",
       "\n",
       "       [[0., 0., 0.],\n",
       "        [0., 0., 0.],\n",
       "        [0., 0., 0.],\n",
       "        [0., 0., 0.],\n",
       "        [0., 0., 0.],\n",
       "        [0., 0., 0.],\n",
       "        [0., 0., 0.],\n",
       "        [0., 0., 0.],\n",
       "        [0., 0., 0.],\n",
       "        [0., 0., 0.]],\n",
       "\n",
       "       [[0., 0., 0.],\n",
       "        [0., 0., 0.],\n",
       "        [0., 0., 0.],\n",
       "        [0., 0., 0.],\n",
       "        [0., 0., 0.],\n",
       "        [0., 0., 0.],\n",
       "        [0., 0., 0.],\n",
       "        [0., 0., 0.],\n",
       "        [0., 0., 0.],\n",
       "        [0., 0., 0.]]])"
      ]
     },
     "execution_count": 74,
     "metadata": {},
     "output_type": "execute_result"
    }
   ],
   "source": [
    "arr_9"
   ]
  },
  {
   "cell_type": "code",
   "execution_count": 75,
   "id": "bcc59f7d-d17d-4c9b-8f4b-c2ce2767a038",
   "metadata": {},
   "outputs": [
    {
     "data": {
      "text/plain": [
       "(10, 10, 3)"
      ]
     },
     "execution_count": 75,
     "metadata": {},
     "output_type": "execute_result"
    }
   ],
   "source": [
    "arr_9.shape"
   ]
  },
  {
   "cell_type": "code",
   "execution_count": 76,
   "id": "75888519-5b61-4893-85f5-ecad76bcb2a1",
   "metadata": {},
   "outputs": [
    {
     "data": {
      "text/plain": [
       "(10, 10)"
      ]
     },
     "execution_count": 76,
     "metadata": {},
     "output_type": "execute_result"
    }
   ],
   "source": [
    "arr_8.shape"
   ]
  },
  {
   "cell_type": "code",
   "execution_count": 77,
   "id": "3c466226-6a33-44fe-ad94-ba58ccee2e36",
   "metadata": {},
   "outputs": [
    {
     "data": {
      "text/plain": [
       "(10,)"
      ]
     },
     "execution_count": 77,
     "metadata": {},
     "output_type": "execute_result"
    }
   ],
   "source": [
    "arr_7.shape"
   ]
  },
  {
   "cell_type": "code",
   "execution_count": 78,
   "id": "2d098fad-ecbe-4242-a8fd-6be22e93937c",
   "metadata": {},
   "outputs": [
    {
     "data": {
      "text/plain": [
       "(2, 2, 3)"
      ]
     },
     "execution_count": 78,
     "metadata": {},
     "output_type": "execute_result"
    }
   ],
   "source": [
    "arr_6.shape"
   ]
  },
  {
   "cell_type": "code",
   "execution_count": 79,
   "id": "78c57439-2c1e-4995-ad61-ab8dc4db1abf",
   "metadata": {},
   "outputs": [],
   "source": [
    "#shape으로 데이터 형태를 확인한다 먼저 확인해본다"
   ]
  },
  {
   "cell_type": "code",
   "execution_count": 90,
   "id": "dab7ca80-e444-4bad-9021-fbfbe7bfe1b6",
   "metadata": {},
   "outputs": [],
   "source": [
    "arr_10 = np.empty((3,4))"
   ]
  },
  {
   "cell_type": "code",
   "execution_count": 91,
   "id": "4e56755e-d644-4727-8713-66d3e58e92ce",
   "metadata": {},
   "outputs": [
    {
     "data": {
      "text/plain": [
       "array([[1.14092603e-311, 2.91498731e-322, 0.00000000e+000,\n",
       "        0.00000000e+000],\n",
       "       [1.16709769e-312, 1.16095484e-028, 1.50034775e-076,\n",
       "        9.34634029e+218],\n",
       "       [2.24624617e-057, 8.93168689e+271, 4.98131536e+151,\n",
       "        1.94920670e-153]])"
      ]
     },
     "execution_count": 91,
     "metadata": {},
     "output_type": "execute_result"
    }
   ],
   "source": [
    "arr_10"
   ]
  },
  {
   "cell_type": "code",
   "execution_count": 92,
   "id": "43c2a03d-79d9-4b0e-a864-8b6fd27f4393",
   "metadata": {},
   "outputs": [
    {
     "data": {
      "text/plain": [
       "array([[0, 0, 0, 0],\n",
       "       [0, 0, 0, 0],\n",
       "       [0, 0, 0, 0]])"
      ]
     },
     "execution_count": 92,
     "metadata": {},
     "output_type": "execute_result"
    }
   ],
   "source": [
    "np.full((3,4), 0)"
   ]
  },
  {
   "cell_type": "code",
   "execution_count": 93,
   "id": "5ece5636-e5d8-4420-976b-eda80dfb72ea",
   "metadata": {},
   "outputs": [
    {
     "data": {
      "text/plain": [
       "array([[2, 2, 2, 2],\n",
       "       [2, 2, 2, 2],\n",
       "       [2, 2, 2, 2]])"
      ]
     },
     "execution_count": 93,
     "metadata": {},
     "output_type": "execute_result"
    }
   ],
   "source": [
    "np.full((3,4), 2)"
   ]
  },
  {
   "cell_type": "code",
   "execution_count": 85,
   "id": "dbf7abf3-be40-4d24-9c61-c6db980679af",
   "metadata": {},
   "outputs": [],
   "source": [
    "# numpy 배열의 산술 연산\n",
    "# numpy 배열은 반복문을 작성하지 않고 데이터를 일괄처리 할수 있다\n",
    "#벡터화 기능\n"
   ]
  },
  {
   "cell_type": "code",
   "execution_count": 86,
   "id": "2807eabe-9231-4c24-80b4-5e83282190dc",
   "metadata": {},
   "outputs": [],
   "source": [
    "arr_1 = np.array([[1,2,3],[4,5,6]])"
   ]
  },
  {
   "cell_type": "code",
   "execution_count": 88,
   "id": "ea7d84b3-4daa-4b18-b6ea-4fd07260ca6d",
   "metadata": {},
   "outputs": [
    {
     "data": {
      "text/plain": [
       "array([[ 1,  4,  9],\n",
       "       [16, 25, 36]])"
      ]
     },
     "execution_count": 88,
     "metadata": {},
     "output_type": "execute_result"
    }
   ],
   "source": [
    "arr_1 *arr_1 #요소 곱"
   ]
  },
  {
   "cell_type": "code",
   "execution_count": 89,
   "id": "b2bad3ad-0a30-449e-8315-2ab7a2fb40f7",
   "metadata": {},
   "outputs": [
    {
     "data": {
      "text/plain": [
       "array([[ 2,  4,  6],\n",
       "       [ 8, 10, 12]])"
      ]
     },
     "execution_count": 89,
     "metadata": {},
     "output_type": "execute_result"
    }
   ],
   "source": [
    "#덧셈\n",
    "arr_1 +arr_1"
   ]
  },
  {
   "cell_type": "code",
   "execution_count": 90,
   "id": "f20dd55e-1cd8-43ce-b5df-98b43f2884ca",
   "metadata": {},
   "outputs": [
    {
     "data": {
      "text/plain": [
       "array([[1., 1., 1.],\n",
       "       [1., 1., 1.]])"
      ]
     },
     "execution_count": 90,
     "metadata": {},
     "output_type": "execute_result"
    }
   ],
   "source": [
    "#나눗셈\n",
    "arr_1 / arr_1"
   ]
  },
  {
   "cell_type": "code",
   "execution_count": 91,
   "id": "d9e4089d-59c4-4104-9fd3-79095b52d630",
   "metadata": {},
   "outputs": [
    {
     "data": {
      "text/plain": [
       "array([[ True,  True,  True],\n",
       "       [ True,  True,  True]])"
      ]
     },
     "execution_count": 91,
     "metadata": {},
     "output_type": "execute_result"
    }
   ],
   "source": [
    "#비교연산자 사용가능\n",
    "arr_1>= arr_1"
   ]
  },
  {
   "cell_type": "code",
   "execution_count": 99,
   "id": "c4047c40-50d9-44b2-a706-10355d17e47e",
   "metadata": {},
   "outputs": [],
   "source": [
    "#행렬곱 길이가 맞아야 함"
   ]
  },
  {
   "cell_type": "code",
   "execution_count": 102,
   "id": "71f9d36b-2a68-4dcd-8355-d62f496fb120",
   "metadata": {},
   "outputs": [],
   "source": [
    "arr_2 = np.array([[1,2,3],[4,5,6]])\n",
    "arr_3 = np.array([[7,10],[8,11],[9,12]])    "
   ]
  },
  {
   "cell_type": "code",
   "execution_count": 105,
   "id": "d16954eb-8936-429f-83c9-f903aeac822e",
   "metadata": {},
   "outputs": [
    {
     "data": {
      "text/plain": [
       "array([[ 50,  68],\n",
       "       [122, 167]])"
      ]
     },
     "execution_count": 105,
     "metadata": {},
     "output_type": "execute_result"
    }
   ],
   "source": [
    "np.dot(arr_2, arr_3)  #행렬곱을 해주는 np.dot()"
   ]
  },
  {
   "cell_type": "code",
   "execution_count": 110,
   "id": "1f53a7ad-7575-486f-a97e-131f65ecb7cd",
   "metadata": {},
   "outputs": [],
   "source": [
    "arr_1 = np.arange(10)"
   ]
  },
  {
   "cell_type": "code",
   "execution_count": 111,
   "id": "60a3f4b5-cdc8-4c00-b776-6b93b85214f5",
   "metadata": {},
   "outputs": [
    {
     "data": {
      "text/plain": [
       "array([0, 1, 2, 3, 4, 5, 6, 7, 8, 9])"
      ]
     },
     "execution_count": 111,
     "metadata": {},
     "output_type": "execute_result"
    }
   ],
   "source": [
    "arr_1"
   ]
  },
  {
   "cell_type": "code",
   "execution_count": 114,
   "id": "b938e3ad-00e1-4589-91a9-a31ba3893da8",
   "metadata": {},
   "outputs": [
    {
     "data": {
      "text/plain": [
       "5"
      ]
     },
     "execution_count": 114,
     "metadata": {},
     "output_type": "execute_result"
    }
   ],
   "source": [
    "arr_1[5]"
   ]
  },
  {
   "cell_type": "code",
   "execution_count": 116,
   "id": "73e3d647-c42b-48b9-bbd3-acb023039c15",
   "metadata": {},
   "outputs": [
    {
     "data": {
      "text/plain": [
       "array([5, 6, 7])"
      ]
     },
     "execution_count": 116,
     "metadata": {},
     "output_type": "execute_result"
    }
   ],
   "source": [
    "arr_1[5:8]"
   ]
  },
  {
   "cell_type": "code",
   "execution_count": 118,
   "id": "5d6770c5-a057-438a-ad0f-58994de20067",
   "metadata": {},
   "outputs": [
    {
     "data": {
      "text/plain": [
       "array([9])"
      ]
     },
     "execution_count": 118,
     "metadata": {},
     "output_type": "execute_result"
    }
   ],
   "source": [
    "arr_1[-1:]"
   ]
  },
  {
   "cell_type": "code",
   "execution_count": 121,
   "id": "d3a4fae8-89d2-4557-9f2f-62bc1efdcb44",
   "metadata": {},
   "outputs": [],
   "source": [
    "arr_2 = np.array([[1,2,3,4],[5,6,7,8],[9,10,11,12],[13,14,15,16],[17,18,19,20]])"
   ]
  },
  {
   "cell_type": "code",
   "execution_count": 122,
   "id": "93a7d66d-195d-4561-bfc4-d0fa457fa67c",
   "metadata": {},
   "outputs": [
    {
     "data": {
      "text/plain": [
       "array([[ 1,  2,  3,  4],\n",
       "       [ 5,  6,  7,  8],\n",
       "       [ 9, 10, 11, 12],\n",
       "       [13, 14, 15, 16],\n",
       "       [17, 18, 19, 20]])"
      ]
     },
     "execution_count": 122,
     "metadata": {},
     "output_type": "execute_result"
    }
   ],
   "source": [
    "arr_2"
   ]
  },
  {
   "cell_type": "code",
   "execution_count": 124,
   "id": "f6cb0327-a23a-4796-8f8d-18ffb0b664c1",
   "metadata": {},
   "outputs": [
    {
     "data": {
      "text/plain": [
       "(5, 4)"
      ]
     },
     "execution_count": 124,
     "metadata": {},
     "output_type": "execute_result"
    }
   ],
   "source": [
    "arr_2.shape"
   ]
  },
  {
   "cell_type": "code",
   "execution_count": 125,
   "id": "c4d13c03-e62f-44a2-9738-f3e8d31e99ea",
   "metadata": {},
   "outputs": [
    {
     "data": {
      "text/plain": [
       "array([ 4,  8, 12, 16, 20])"
      ]
     },
     "execution_count": 125,
     "metadata": {},
     "output_type": "execute_result"
    }
   ],
   "source": [
    "arr_2[:,-1]  # :전체    -1마지막"
   ]
  },
  {
   "cell_type": "code",
   "execution_count": 126,
   "id": "349aeb56-b925-4126-be9a-75a1dedafeaa",
   "metadata": {},
   "outputs": [
    {
     "data": {
      "text/plain": [
       "(5,)"
      ]
     },
     "execution_count": 126,
     "metadata": {},
     "output_type": "execute_result"
    }
   ],
   "source": [
    "arr_2[:,-1].shape"
   ]
  },
  {
   "cell_type": "code",
   "execution_count": 127,
   "id": "299d487e-d31d-42e3-a03e-c9c075d1816a",
   "metadata": {},
   "outputs": [
    {
     "data": {
      "text/plain": [
       "(5, 1)"
      ]
     },
     "execution_count": 127,
     "metadata": {},
     "output_type": "execute_result"
    }
   ],
   "source": [
    "arr_2[:,-1:].shape"
   ]
  },
  {
   "cell_type": "code",
   "execution_count": 128,
   "id": "50104f31-13eb-4c5e-8ff8-a6bd1d9bcaee",
   "metadata": {},
   "outputs": [
    {
     "data": {
      "text/plain": [
       "array([[ 4],\n",
       "       [ 8],\n",
       "       [12],\n",
       "       [16],\n",
       "       [20]])"
      ]
     },
     "execution_count": 128,
     "metadata": {},
     "output_type": "execute_result"
    }
   ],
   "source": [
    "arr_2[:,-1:]"
   ]
  },
  {
   "cell_type": "code",
   "execution_count": 130,
   "id": "e9b91946-3aae-40c5-bb9a-e802987f9602",
   "metadata": {},
   "outputs": [
    {
     "data": {
      "text/plain": [
       "array([[[ 0,  1,  2,  3],\n",
       "        [ 4,  5,  6,  7]],\n",
       "\n",
       "       [[ 8,  9, 10, 11],\n",
       "        [12, 13, 14, 15]],\n",
       "\n",
       "       [[16, 17, 18, 19],\n",
       "        [20, 21, 22, 23]]])"
      ]
     },
     "execution_count": 130,
     "metadata": {},
     "output_type": "execute_result"
    }
   ],
   "source": [
    "np.arange(24).reshape(3,2,4)\n",
    "# 2, 6, 10, 14, 18, 22만 뽑아보기"
   ]
  },
  {
   "cell_type": "code",
   "execution_count": 135,
   "id": "7395e37d-4cea-4033-b721-a90213c02963",
   "metadata": {},
   "outputs": [
    {
     "data": {
      "text/plain": [
       "array([[ 2,  6],\n",
       "       [10, 14],\n",
       "       [18, 22]])"
      ]
     },
     "execution_count": 135,
     "metadata": {},
     "output_type": "execute_result"
    }
   ],
   "source": [
    "np.arange(24).reshape(3,2,4)[:,:,2] #인덱싱"
   ]
  },
  {
   "cell_type": "code",
   "execution_count": 134,
   "id": "4c6e1c02-2f91-4ad7-a7ec-c3a13363471c",
   "metadata": {},
   "outputs": [
    {
     "data": {
      "text/plain": [
       "array([[[ 2],\n",
       "        [ 6]],\n",
       "\n",
       "       [[10],\n",
       "        [14]],\n",
       "\n",
       "       [[18],\n",
       "        [22]]])"
      ]
     },
     "execution_count": 134,
     "metadata": {},
     "output_type": "execute_result"
    }
   ],
   "source": [
    "np.arange(24).reshape(3,2,4)[:,:,2:3]  #슬라이싱"
   ]
  },
  {
   "cell_type": "code",
   "execution_count": 136,
   "id": "08396883-bcdd-4cea-b009-31ca549950c0",
   "metadata": {},
   "outputs": [
    {
     "data": {
      "text/plain": [
       "(3, 2)"
      ]
     },
     "execution_count": 136,
     "metadata": {},
     "output_type": "execute_result"
    }
   ],
   "source": [
    "np.arange(24).reshape(3,2,4)[:,:,2].shape  #shape"
   ]
  },
  {
   "cell_type": "code",
   "execution_count": 137,
   "id": "28c82aaf-e983-4aa0-a284-44254b228138",
   "metadata": {},
   "outputs": [
    {
     "data": {
      "text/plain": [
       "array([ 0,  1,  2,  3,  4,  5,  6,  7,  8,  9, 10, 11, 12, 13, 14, 15, 16,\n",
       "       17, 18, 19, 20, 21, 22, 23])"
      ]
     },
     "execution_count": 137,
     "metadata": {},
     "output_type": "execute_result"
    }
   ],
   "source": [
    "np.arange(24)"
   ]
  },
  {
   "cell_type": "code",
   "execution_count": 138,
   "id": "ce2f89c0-606d-40cc-aaa6-14054f10922a",
   "metadata": {},
   "outputs": [],
   "source": [
    "arr_1 = np.arange(24)"
   ]
  },
  {
   "cell_type": "code",
   "execution_count": 139,
   "id": "97ee31ef-e4fd-4ec6-8eb5-79a64663eb11",
   "metadata": {},
   "outputs": [
    {
     "data": {
      "text/plain": [
       "(24,)"
      ]
     },
     "execution_count": 139,
     "metadata": {},
     "output_type": "execute_result"
    }
   ],
   "source": [
    "arr_1.shape"
   ]
  },
  {
   "cell_type": "code",
   "execution_count": 141,
   "id": "44948ea7-7052-43c2-8459-ee4b1d18b090",
   "metadata": {},
   "outputs": [],
   "source": [
    "arr_1_1 = arr_1.reshape(3,2,4)"
   ]
  },
  {
   "cell_type": "code",
   "execution_count": 143,
   "id": "65b5920e-5926-4bd7-93ca-a46f337ba06b",
   "metadata": {},
   "outputs": [],
   "source": [
    "arr_2 = np.arange(72)"
   ]
  },
  {
   "cell_type": "code",
   "execution_count": 145,
   "id": "e2e3a164-c711-4ecd-89cf-fbd63e429f7d",
   "metadata": {},
   "outputs": [],
   "source": [
    "arr_2_1 = arr_2.reshape(9,8)"
   ]
  },
  {
   "cell_type": "code",
   "execution_count": 150,
   "id": "d9395ae3-98cd-41fe-84f6-7f53bafab075",
   "metadata": {},
   "outputs": [],
   "source": [
    "arr_2_2 = arr_2_1.reshape(9,2,-1)  # -1을 통해 마지막 값을 저절로 결정하게 해준다\n",
    "# 9 2 까지 정해주고 마지막은 -1로 알아서 정해지도록 한다"
   ]
  },
  {
   "cell_type": "code",
   "execution_count": 148,
   "id": "b7a3d2b9-cfc6-406b-b62c-a2308d5e1c07",
   "metadata": {},
   "outputs": [
    {
     "data": {
      "text/plain": [
       "(9, 2, 4)"
      ]
     },
     "execution_count": 148,
     "metadata": {},
     "output_type": "execute_result"
    }
   ],
   "source": [
    "arr_2_2.shape"
   ]
  },
  {
   "cell_type": "code",
   "execution_count": 152,
   "id": "ed0ad124-dcce-4388-9e5e-777beafaa1c4",
   "metadata": {},
   "outputs": [
    {
     "ename": "ValueError",
     "evalue": "cannot reshape array of size 72 into shape (9,2)",
     "output_type": "error",
     "traceback": [
      "\u001b[1;31m---------------------------------------------------------------------------\u001b[0m",
      "\u001b[1;31mValueError\u001b[0m                                Traceback (most recent call last)",
      "Input \u001b[1;32mIn [152]\u001b[0m, in \u001b[0;36m<cell line: 1>\u001b[1;34m()\u001b[0m\n\u001b[1;32m----> 1\u001b[0m \u001b[43marr_2_2\u001b[49m\u001b[38;5;241;43m.\u001b[39;49m\u001b[43mreshape\u001b[49m\u001b[43m(\u001b[49m\u001b[38;5;241;43m9\u001b[39;49m\u001b[43m,\u001b[49m\u001b[38;5;241;43m2\u001b[39;49m\u001b[43m)\u001b[49m\n",
      "\u001b[1;31mValueError\u001b[0m: cannot reshape array of size 72 into shape (9,2)"
     ]
    }
   ],
   "source": [
    "arr_2_2.reshape(9,2)"
   ]
  },
  {
   "cell_type": "code",
   "execution_count": 154,
   "id": "a6ec8ffe-47f4-49bc-bcf7-dc9615cecdbc",
   "metadata": {},
   "outputs": [
    {
     "data": {
      "text/plain": [
       "array([[[ 0,  1,  2,  3],\n",
       "        [ 4,  5,  6,  7]],\n",
       "\n",
       "       [[ 8,  9, 10, 11],\n",
       "        [12, 13, 14, 15]],\n",
       "\n",
       "       [[16, 17, 18, 19],\n",
       "        [20, 21, 22, 23]],\n",
       "\n",
       "       [[24, 25, 26, 27],\n",
       "        [28, 29, 30, 31]],\n",
       "\n",
       "       [[32, 33, 34, 35],\n",
       "        [36, 37, 38, 39]],\n",
       "\n",
       "       [[40, 41, 42, 43],\n",
       "        [44, 45, 46, 47]],\n",
       "\n",
       "       [[48, 49, 50, 51],\n",
       "        [52, 53, 54, 55]],\n",
       "\n",
       "       [[56, 57, 58, 59],\n",
       "        [60, 61, 62, 63]],\n",
       "\n",
       "       [[64, 65, 66, 67],\n",
       "        [68, 69, 70, 71]]])"
      ]
     },
     "execution_count": 154,
     "metadata": {},
     "output_type": "execute_result"
    }
   ],
   "source": [
    "arr_2_2.reshape(9,2,-1)  #알아서 해줌"
   ]
  },
  {
   "cell_type": "code",
   "execution_count": 156,
   "id": "0fafc5e9-feb4-4474-a9f5-6025c5ca3683",
   "metadata": {},
   "outputs": [
    {
     "data": {
      "text/plain": [
       "array([[[ 0,  1,  2,  3],\n",
       "        [ 4,  5,  6,  7],\n",
       "        [ 8,  9, 10, 11]],\n",
       "\n",
       "       [[12, 13, 14, 15],\n",
       "        [16, 17, 18, 19],\n",
       "        [20, 21, 22, 23]]])"
      ]
     },
     "execution_count": 156,
     "metadata": {},
     "output_type": "execute_result"
    }
   ],
   "source": [
    "np.arange(24).reshape(2,3,4)\n",
    "# 6과 18만 array에서 뽑기"
   ]
  },
  {
   "cell_type": "code",
   "execution_count": 162,
   "id": "647d2196-9636-4995-9c06-0288887f1e33",
   "metadata": {},
   "outputs": [],
   "source": [
    "arr_11 = np.arange(24).reshape(2,3,4)"
   ]
  },
  {
   "cell_type": "code",
   "execution_count": 171,
   "id": "e9845512-fdcc-4618-81dd-e44a18a45f5a",
   "metadata": {},
   "outputs": [
    {
     "data": {
      "text/plain": [
       "array([ 6, 18])"
      ]
     },
     "execution_count": 171,
     "metadata": {},
     "output_type": "execute_result"
    }
   ],
   "source": [
    "arr_11[:,1,2]  #벡터형태로 "
   ]
  },
  {
   "cell_type": "code",
   "execution_count": 172,
   "id": "f2f6e0b4-653b-4f2e-9e57-2dc034bada94",
   "metadata": {},
   "outputs": [
    {
     "data": {
      "text/plain": [
       "array([[ 6],\n",
       "       [18]])"
      ]
     },
     "execution_count": 172,
     "metadata": {},
     "output_type": "execute_result"
    }
   ],
   "source": [
    "arr_11[:,[1],[2]]  #매트릭스 형태"
   ]
  },
  {
   "cell_type": "code",
   "execution_count": 189,
   "id": "7d71aaba-1f02-4e5f-b746-e09e73aa68ca",
   "metadata": {},
   "outputs": [],
   "source": [
    "#블리언으로 값을 선택\n",
    "names = np.array([\"1\",\"2\",\"3\",\"4\",\"5\",\"6\",\"7\"])"
   ]
  },
  {
   "cell_type": "code",
   "execution_count": 190,
   "id": "f5d318f4-fb93-4a28-a464-8ce8c7e78fae",
   "metadata": {},
   "outputs": [
    {
     "data": {
      "text/plain": [
       "array([False,  True, False, False, False, False, False])"
      ]
     },
     "execution_count": 190,
     "metadata": {},
     "output_type": "execute_result"
    }
   ],
   "source": [
    "names == \"2\""
   ]
  },
  {
   "cell_type": "code",
   "execution_count": 191,
   "id": "ee9800ed-a298-4e84-9724-09cb15f8de49",
   "metadata": {},
   "outputs": [],
   "source": [
    "data = np.random.randn(7,4)"
   ]
  },
  {
   "cell_type": "code",
   "execution_count": 192,
   "id": "3ff68b12-25b5-406a-a4e5-682eae15be47",
   "metadata": {},
   "outputs": [
    {
     "data": {
      "text/plain": [
       "array([[-1.58694285,  0.45301362,  0.68057243,  1.38070061],\n",
       "       [-0.38319174,  0.33548812,  1.02673859, -0.74969015],\n",
       "       [ 0.10206184,  0.07270149,  0.63157832, -1.12796634],\n",
       "       [ 3.19776935,  1.72884196,  0.22093792, -2.02542129],\n",
       "       [-0.16244758, -2.38393018, -0.76027385, -0.87238965],\n",
       "       [ 0.24829184, -0.44089074,  1.15528235, -1.31753417],\n",
       "       [-0.50698124,  0.52488236, -1.42825933,  0.36075912]])"
      ]
     },
     "execution_count": 192,
     "metadata": {},
     "output_type": "execute_result"
    }
   ],
   "source": [
    "data"
   ]
  },
  {
   "cell_type": "code",
   "execution_count": 197,
   "id": "9f079758-50bc-4529-b3dc-b5f1a24b654a",
   "metadata": {},
   "outputs": [
    {
     "data": {
      "text/plain": [
       "array([[-0.38319174,  0.33548812,  1.02673859, -0.74969015]])"
      ]
     },
     "execution_count": 197,
     "metadata": {},
     "output_type": "execute_result"
    }
   ],
   "source": [
    "data[names == \"2\"]"
   ]
  },
  {
   "cell_type": "code",
   "execution_count": 198,
   "id": "a323e252-a6b5-4856-b02b-6e60b1c7554b",
   "metadata": {},
   "outputs": [
    {
     "data": {
      "text/plain": [
       "array([[-1.58694285,  0.45301362,  0.68057243,  1.38070061],\n",
       "       [-0.38319174,  0.33548812,  1.02673859, -0.74969015],\n",
       "       [ 0.10206184,  0.07270149,  0.63157832, -1.12796634],\n",
       "       [ 3.19776935,  1.72884196,  0.22093792, -2.02542129],\n",
       "       [-0.16244758, -2.38393018, -0.76027385, -0.87238965],\n",
       "       [ 0.24829184, -0.44089074,  1.15528235, -1.31753417],\n",
       "       [-0.50698124,  0.52488236, -1.42825933,  0.36075912]])"
      ]
     },
     "execution_count": 198,
     "metadata": {},
     "output_type": "execute_result"
    }
   ],
   "source": [
    "# data array에서 0보다 큰수만 추출하기\n",
    "data"
   ]
  },
  {
   "cell_type": "code",
   "execution_count": 200,
   "id": "64fe4078-62cc-4a49-87c7-006614c7ad7c",
   "metadata": {},
   "outputs": [
    {
     "data": {
      "text/plain": [
       "array([0.45301362, 0.68057243, 1.38070061, 0.33548812, 1.02673859,\n",
       "       0.10206184, 0.07270149, 0.63157832, 3.19776935, 1.72884196,\n",
       "       0.22093792, 0.24829184, 1.15528235, 0.52488236, 0.36075912])"
      ]
     },
     "execution_count": 200,
     "metadata": {},
     "output_type": "execute_result"
    }
   ],
   "source": [
    "data[data>0]"
   ]
  },
  {
   "cell_type": "code",
   "execution_count": 201,
   "id": "782dc271-d479-45a8-991d-b4c938cf43ea",
   "metadata": {},
   "outputs": [],
   "source": [
    "bools = data>0"
   ]
  },
  {
   "cell_type": "code",
   "execution_count": 203,
   "id": "2c6033f0-f046-4701-89b4-f8ecb1d20293",
   "metadata": {},
   "outputs": [
    {
     "data": {
      "text/plain": [
       "array([0.45301362, 0.68057243, 1.38070061, 0.33548812, 1.02673859,\n",
       "       0.10206184, 0.07270149, 0.63157832, 3.19776935, 1.72884196,\n",
       "       0.22093792, 0.24829184, 1.15528235, 0.52488236, 0.36075912])"
      ]
     },
     "execution_count": 203,
     "metadata": {},
     "output_type": "execute_result"
    }
   ],
   "source": [
    "data[bools] #[조건] 을 넣어서 조건에 맞는것만 반환받는다"
   ]
  },
  {
   "cell_type": "code",
   "execution_count": 206,
   "id": "113be83d-3bf2-4f0f-a719-70d8aecdad3e",
   "metadata": {},
   "outputs": [],
   "source": [
    "#0보다 작은 숫자들은 0으로 치환하고\n",
    "data[data<0] = 0"
   ]
  },
  {
   "cell_type": "code",
   "execution_count": 207,
   "id": "ef0d53a7-d786-4781-93ed-96fa58a052bb",
   "metadata": {},
   "outputs": [
    {
     "data": {
      "text/plain": [
       "array([[0.        , 0.45301362, 0.68057243, 1.38070061],\n",
       "       [0.        , 0.33548812, 1.02673859, 0.        ],\n",
       "       [0.10206184, 0.07270149, 0.63157832, 0.        ],\n",
       "       [3.19776935, 1.72884196, 0.22093792, 0.        ],\n",
       "       [0.        , 0.        , 0.        , 0.        ],\n",
       "       [0.24829184, 0.        , 1.15528235, 0.        ],\n",
       "       [0.        , 0.52488236, 0.        , 0.36075912]])"
      ]
     },
     "execution_count": 207,
     "metadata": {},
     "output_type": "execute_result"
    }
   ],
   "source": [
    "data"
   ]
  },
  {
   "cell_type": "code",
   "execution_count": 208,
   "id": "4541ed0f-b7b1-42d9-bc70-7bcc5a17ecde",
   "metadata": {},
   "outputs": [],
   "source": [
    "#팬시 색인\n",
    "# 정수배열로 색인"
   ]
  },
  {
   "cell_type": "code",
   "execution_count": 210,
   "id": "5382772f-4576-459f-9b3c-aca4fdd0baa1",
   "metadata": {},
   "outputs": [],
   "source": [
    "arr = np.random.randn(8,4)"
   ]
  },
  {
   "cell_type": "code",
   "execution_count": 211,
   "id": "07baafaf-9378-4e30-b56e-b8d670771228",
   "metadata": {},
   "outputs": [
    {
     "data": {
      "text/plain": [
       "array([[ 0.97712631,  0.23590896,  2.42852403,  0.0127834 ],\n",
       "       [ 1.42379348,  0.58199034,  0.13520834,  1.32291048],\n",
       "       [-0.1597181 , -0.28166945,  0.32970491,  0.64037656],\n",
       "       [-0.45580088, -0.10130277, -0.39010024,  1.29848369],\n",
       "       [-0.6437701 ,  0.0244123 , -1.07343304, -1.4183579 ],\n",
       "       [-0.44691111, -1.15682575,  0.46461758,  0.4494864 ],\n",
       "       [-1.10996357, -0.56254724,  0.70552709, -1.48227268],\n",
       "       [ 0.90755144, -1.42405446,  0.63092831,  0.4232103 ]])"
      ]
     },
     "execution_count": 211,
     "metadata": {},
     "output_type": "execute_result"
    }
   ],
   "source": [
    "arr"
   ]
  },
  {
   "cell_type": "code",
   "execution_count": 212,
   "id": "1c6ac8a5-a52f-42e8-9e23-a280600c33ee",
   "metadata": {},
   "outputs": [],
   "source": [
    "arr[0] = 0"
   ]
  },
  {
   "cell_type": "code",
   "execution_count": 213,
   "id": "7795f502-1476-4530-8b2f-319952ccc179",
   "metadata": {},
   "outputs": [
    {
     "data": {
      "text/plain": [
       "array([[ 0.        ,  0.        ,  0.        ,  0.        ],\n",
       "       [ 1.42379348,  0.58199034,  0.13520834,  1.32291048],\n",
       "       [-0.1597181 , -0.28166945,  0.32970491,  0.64037656],\n",
       "       [-0.45580088, -0.10130277, -0.39010024,  1.29848369],\n",
       "       [-0.6437701 ,  0.0244123 , -1.07343304, -1.4183579 ],\n",
       "       [-0.44691111, -1.15682575,  0.46461758,  0.4494864 ],\n",
       "       [-1.10996357, -0.56254724,  0.70552709, -1.48227268],\n",
       "       [ 0.90755144, -1.42405446,  0.63092831,  0.4232103 ]])"
      ]
     },
     "execution_count": 213,
     "metadata": {},
     "output_type": "execute_result"
    }
   ],
   "source": [
    "arr"
   ]
  },
  {
   "cell_type": "code",
   "execution_count": 214,
   "id": "5f438b15-e142-4a11-bbad-9fc649aafce5",
   "metadata": {},
   "outputs": [],
   "source": [
    "#특정한 row를 선택하고 싶으면 원하는 순서가 명시된 정수가 담긴 list array를 넘기면 된다"
   ]
  },
  {
   "cell_type": "code",
   "execution_count": 219,
   "id": "4d0a4a63-13a4-4c77-be6c-a4261b64157d",
   "metadata": {},
   "outputs": [
    {
     "data": {
      "text/plain": [
       "array([[-0.6437701 ,  0.0244123 , -1.07343304, -1.4183579 ],\n",
       "       [-0.45580088, -0.10130277, -0.39010024,  1.29848369],\n",
       "       [ 0.        ,  0.        ,  0.        ,  0.        ]])"
      ]
     },
     "execution_count": 219,
     "metadata": {},
     "output_type": "execute_result"
    }
   ],
   "source": [
    "arr[[4,3,0]]  #row를 선택함"
   ]
  },
  {
   "cell_type": "code",
   "execution_count": 223,
   "id": "63253157-8dc1-47c9-abf1-94f15d028f55",
   "metadata": {},
   "outputs": [
    {
     "data": {
      "text/plain": [
       "array([ 0.0244123 , -0.10130277,  0.        ])"
      ]
     },
     "execution_count": 223,
     "metadata": {},
     "output_type": "execute_result"
    }
   ],
   "source": [
    "arr[[4,3,0],[1]] #column은 뒤에 "
   ]
  },
  {
   "cell_type": "raw",
   "id": "2dff3274-7f83-4378-afce-e4ca5844134c",
   "metadata": {},
   "source": [
    "arr = np.arange(32).reshape(8,4)"
   ]
  },
  {
   "cell_type": "code",
   "execution_count": 249,
   "id": "9129be5f-210b-4573-b0d6-2666d01a4115",
   "metadata": {},
   "outputs": [
    {
     "data": {
      "text/plain": [
       "array([[ 1,  2],\n",
       "       [ 9, 10],\n",
       "       [17, 18]])"
      ]
     },
     "execution_count": 249,
     "metadata": {},
     "output_type": "execute_result"
    }
   ],
   "source": [
    "arr[:,[1,2]]"
   ]
  },
  {
   "cell_type": "raw",
   "id": "25b8e4ff-89df-45cb-ae19-36d6bb41aae4",
   "metadata": {},
   "source": [
    "arr"
   ]
  },
  {
   "cell_type": "code",
   "execution_count": 230,
   "id": "ea69962c-16f0-452c-b8d3-a178d22fb9dc",
   "metadata": {},
   "outputs": [],
   "source": [
    "#전치와 축변경\n",
    "#배열의 전치는 축변경\n",
    "# arr.transpose()\n",
    "# arr.T"
   ]
  },
  {
   "cell_type": "code",
   "execution_count": 231,
   "id": "240b2875-dcad-43a3-9f1b-26749746a7f5",
   "metadata": {},
   "outputs": [],
   "source": [
    "arr = np.arange(24)"
   ]
  },
  {
   "cell_type": "code",
   "execution_count": 234,
   "id": "df28378c-a599-4be0-b835-bf6d601816e0",
   "metadata": {},
   "outputs": [
    {
     "data": {
      "text/plain": [
       "(24,)"
      ]
     },
     "execution_count": 234,
     "metadata": {},
     "output_type": "execute_result"
    }
   ],
   "source": [
    "arr.shape"
   ]
  },
  {
   "cell_type": "code",
   "execution_count": 239,
   "id": "8789e163-057b-4fcb-91d7-8ff8e082b289",
   "metadata": {},
   "outputs": [],
   "source": [
    "arr = arr.reshape(3,8)"
   ]
  },
  {
   "cell_type": "code",
   "execution_count": 240,
   "id": "9c2a6cac-bd60-45fa-8b2f-095b36428796",
   "metadata": {},
   "outputs": [
    {
     "data": {
      "text/plain": [
       "array([[ 0,  8, 16],\n",
       "       [ 1,  9, 17],\n",
       "       [ 2, 10, 18],\n",
       "       [ 3, 11, 19],\n",
       "       [ 4, 12, 20],\n",
       "       [ 5, 13, 21],\n",
       "       [ 6, 14, 22],\n",
       "       [ 7, 15, 23]])"
      ]
     },
     "execution_count": 240,
     "metadata": {},
     "output_type": "execute_result"
    }
   ],
   "source": [
    "arr.T"
   ]
  },
  {
   "cell_type": "code",
   "execution_count": 241,
   "id": "071417f0-e6ae-48ad-8aff-6d88f17e07f9",
   "metadata": {},
   "outputs": [
    {
     "data": {
      "text/plain": [
       "array([[ 0,  1,  2,  3,  4,  5,  6,  7],\n",
       "       [ 8,  9, 10, 11, 12, 13, 14, 15],\n",
       "       [16, 17, 18, 19, 20, 21, 22, 23]])"
      ]
     },
     "execution_count": 241,
     "metadata": {},
     "output_type": "execute_result"
    }
   ],
   "source": [
    "arr"
   ]
  },
  {
   "cell_type": "code",
   "execution_count": 242,
   "id": "ea7545e8-4ffd-4c7c-844e-80d79961efdf",
   "metadata": {},
   "outputs": [
    {
     "data": {
      "text/plain": [
       "array([[ 0,  8, 16],\n",
       "       [ 1,  9, 17],\n",
       "       [ 2, 10, 18],\n",
       "       [ 3, 11, 19],\n",
       "       [ 4, 12, 20],\n",
       "       [ 5, 13, 21],\n",
       "       [ 6, 14, 22],\n",
       "       [ 7, 15, 23]])"
      ]
     },
     "execution_count": 242,
     "metadata": {},
     "output_type": "execute_result"
    }
   ],
   "source": [
    "arr.transpose()"
   ]
  },
  {
   "cell_type": "code",
   "execution_count": 243,
   "id": "3e786c58-11fd-42f0-afdf-ae0ef86a67db",
   "metadata": {},
   "outputs": [],
   "source": [
    "arr_1 = np.arange(8)"
   ]
  },
  {
   "cell_type": "code",
   "execution_count": 244,
   "id": "fc993a74-d2b9-45f3-89eb-313e671db663",
   "metadata": {},
   "outputs": [
    {
     "data": {
      "text/plain": [
       "array([0, 1, 2, 3, 4, 5, 6, 7])"
      ]
     },
     "execution_count": 244,
     "metadata": {},
     "output_type": "execute_result"
    }
   ],
   "source": [
    "arr_1"
   ]
  },
  {
   "cell_type": "code",
   "execution_count": 246,
   "id": "4e7fec73-9ad5-4185-a547-e7f394146cba",
   "metadata": {},
   "outputs": [
    {
     "data": {
      "text/plain": [
       "array([0, 1, 2, 3, 4, 5, 6, 7])"
      ]
     },
     "execution_count": 246,
     "metadata": {},
     "output_type": "execute_result"
    }
   ],
   "source": [
    "#벡터 자체로는 전치 되지 않는다\n",
    "arr_1.T"
   ]
  },
  {
   "cell_type": "code",
   "execution_count": 248,
   "id": "8641e8c0-72f2-4b6b-b554-6c63ef61e060",
   "metadata": {},
   "outputs": [
    {
     "data": {
      "text/plain": [
       "array([[0],\n",
       "       [1],\n",
       "       [2],\n",
       "       [3],\n",
       "       [4],\n",
       "       [5],\n",
       "       [6],\n",
       "       [7]])"
      ]
     },
     "execution_count": 248,
     "metadata": {},
     "output_type": "execute_result"
    }
   ],
   "source": [
    "arr_1.reshape(1,-1).T"
   ]
  },
  {
   "cell_type": "code",
   "execution_count": 250,
   "id": "399d9ab7-6014-4122-8628-642f4cb7569a",
   "metadata": {},
   "outputs": [],
   "source": [
    "arr = np.random.randn(5,4)"
   ]
  },
  {
   "cell_type": "code",
   "execution_count": 251,
   "id": "9796cdb0-d681-4a3e-9229-46ac3365bd72",
   "metadata": {},
   "outputs": [
    {
     "data": {
      "text/plain": [
       "array([[-0.44463701,  1.19557525, -0.31298765,  0.99553878],\n",
       "       [-0.65199115, -1.02396362, -1.7615014 , -0.46757137],\n",
       "       [-1.78553711, -0.59466343, -0.80958392,  0.99131913],\n",
       "       [-0.4216115 , -0.30026993, -0.45227154,  1.06555124],\n",
       "       [ 0.56633414,  0.22308116, -1.37442883, -2.13782978]])"
      ]
     },
     "execution_count": 251,
     "metadata": {},
     "output_type": "execute_result"
    }
   ],
   "source": [
    "arr"
   ]
  },
  {
   "cell_type": "code",
   "execution_count": 253,
   "id": "b566041a-dea5-447c-8339-7a7fcbca0a5f",
   "metadata": {},
   "outputs": [
    {
     "data": {
      "text/plain": [
       "-0.37507242668491225"
      ]
     },
     "execution_count": 253,
     "metadata": {},
     "output_type": "execute_result"
    }
   ],
   "source": [
    "#평균\n",
    "arr.mean()"
   ]
  },
  {
   "cell_type": "code",
   "execution_count": 255,
   "id": "ac4c4f89-3237-4e2e-9d00-691172246de8",
   "metadata": {},
   "outputs": [
    {
     "data": {
      "text/plain": [
       "-7.501448533698245"
      ]
     },
     "execution_count": 255,
     "metadata": {},
     "output_type": "execute_result"
    }
   ],
   "source": [
    "#합\n",
    "arr.sum()"
   ]
  },
  {
   "cell_type": "code",
   "execution_count": 276,
   "id": "55bb014c-76b4-4e04-9665-0b44ab04a497",
   "metadata": {},
   "outputs": [
    {
     "data": {
      "text/plain": [
       "(5, 4)"
      ]
     },
     "execution_count": 276,
     "metadata": {},
     "output_type": "execute_result"
    }
   ],
   "source": [
    "arr.shape  #5행 4열"
   ]
  },
  {
   "cell_type": "code",
   "execution_count": 277,
   "id": "ef6cf577-bdaa-4c7c-9b6a-74b945911143",
   "metadata": {},
   "outputs": [
    {
     "data": {
      "text/plain": [
       "array([-0.54748853, -0.10004811, -0.94215467,  0.0894016 ])"
      ]
     },
     "execution_count": 277,
     "metadata": {},
     "output_type": "execute_result"
    }
   ],
   "source": [
    "arr.mean(axis = 0)  #column 별로 "
   ]
  },
  {
   "cell_type": "code",
   "execution_count": 278,
   "id": "08b8a827-128e-4f91-93a1-348913ce1684",
   "metadata": {},
   "outputs": [
    {
     "data": {
      "text/plain": [
       "array([ 0.35837234, -0.97625689, -0.54961633, -0.02715043, -0.68071083])"
      ]
     },
     "execution_count": 278,
     "metadata": {},
     "output_type": "execute_result"
    }
   ],
   "source": [
    "arr.mean(axis = 1)   #row 별로"
   ]
  },
  {
   "cell_type": "code",
   "execution_count": 314,
   "id": "0f35c72c-f128-4ccc-bf31-d672b177128b",
   "metadata": {},
   "outputs": [
    {
     "data": {
      "text/plain": [
       "array([0, 1, 2, 3, 4, 5, 6, 7, 8, 9])"
      ]
     },
     "execution_count": 314,
     "metadata": {},
     "output_type": "execute_result"
    }
   ],
   "source": [
    "arr_1 = np.arange(10)\n",
    "arr_1"
   ]
  },
  {
   "cell_type": "code",
   "execution_count": 315,
   "id": "6f1cbe77-e65e-4200-a5c5-17483f459f12",
   "metadata": {},
   "outputs": [
    {
     "data": {
      "text/plain": [
       "array([ 0,  1,  3,  6, 10, 15, 21, 28, 36, 45])"
      ]
     },
     "execution_count": 315,
     "metadata": {},
     "output_type": "execute_result"
    }
   ],
   "source": [
    "arr_1.cumsum()"
   ]
  },
  {
   "cell_type": "code",
   "execution_count": 316,
   "id": "ad7868d5-9348-40e4-93b3-3a5b322dffd7",
   "metadata": {},
   "outputs": [],
   "source": [
    "arr_1 = arr_1.reshape(2,5)"
   ]
  },
  {
   "cell_type": "code",
   "execution_count": 317,
   "id": "6eb7462e-3277-4116-9a80-d0d76ba0a99c",
   "metadata": {},
   "outputs": [
    {
     "data": {
      "text/plain": [
       "array([2., 7.])"
      ]
     },
     "execution_count": 317,
     "metadata": {},
     "output_type": "execute_result"
    }
   ],
   "source": [
    "# arr_1.T.mean(axis = 0)\n",
    "arr_1.mean(axis = 1)"
   ]
  },
  {
   "cell_type": "code",
   "execution_count": 318,
   "id": "40ac6edf-2d76-4220-a289-7e4f0f7f013b",
   "metadata": {},
   "outputs": [
    {
     "data": {
      "text/plain": [
       "array([2.5, 3.5, 4.5, 5.5, 6.5])"
      ]
     },
     "execution_count": 318,
     "metadata": {},
     "output_type": "execute_result"
    }
   ],
   "source": [
    "arr_1.mean(axis = 0)"
   ]
  },
  {
   "cell_type": "code",
   "execution_count": 293,
   "id": "d6682cc3-9f3c-427b-a402-50b18955861f",
   "metadata": {},
   "outputs": [
    {
     "data": {
      "text/plain": [
       "array([[0, 1, 2, 3, 4],\n",
       "       [5, 6, 7, 8, 9]])"
      ]
     },
     "execution_count": 293,
     "metadata": {},
     "output_type": "execute_result"
    }
   ],
   "source": [
    "arr_1"
   ]
  },
  {
   "cell_type": "code",
   "execution_count": 294,
   "id": "045a2115-2220-47e6-9253-2872363b2487",
   "metadata": {},
   "outputs": [
    {
     "data": {
      "text/plain": [
       "array([ 0,  1,  3,  6, 10, 15, 21, 28, 36, 45])"
      ]
     },
     "execution_count": 294,
     "metadata": {},
     "output_type": "execute_result"
    }
   ],
   "source": [
    "arr_1.cumsum()"
   ]
  },
  {
   "cell_type": "code",
   "execution_count": 295,
   "id": "88653112-723e-4b9e-b956-d6d65a253d52",
   "metadata": {},
   "outputs": [
    {
     "data": {
      "text/plain": [
       "9"
      ]
     },
     "execution_count": 295,
     "metadata": {},
     "output_type": "execute_result"
    }
   ],
   "source": [
    "# 블리언 메소드\n",
    "#양수인 원소들의 개수\n",
    "(arr_1>0).sum()"
   ]
  },
  {
   "cell_type": "code",
   "execution_count": 296,
   "id": "7dedff05-8ad0-4e80-9eb9-256dfb81d319",
   "metadata": {},
   "outputs": [
    {
     "data": {
      "text/plain": [
       "array([[-0.44463701,  1.19557525, -0.31298765,  0.99553878],\n",
       "       [-0.65199115, -1.02396362, -1.7615014 , -0.46757137],\n",
       "       [-1.78553711, -0.59466343, -0.80958392,  0.99131913],\n",
       "       [-0.4216115 , -0.30026993, -0.45227154,  1.06555124],\n",
       "       [ 0.56633414,  0.22308116, -1.37442883, -2.13782978]])"
      ]
     },
     "execution_count": 296,
     "metadata": {},
     "output_type": "execute_result"
    }
   ],
   "source": [
    "arr"
   ]
  },
  {
   "cell_type": "code",
   "execution_count": 319,
   "id": "d197d359-7b36-481d-a0c7-f8b964a9166e",
   "metadata": {},
   "outputs": [],
   "source": [
    "# 정렬\n",
    "#sort()"
   ]
  },
  {
   "cell_type": "code",
   "execution_count": 320,
   "id": "28574329-8c93-49ca-af07-bb38811da6ba",
   "metadata": {},
   "outputs": [],
   "source": [
    "arr_2 = np.random.rand(6)"
   ]
  },
  {
   "cell_type": "code",
   "execution_count": 322,
   "id": "3162fa13-a1cd-46c4-8c9f-33b095ccf33c",
   "metadata": {},
   "outputs": [],
   "source": [
    "arr_2.sort()"
   ]
  },
  {
   "cell_type": "code",
   "execution_count": 323,
   "id": "065ee973-3ef3-4684-b695-fa6ae2f5f163",
   "metadata": {},
   "outputs": [
    {
     "data": {
      "text/plain": [
       "array([0.09639864, 0.10086477, 0.52644105, 0.60231917, 0.62901076,\n",
       "       0.87307699])"
      ]
     },
     "execution_count": 323,
     "metadata": {},
     "output_type": "execute_result"
    }
   ],
   "source": [
    "arr_2"
   ]
  },
  {
   "cell_type": "code",
   "execution_count": 298,
   "id": "7dd80edc-0a5d-48da-aa4f-55e6e0694a5f",
   "metadata": {},
   "outputs": [],
   "source": [
    "#내림차순 오름차순 기능은 따로 없다"
   ]
  },
  {
   "cell_type": "code",
   "execution_count": 300,
   "id": "41751695-a551-4fad-b7d0-e8af58598582",
   "metadata": {},
   "outputs": [],
   "source": [
    "# 배열 붙이기\n",
    "#concatenate()\n",
    "arr_1 = np.array(([11,12,13],[14,15,16]))\n",
    "arr_2 = np.array(([11,22,23],[24,25,26]))"
   ]
  },
  {
   "cell_type": "code",
   "execution_count": 301,
   "id": "bcdd5076-f261-44f9-8dcd-09a2d6c0eef2",
   "metadata": {},
   "outputs": [
    {
     "data": {
      "text/plain": [
       "array([[11, 12, 13],\n",
       "       [14, 15, 16],\n",
       "       [11, 22, 23],\n",
       "       [24, 25, 26]])"
      ]
     },
     "execution_count": 301,
     "metadata": {},
     "output_type": "execute_result"
    }
   ],
   "source": [
    "#브로드 캐스팅\n",
    "np.concatenate([arr_1,arr_2], axis= 0 )"
   ]
  },
  {
   "cell_type": "code",
   "execution_count": 302,
   "id": "b72787e3-9c6c-4564-b9d2-ff655d06f20c",
   "metadata": {},
   "outputs": [
    {
     "data": {
      "text/plain": [
       "array([[11, 12, 13, 11, 22, 23],\n",
       "       [14, 15, 16, 24, 25, 26]])"
      ]
     },
     "execution_count": 302,
     "metadata": {},
     "output_type": "execute_result"
    }
   ],
   "source": [
    "np.concatenate([arr_1,arr_2], axis= 1 )"
   ]
  },
  {
   "cell_type": "code",
   "execution_count": 303,
   "id": "4af36a2e-ba74-4ab3-ba5c-9e87e7091a6a",
   "metadata": {},
   "outputs": [],
   "source": [
    "#브로드 캐스팅 \n",
    "#다른 모양의 배열간의 산술 연산을 가능해주도록 한다"
   ]
  },
  {
   "cell_type": "code",
   "execution_count": 305,
   "id": "84111017-53fc-4020-b930-b9ea2f091c64",
   "metadata": {},
   "outputs": [],
   "source": [
    "arr_3 = np.arange(12).reshape(4,3)"
   ]
  },
  {
   "cell_type": "code",
   "execution_count": 306,
   "id": "25c9124b-e668-4ddd-a981-913270c21009",
   "metadata": {},
   "outputs": [
    {
     "data": {
      "text/plain": [
       "array([[ 0,  1,  2],\n",
       "       [ 3,  4,  5],\n",
       "       [ 6,  7,  8],\n",
       "       [ 9, 10, 11]])"
      ]
     },
     "execution_count": 306,
     "metadata": {},
     "output_type": "execute_result"
    }
   ],
   "source": [
    "arr_3"
   ]
  },
  {
   "cell_type": "code",
   "execution_count": 307,
   "id": "9ef04fb6-6310-47f7-adc5-746ef6d62cd4",
   "metadata": {},
   "outputs": [],
   "source": [
    "arr_4 = np.array([1,2,3])"
   ]
  },
  {
   "cell_type": "code",
   "execution_count": 308,
   "id": "49bcadd2-bcde-4dc2-91ef-8543359a065c",
   "metadata": {},
   "outputs": [
    {
     "data": {
      "text/plain": [
       "(3,)"
      ]
     },
     "execution_count": 308,
     "metadata": {},
     "output_type": "execute_result"
    }
   ],
   "source": [
    "arr_4.shape"
   ]
  },
  {
   "cell_type": "code",
   "execution_count": 309,
   "id": "9cf78e07-f4e6-483f-9142-79da49dbcd83",
   "metadata": {},
   "outputs": [
    {
     "data": {
      "text/plain": [
       "array([[ 1,  3,  5],\n",
       "       [ 4,  6,  8],\n",
       "       [ 7,  9, 11],\n",
       "       [10, 12, 14]])"
      ]
     },
     "execution_count": 309,
     "metadata": {},
     "output_type": "execute_result"
    }
   ],
   "source": [
    "arr_3 + arr_4"
   ]
  },
  {
   "cell_type": "code",
   "execution_count": 311,
   "id": "15368f7b-e344-43e2-a71e-34cf99b5e5fe",
   "metadata": {},
   "outputs": [],
   "source": [
    "arr_5 = np.array(([1],[2],[3],[4]))"
   ]
  },
  {
   "cell_type": "code",
   "execution_count": 312,
   "id": "45407ab7-44eb-4f63-ba01-44a869a9fd5e",
   "metadata": {},
   "outputs": [
    {
     "data": {
      "text/plain": [
       "array([[ 1,  2,  3],\n",
       "       [ 5,  6,  7],\n",
       "       [ 9, 10, 11],\n",
       "       [13, 14, 15]])"
      ]
     },
     "execution_count": 312,
     "metadata": {},
     "output_type": "execute_result"
    }
   ],
   "source": [
    "arr_3 + arr_5"
   ]
  },
  {
   "cell_type": "code",
   "execution_count": 417,
   "id": "fe05050b-c4b8-4105-8909-5d1858ca15be",
   "metadata": {},
   "outputs": [],
   "source": [
    "#연습문제"
   ]
  },
  {
   "cell_type": "code",
   "execution_count": 325,
   "id": "a6a8058f-99af-4dd4-807e-2639ddaf9341",
   "metadata": {},
   "outputs": [
    {
     "data": {
      "text/plain": [
       "'1.23.1'"
      ]
     },
     "execution_count": 325,
     "metadata": {},
     "output_type": "execute_result"
    }
   ],
   "source": [
    "np.__version__"
   ]
  },
  {
   "cell_type": "code",
   "execution_count": 331,
   "id": "5a7cb8c6-a6de-4a27-b3c0-339d95d1afdb",
   "metadata": {},
   "outputs": [],
   "source": [
    "a = [0,0,0,0,0,0,0,0,0,0]"
   ]
  },
  {
   "cell_type": "code",
   "execution_count": 332,
   "id": "9c5e844c-b038-41dc-99ec-47de01c30531",
   "metadata": {},
   "outputs": [
    {
     "data": {
      "text/plain": [
       "[0, 0, 0, 0, 0, 0, 0, 0, 0, 0]"
      ]
     },
     "execution_count": 332,
     "metadata": {},
     "output_type": "execute_result"
    }
   ],
   "source": [
    "a"
   ]
  },
  {
   "cell_type": "code",
   "execution_count": 334,
   "id": "23c7d86b-f073-43c9-bc16-65e190c8e2d4",
   "metadata": {},
   "outputs": [],
   "source": [
    "b = np.zeros(10)"
   ]
  },
  {
   "cell_type": "code",
   "execution_count": 335,
   "id": "9119f223-1ff1-49e0-ac15-c4d81dcdb0e7",
   "metadata": {},
   "outputs": [
    {
     "data": {
      "text/plain": [
       "array([0., 0., 0., 0., 0., 0., 0., 0., 0., 0.])"
      ]
     },
     "execution_count": 335,
     "metadata": {},
     "output_type": "execute_result"
    }
   ],
   "source": [
    "b"
   ]
  },
  {
   "cell_type": "code",
   "execution_count": 336,
   "id": "6fe4cfb2-5213-4a95-aa6c-7ebda264feef",
   "metadata": {},
   "outputs": [
    {
     "data": {
      "text/plain": [
       "list"
      ]
     },
     "execution_count": 336,
     "metadata": {},
     "output_type": "execute_result"
    }
   ],
   "source": [
    "type(a)"
   ]
  },
  {
   "cell_type": "code",
   "execution_count": 337,
   "id": "22ed2dfb-089d-4631-b3dd-5f5b3e1f3015",
   "metadata": {},
   "outputs": [
    {
     "data": {
      "text/plain": [
       "numpy.ndarray"
      ]
     },
     "execution_count": 337,
     "metadata": {},
     "output_type": "execute_result"
    }
   ],
   "source": [
    "type(b)"
   ]
  },
  {
   "cell_type": "code",
   "execution_count": 345,
   "id": "664ce108-339e-4da0-9c74-125163bf3bf2",
   "metadata": {},
   "outputs": [],
   "source": [
    "n_arr = np.array(range(1,11), dtype = 'int32')"
   ]
  },
  {
   "cell_type": "code",
   "execution_count": 346,
   "id": "ba3a173f-427d-425a-abbd-6479918b6e8e",
   "metadata": {},
   "outputs": [
    {
     "data": {
      "text/plain": [
       "array([ 1,  2,  3,  4,  5,  6,  7,  8,  9, 10])"
      ]
     },
     "execution_count": 346,
     "metadata": {},
     "output_type": "execute_result"
    }
   ],
   "source": [
    "n_arr"
   ]
  },
  {
   "cell_type": "code",
   "execution_count": 354,
   "id": "21ecea9c-3610-482d-a366-8b40fd01ab45",
   "metadata": {},
   "outputs": [],
   "source": [
    "a = np.arange(1,11)"
   ]
  },
  {
   "cell_type": "code",
   "execution_count": 355,
   "id": "3feaf8cd-9f80-4436-a264-ab4d256b5080",
   "metadata": {},
   "outputs": [
    {
     "data": {
      "text/plain": [
       "array([ 1,  2,  3,  4,  5,  6,  7,  8,  9, 10])"
      ]
     },
     "execution_count": 355,
     "metadata": {},
     "output_type": "execute_result"
    }
   ],
   "source": [
    "a"
   ]
  },
  {
   "cell_type": "code",
   "execution_count": 356,
   "id": "9546695d-2901-4095-80f4-42715267e30c",
   "metadata": {},
   "outputs": [],
   "source": [
    "a = np.arange(10,0,-1)"
   ]
  },
  {
   "cell_type": "code",
   "execution_count": 357,
   "id": "34186c75-0f62-465c-8432-872ad76b6101",
   "metadata": {},
   "outputs": [
    {
     "data": {
      "text/plain": [
       "array([10,  9,  8,  7,  6,  5,  4,  3,  2,  1])"
      ]
     },
     "execution_count": 357,
     "metadata": {},
     "output_type": "execute_result"
    }
   ],
   "source": [
    "a"
   ]
  },
  {
   "cell_type": "code",
   "execution_count": 358,
   "id": "94be8969-3ccc-44b1-9134-3adddc1e23b4",
   "metadata": {},
   "outputs": [
    {
     "data": {
      "text/plain": [
       "array([[10,  9,  8,  7,  6],\n",
       "       [ 5,  4,  3,  2,  1]])"
      ]
     },
     "execution_count": 358,
     "metadata": {},
     "output_type": "execute_result"
    }
   ],
   "source": [
    "a.reshape(2,5)"
   ]
  },
  {
   "cell_type": "code",
   "execution_count": 359,
   "id": "7c7c8e72-d8fe-4821-b302-788df1b023e4",
   "metadata": {},
   "outputs": [
    {
     "data": {
      "text/plain": [
       "array([[10,  9],\n",
       "       [ 8,  7],\n",
       "       [ 6,  5],\n",
       "       [ 4,  3],\n",
       "       [ 2,  1]])"
      ]
     },
     "execution_count": 359,
     "metadata": {},
     "output_type": "execute_result"
    }
   ],
   "source": [
    "a.reshape(2,5).reshape(5,2)"
   ]
  },
  {
   "cell_type": "code",
   "execution_count": 360,
   "id": "86acdffb-245a-4b28-8922-4b1bb9b1d052",
   "metadata": {},
   "outputs": [],
   "source": [
    "arr_1 = np.arange(1,17)"
   ]
  },
  {
   "cell_type": "code",
   "execution_count": 361,
   "id": "f4453777-4041-4342-9eda-401486fed4d8",
   "metadata": {},
   "outputs": [
    {
     "data": {
      "text/plain": [
       "array([ 1,  2,  3,  4,  5,  6,  7,  8,  9, 10, 11, 12, 13, 14, 15, 16])"
      ]
     },
     "execution_count": 361,
     "metadata": {},
     "output_type": "execute_result"
    }
   ],
   "source": [
    "arr_1"
   ]
  },
  {
   "cell_type": "code",
   "execution_count": 362,
   "id": "1720fdf6-a5b3-4b6c-934f-00227027f87f",
   "metadata": {},
   "outputs": [
    {
     "data": {
      "text/plain": [
       "array([[ 1,  2,  3,  4],\n",
       "       [ 5,  6,  7,  8],\n",
       "       [ 9, 10, 11, 12],\n",
       "       [13, 14, 15, 16]])"
      ]
     },
     "execution_count": 362,
     "metadata": {},
     "output_type": "execute_result"
    }
   ],
   "source": [
    "arr_1.reshape(4,4)"
   ]
  },
  {
   "cell_type": "code",
   "execution_count": 364,
   "id": "928104a0-9f3d-4980-a4b4-8ef600151edc",
   "metadata": {},
   "outputs": [],
   "source": [
    "arr_1 = np.arange(1,17).reshape(4,4)"
   ]
  },
  {
   "cell_type": "code",
   "execution_count": 365,
   "id": "0a157275-409a-4953-923c-b79ecfd4b545",
   "metadata": {},
   "outputs": [
    {
     "data": {
      "text/plain": [
       "array([[ 1,  2,  3,  4],\n",
       "       [ 5,  6,  7,  8],\n",
       "       [ 9, 10, 11, 12],\n",
       "       [13, 14, 15, 16]])"
      ]
     },
     "execution_count": 365,
     "metadata": {},
     "output_type": "execute_result"
    }
   ],
   "source": [
    "arr_1"
   ]
  },
  {
   "cell_type": "code",
   "execution_count": 366,
   "id": "2016c2e4-2d2a-4bde-9ebe-cfb8044d3464",
   "metadata": {},
   "outputs": [],
   "source": [
    "a = np.random.randn(10)"
   ]
  },
  {
   "cell_type": "code",
   "execution_count": 367,
   "id": "8267e7aa-debb-4567-bfb6-ab9ca7d6a1e3",
   "metadata": {},
   "outputs": [
    {
     "data": {
      "text/plain": [
       "array([ 1.22769214, -1.03928379, -1.01728236, -0.19270059,  0.87358022,\n",
       "        0.72176791,  1.73930172,  1.55305883, -0.21678092,  1.27524428])"
      ]
     },
     "execution_count": 367,
     "metadata": {},
     "output_type": "execute_result"
    }
   ],
   "source": [
    "a"
   ]
  },
  {
   "cell_type": "code",
   "execution_count": 368,
   "id": "d20488d9-4cb1-471b-80ec-30cdc61ca1a9",
   "metadata": {},
   "outputs": [
    {
     "data": {
      "text/plain": [
       "1.7393017229379122"
      ]
     },
     "execution_count": 368,
     "metadata": {},
     "output_type": "execute_result"
    }
   ],
   "source": [
    "a.max()"
   ]
  },
  {
   "cell_type": "code",
   "execution_count": 369,
   "id": "1aab87ba-e13f-4810-8883-b24f89f6e47c",
   "metadata": {},
   "outputs": [
    {
     "data": {
      "text/plain": [
       "-1.0392837918232247"
      ]
     },
     "execution_count": 369,
     "metadata": {},
     "output_type": "execute_result"
    }
   ],
   "source": [
    "a.min()"
   ]
  },
  {
   "cell_type": "code",
   "execution_count": 371,
   "id": "9b9768e1-75f7-4a5d-bd03-6c0e43bc9aa6",
   "metadata": {},
   "outputs": [
    {
     "data": {
      "text/plain": [
       "0.4924597446768234"
      ]
     },
     "execution_count": 371,
     "metadata": {},
     "output_type": "execute_result"
    }
   ],
   "source": [
    "a.mean()"
   ]
  },
  {
   "cell_type": "code",
   "execution_count": 397,
   "id": "edebdde9-b72c-4027-8d69-84955ceef474",
   "metadata": {},
   "outputs": [
    {
     "name": "stdin",
     "output_type": "stream",
     "text": [
      "n을 입력하시오 :  4\n"
     ]
    },
    {
     "data": {
      "text/plain": [
       "array([[0., 0., 0., 0.],\n",
       "       [0., 1., 0., 0.],\n",
       "       [0., 0., 0., 0.],\n",
       "       [0., 0., 0., 0.]])"
      ]
     },
     "execution_count": 397,
     "metadata": {},
     "output_type": "execute_result"
    }
   ],
   "source": [
    "n = int(input(\"n을 입력하시오 : \"))\n",
    "arr_1 = np.zeros((n,n))\n",
    "arr_1[1,1] = 1\n",
    "arr_1   #인덱싱 슬라이싱 문제\n",
    "\n",
    " #반복 조건을 함께 쓰면 될거같은데\n"
   ]
  },
  {
   "cell_type": "code",
   "execution_count": 418,
   "id": "23431c05-47cf-4a5b-bc31-2721fe7ddbf6",
   "metadata": {},
   "outputs": [],
   "source": [
    "#연습문제\n",
    "\n",
    "import numpy as np"
   ]
  },
  {
   "cell_type": "code",
   "execution_count": 419,
   "id": "5b0b7351-3bbc-4495-9699-affdb0363370",
   "metadata": {},
   "outputs": [
    {
     "data": {
      "text/plain": [
       "'1.23.1'"
      ]
     },
     "execution_count": 419,
     "metadata": {},
     "output_type": "execute_result"
    }
   ],
   "source": [
    "np.__version__"
   ]
  },
  {
   "cell_type": "code",
   "execution_count": 421,
   "id": "e2465bfa-b224-46e3-88b9-34510102508b",
   "metadata": {},
   "outputs": [],
   "source": [
    "a = np.array([0,0,0,0,0,0,0,0,0,0])"
   ]
  },
  {
   "cell_type": "code",
   "execution_count": 425,
   "id": "440e4f54-d632-43af-8e22-f5c3051a75d0",
   "metadata": {},
   "outputs": [
    {
     "data": {
      "text/plain": [
       "array([0, 0, 0, 0, 0, 0, 0, 0, 0, 0])"
      ]
     },
     "execution_count": 425,
     "metadata": {},
     "output_type": "execute_result"
    }
   ],
   "source": [
    "a"
   ]
  },
  {
   "cell_type": "code",
   "execution_count": 422,
   "id": "a5613cc5-4b36-45b3-8658-48135b864ec4",
   "metadata": {},
   "outputs": [
    {
     "data": {
      "text/plain": [
       "(10,)"
      ]
     },
     "execution_count": 422,
     "metadata": {},
     "output_type": "execute_result"
    }
   ],
   "source": [
    "a.shape"
   ]
  },
  {
   "cell_type": "code",
   "execution_count": 423,
   "id": "33694dca-5ba1-4355-a527-596f3b3791eb",
   "metadata": {},
   "outputs": [],
   "source": [
    "b = np.zeros(10)"
   ]
  },
  {
   "cell_type": "code",
   "execution_count": 424,
   "id": "e4f9cde4-8ff0-4875-93b1-97664605877b",
   "metadata": {},
   "outputs": [
    {
     "data": {
      "text/plain": [
       "array([0., 0., 0., 0., 0., 0., 0., 0., 0., 0.])"
      ]
     },
     "execution_count": 424,
     "metadata": {},
     "output_type": "execute_result"
    }
   ],
   "source": [
    "b"
   ]
  },
  {
   "cell_type": "code",
   "execution_count": 426,
   "id": "4f0032ff-2004-4485-9c9c-15ce6204a905",
   "metadata": {},
   "outputs": [],
   "source": [
    "c = np.full(10,0)"
   ]
  },
  {
   "cell_type": "code",
   "execution_count": 427,
   "id": "b585309a-2f45-46c2-9158-879c0153ff4a",
   "metadata": {},
   "outputs": [
    {
     "data": {
      "text/plain": [
       "array([0, 0, 0, 0, 0, 0, 0, 0, 0, 0])"
      ]
     },
     "execution_count": 427,
     "metadata": {},
     "output_type": "execute_result"
    }
   ],
   "source": [
    "c"
   ]
  },
  {
   "cell_type": "code",
   "execution_count": 428,
   "id": "9b83c5f4-bddc-4922-822a-56a7efe1bc85",
   "metadata": {},
   "outputs": [
    {
     "data": {
      "text/plain": [
       "numpy.ndarray"
      ]
     },
     "execution_count": 428,
     "metadata": {},
     "output_type": "execute_result"
    }
   ],
   "source": [
    "type(a)"
   ]
  },
  {
   "cell_type": "code",
   "execution_count": 429,
   "id": "e5a6c2f6-c0ea-49d4-b817-a1108c2b278f",
   "metadata": {},
   "outputs": [
    {
     "data": {
      "text/plain": [
       "numpy.ndarray"
      ]
     },
     "execution_count": 429,
     "metadata": {},
     "output_type": "execute_result"
    }
   ],
   "source": [
    "type(b)"
   ]
  },
  {
   "cell_type": "code",
   "execution_count": 444,
   "id": "2982eb89-1f84-4a65-8d39-7160b416ad10",
   "metadata": {},
   "outputs": [],
   "source": [
    "n_arr = np.array([1,2,3,4,5,6,7,8,9,10], dtype = np.float64)"
   ]
  },
  {
   "cell_type": "code",
   "execution_count": 445,
   "id": "ac057724-33f0-40c3-baf6-ae7f828d1584",
   "metadata": {},
   "outputs": [
    {
     "data": {
      "text/plain": [
       "8"
      ]
     },
     "execution_count": 445,
     "metadata": {},
     "output_type": "execute_result"
    }
   ],
   "source": [
    "n_arr.itemsize"
   ]
  },
  {
   "cell_type": "code",
   "execution_count": 441,
   "id": "906ece33-cd0f-40d3-aa4e-3f33df1f1bb8",
   "metadata": {},
   "outputs": [],
   "source": [
    "n_arr = np.array([1,2,3,4,5,6,7,8,9,10], dtype = np.int32)"
   ]
  },
  {
   "cell_type": "code",
   "execution_count": 442,
   "id": "dedd2d4a-45c0-4891-a321-69b3411383df",
   "metadata": {},
   "outputs": [
    {
     "data": {
      "text/plain": [
       "4"
      ]
     },
     "execution_count": 442,
     "metadata": {},
     "output_type": "execute_result"
    }
   ],
   "source": [
    "n_arr.itemsize"
   ]
  },
  {
   "cell_type": "code",
   "execution_count": 446,
   "id": "1317acb8-68d2-4336-8773-1efb16fccbe7",
   "metadata": {},
   "outputs": [
    {
     "data": {
      "text/plain": [
       "80"
      ]
     },
     "execution_count": 446,
     "metadata": {},
     "output_type": "execute_result"
    }
   ],
   "source": [
    "n_arr.itemsize * n_arr.size"
   ]
  },
  {
   "cell_type": "code",
   "execution_count": 447,
   "id": "5bc1cb78-cabe-4ad3-b56b-5562bdd39684",
   "metadata": {},
   "outputs": [],
   "source": [
    "a = np.arange(1,11)"
   ]
  },
  {
   "cell_type": "code",
   "execution_count": 449,
   "id": "1e54da75-fe87-4d13-8072-a74f63f4689e",
   "metadata": {},
   "outputs": [
    {
     "name": "stdout",
     "output_type": "stream",
     "text": [
      "[ 1  2  3  4  5  6  7  8  9 10]\n"
     ]
    }
   ],
   "source": [
    "print(a)"
   ]
  },
  {
   "cell_type": "code",
   "execution_count": 451,
   "id": "a45390be-3c31-4573-9677-80a64b6109ef",
   "metadata": {},
   "outputs": [],
   "source": [
    "a = a[::-1]  #역순으로 출력하라"
   ]
  },
  {
   "cell_type": "code",
   "execution_count": 452,
   "id": "daeac929-3a9d-49af-827e-2243fe24aca2",
   "metadata": {},
   "outputs": [
    {
     "data": {
      "text/plain": [
       "array([[10,  9,  8,  7,  6],\n",
       "       [ 5,  4,  3,  2,  1]])"
      ]
     },
     "execution_count": 452,
     "metadata": {},
     "output_type": "execute_result"
    }
   ],
   "source": [
    "a.reshape(2,5)"
   ]
  },
  {
   "cell_type": "code",
   "execution_count": 453,
   "id": "03b7eaa0-ef0f-4175-a07f-32facd476d48",
   "metadata": {},
   "outputs": [],
   "source": [
    "a = a.reshape(2,5)"
   ]
  },
  {
   "cell_type": "code",
   "execution_count": 454,
   "id": "646459ac-6d40-4ab1-b250-f3db168b7e71",
   "metadata": {},
   "outputs": [
    {
     "data": {
      "text/plain": [
       "array([[10,  9],\n",
       "       [ 8,  7],\n",
       "       [ 6,  5],\n",
       "       [ 4,  3],\n",
       "       [ 2,  1]])"
      ]
     },
     "execution_count": 454,
     "metadata": {},
     "output_type": "execute_result"
    }
   ],
   "source": [
    "a.reshape(5,2)"
   ]
  },
  {
   "cell_type": "code",
   "execution_count": 456,
   "id": "a3589453-4769-421a-9da9-a45963472fcb",
   "metadata": {},
   "outputs": [
    {
     "data": {
      "text/plain": [
       "array([[ 1,  2,  3,  4],\n",
       "       [ 5,  6,  7,  8],\n",
       "       [ 9, 10, 11, 12],\n",
       "       [13, 14, 15, 16]])"
      ]
     },
     "execution_count": 456,
     "metadata": {},
     "output_type": "execute_result"
    }
   ],
   "source": [
    "np.arange(1,17).reshape(4,4)"
   ]
  },
  {
   "cell_type": "code",
   "execution_count": 461,
   "id": "5c1e64d3-cf59-4530-8fe4-21ba27713196",
   "metadata": {},
   "outputs": [],
   "source": [
    "a = np.random.random(10)"
   ]
  },
  {
   "cell_type": "code",
   "execution_count": 475,
   "id": "1cd6264d-474c-4d61-9c6e-01e4c1a69365",
   "metadata": {},
   "outputs": [],
   "source": [
    "np.random.seed(1)  #random seed로 고정할수 있다\n",
    "a = np.random.random(10)"
   ]
  },
  {
   "cell_type": "code",
   "execution_count": 474,
   "id": "a76fdff6-8d08-44f5-ac3f-cb2ec6d9e4e1",
   "metadata": {},
   "outputs": [
    {
     "name": "stdout",
     "output_type": "stream",
     "text": [
      "0.7203244934421581\n",
      "0.00011437481734488664\n",
      "0.3146293077834573\n"
     ]
    }
   ],
   "source": [
    "print(a.max())\n",
    "print(a.min())\n",
    "print(a.mean())"
   ]
  },
  {
   "cell_type": "code",
   "execution_count": 490,
   "id": "8e9c8fe2-f1e5-4e4d-a6e3-be0210253828",
   "metadata": {},
   "outputs": [
    {
     "name": "stdin",
     "output_type": "stream",
     "text": [
      " 3\n"
     ]
    },
    {
     "name": "stdout",
     "output_type": "stream",
     "text": [
      "[[1 0 1]\n",
      " [0 1 0]\n",
      " [1 0 1]]\n"
     ]
    }
   ],
   "source": [
    "n = int(input())\n",
    "a = np.full((n,n), 0)\n",
    "for i in range(n):\n",
    "    for j in range(n):\n",
    "        if (i+j)%2 ==0 :\n",
    "            a[i,j] = 1\n",
    "print(a)"
   ]
  },
  {
   "cell_type": "code",
   "execution_count": 491,
   "id": "dd056b0e-a592-434f-8a0c-fa6b1f6b5d6e",
   "metadata": {},
   "outputs": [],
   "source": [
    "#혼자해볼것 arange 로 다 1이나 0으로 만든다음에 짝수나 홀수를 1이나 0으로 바꾼뒤 reshape 하는 방법"
   ]
  },
  {
   "cell_type": "code",
   "execution_count": 485,
   "id": "403c8336-54a0-486e-a71a-a467c1f0aace",
   "metadata": {},
   "outputs": [],
   "source": [
    "a[0,0] = 1"
   ]
  },
  {
   "cell_type": "code",
   "execution_count": 486,
   "id": "f7949fe9-4808-4e7c-a8af-aaa974090570",
   "metadata": {},
   "outputs": [
    {
     "data": {
      "text/plain": [
       "array([[1, 0, 0],\n",
       "       [0, 0, 0],\n",
       "       [0, 0, 0]])"
      ]
     },
     "execution_count": 486,
     "metadata": {},
     "output_type": "execute_result"
    }
   ],
   "source": [
    "a"
   ]
  },
  {
   "cell_type": "code",
   "execution_count": 487,
   "id": "fff7d004-3fdd-4fdc-a90c-8309ef97f54e",
   "metadata": {},
   "outputs": [],
   "source": [
    "a[0,2] = 1\n",
    "a[1,1] = 1"
   ]
  },
  {
   "cell_type": "code",
   "execution_count": 488,
   "id": "3edbae5f-5615-40cb-9047-110ffbfa195f",
   "metadata": {},
   "outputs": [
    {
     "data": {
      "text/plain": [
       "array([[1, 0, 1],\n",
       "       [0, 1, 0],\n",
       "       [0, 0, 0]])"
      ]
     },
     "execution_count": 488,
     "metadata": {},
     "output_type": "execute_result"
    }
   ],
   "source": [
    "a"
   ]
  },
  {
   "cell_type": "code",
   "execution_count": 516,
   "id": "06aa8e7c-3682-4428-be42-9526254eccf8",
   "metadata": {},
   "outputs": [
    {
     "name": "stdin",
     "output_type": "stream",
     "text": [
      " 4\n"
     ]
    }
   ],
   "source": [
    "n = int(input())\n",
    "b = np.arange(1,(n**2)+1)\n",
    "for i in range(len(b)):\n",
    "    if i%2 == 0:\n",
    "        b[i] = 1\n",
    "    else:\n",
    "        b[i] = 0\n"
   ]
  },
  {
   "cell_type": "code",
   "execution_count": 511,
   "id": "3087618a-9a05-4508-8f31-e628713463a3",
   "metadata": {},
   "outputs": [
    {
     "data": {
      "text/plain": [
       "numpy.ndarray"
      ]
     },
     "execution_count": 511,
     "metadata": {},
     "output_type": "execute_result"
    }
   ],
   "source": [
    "type(b)"
   ]
  },
  {
   "cell_type": "code",
   "execution_count": 517,
   "id": "288a0e4d-1ca1-404d-8abe-b44e944ba8b0",
   "metadata": {},
   "outputs": [
    {
     "name": "stdout",
     "output_type": "stream",
     "text": [
      "[[1 0 1 0]\n",
      " [1 0 1 0]\n",
      " [1 0 1 0]\n",
      " [1 0 1 0]]\n"
     ]
    }
   ],
   "source": [
    "b=b.reshape(n,n)\n",
    "print(b)"
   ]
  },
  {
   "cell_type": "code",
   "execution_count": 531,
   "id": "db014246-6399-44bf-abdd-96fe5b22fcef",
   "metadata": {},
   "outputs": [],
   "source": [
    "#문제점 알겠다 짝수일때는 문제가 발생한다"
   ]
  },
  {
   "cell_type": "code",
   "execution_count": 534,
   "id": "b418a816-1b13-4a39-a4b8-eb8368e0ab01",
   "metadata": {},
   "outputs": [
    {
     "name": "stdin",
     "output_type": "stream",
     "text": [
      " 6\n"
     ]
    },
    {
     "name": "stdout",
     "output_type": "stream",
     "text": [
      "[[1 0 0 0 0 0]\n",
      " [0 2 0 0 0 0]\n",
      " [0 0 3 0 0 0]\n",
      " [0 0 0 4 0 0]\n",
      " [0 0 0 0 5 0]\n",
      " [0 0 0 0 0 6]]\n"
     ]
    }
   ],
   "source": [
    "n = int(input())\n",
    "c = np.full((n,n),0)\n",
    "for i in range(n):\n",
    "    c[i,i] = i+1\n",
    "print(c)"
   ]
  },
  {
   "cell_type": "code",
   "execution_count": 553,
   "id": "8f144889-0d63-4943-99ed-57323e021605",
   "metadata": {},
   "outputs": [
    {
     "name": "stdin",
     "output_type": "stream",
     "text": [
      " 5\n"
     ]
    },
    {
     "name": "stdout",
     "output_type": "stream",
     "text": [
      "[[1 1 1 1 1]\n",
      " [1 0 0 0 1]\n",
      " [1 0 0 0 1]\n",
      " [1 0 0 0 1]\n",
      " [1 1 1 1 1]]\n"
     ]
    }
   ],
   "source": [
    "n = int(input())\n",
    "d = np.full((n,n),1)\n",
    "d[1:-1,1:-1] = 0\n",
    "\n",
    "print(d)"
   ]
  },
  {
   "cell_type": "code",
   "execution_count": 572,
   "id": "ce70144c-998f-44d9-a0cc-6ec0ae41335c",
   "metadata": {},
   "outputs": [
    {
     "name": "stdin",
     "output_type": "stream",
     "text": [
      "n :  5\n"
     ]
    },
    {
     "name": "stdout",
     "output_type": "stream",
     "text": [
      "[[1 1 1 1 1]\n",
      " [1 0 0 0 1]\n",
      " [1 0 0 0 1]\n",
      " [1 0 0 0 1]\n",
      " [1 1 1 1 1]]\n"
     ]
    }
   ],
   "source": [
    "#==============================\n",
    "n = int(input(\"n : \"))\n",
    "a = np.full((n,n),1)\n",
    "b=a\n",
    "b[1:-1, 1:-1] = 0\n",
    "print(a)"
   ]
  },
  {
   "cell_type": "code",
   "execution_count": 573,
   "id": "dc75dc02-de8c-4d00-9df0-76b4b9aed352",
   "metadata": {},
   "outputs": [
    {
     "name": "stdin",
     "output_type": "stream",
     "text": [
      " 10\n"
     ]
    },
    {
     "name": "stdout",
     "output_type": "stream",
     "text": [
      "[[0 0 0 0 0 0 0 0 0 0]\n",
      " [0 1 1 1 1 1 1 1 1 0]\n",
      " [0 1 1 1 1 1 1 1 1 0]\n",
      " [0 1 1 1 1 1 1 1 1 0]\n",
      " [0 1 1 1 1 1 1 1 1 0]\n",
      " [0 1 1 1 1 1 1 1 1 0]\n",
      " [0 1 1 1 1 1 1 1 1 0]\n",
      " [0 1 1 1 1 1 1 1 1 0]\n",
      " [0 1 1 1 1 1 1 1 1 0]\n",
      " [0 0 0 0 0 0 0 0 0 0]]\n"
     ]
    }
   ],
   "source": [
    "n = int(input())\n",
    "d = np.full((n,n),0)\n",
    "d[1:-1,1:-1] = 1\n",
    "\n",
    "print(d)"
   ]
  },
  {
   "cell_type": "code",
   "execution_count": 574,
   "id": "a7289e3d-3184-463e-9480-22e063422277",
   "metadata": {},
   "outputs": [
    {
     "name": "stdin",
     "output_type": "stream",
     "text": [
      " 5\n"
     ]
    },
    {
     "name": "stdout",
     "output_type": "stream",
     "text": [
      "[[1 1 1 1 1]\n",
      " [1 0 0 0 1]\n",
      " [1 0 0 0 1]\n",
      " [1 0 0 0 1]\n",
      " [1 1 1 1 1]]\n"
     ]
    }
   ],
   "source": [
    "n = int(input())\n",
    "d = np.full((n,n),0)\n",
    "d[1:-1,1:-1] = 1\n",
    "d= (d-1)*-1\n",
    "print(d)"
   ]
  },
  {
   "cell_type": "code",
   "execution_count": 580,
   "id": "37297e39-21e3-47e5-94c7-feb080439ed5",
   "metadata": {},
   "outputs": [],
   "source": [
    "a = np.array([0, 10, 20, 40 ,60 ,80])\n",
    "b = np.array([0,20])"
   ]
  },
  {
   "cell_type": "code",
   "execution_count": 577,
   "id": "b3cf9e45-07c6-4951-82b5-da28b3ba3cb4",
   "metadata": {},
   "outputs": [
    {
     "data": {
      "text/plain": [
       "array(True)"
      ]
     },
     "execution_count": 577,
     "metadata": {},
     "output_type": "execute_result"
    }
   ],
   "source": [
    "np.array(b[0] in a)"
   ]
  },
  {
   "cell_type": "code",
   "execution_count": 581,
   "id": "7e737447-67de-414c-b5a9-cb1315fca84c",
   "metadata": {},
   "outputs": [
    {
     "data": {
      "text/plain": [
       "array([ 0, 10, 20, 40, 60, 80])"
      ]
     },
     "execution_count": 581,
     "metadata": {},
     "output_type": "execute_result"
    }
   ],
   "source": [
    "a\n"
   ]
  },
  {
   "cell_type": "code",
   "execution_count": 582,
   "id": "a57ec820-e0d2-42af-a4ff-244ece112863",
   "metadata": {},
   "outputs": [
    {
     "data": {
      "text/plain": [
       "array([ 0, 20])"
      ]
     },
     "execution_count": 582,
     "metadata": {},
     "output_type": "execute_result"
    }
   ],
   "source": [
    "b"
   ]
  },
  {
   "cell_type": "code",
   "execution_count": null,
   "id": "a3ce0898-7752-49bd-a780-256145cbc2c3",
   "metadata": {},
   "outputs": [],
   "source": [
    "x = np.array([[10,20,40,60],[10,20,40,40]])"
   ]
  },
  {
   "cell_type": "code",
   "execution_count": 591,
   "id": "9878d6d1-65d5-4b61-ac97-47423d6005ad",
   "metadata": {},
   "outputs": [
    {
     "data": {
      "text/plain": [
       "array([[10, 20, 40, 60],\n",
       "       [10, 20, 40, 40]])"
      ]
     },
     "execution_count": 591,
     "metadata": {},
     "output_type": "execute_result"
    }
   ],
   "source": [
    "x"
   ]
  },
  {
   "cell_type": "code",
   "execution_count": 593,
   "id": "eb11af71-ee06-4e93-b5b1-11080ff177d1",
   "metadata": {},
   "outputs": [],
   "source": [
    "x.sort()"
   ]
  },
  {
   "cell_type": "code",
   "execution_count": 594,
   "id": "78554ce9-0e15-4d9c-97cd-0c45f8e113bd",
   "metadata": {},
   "outputs": [
    {
     "data": {
      "text/plain": [
       "array([[10, 20, 40, 60],\n",
       "       [10, 20, 40, 40]])"
      ]
     },
     "execution_count": 594,
     "metadata": {},
     "output_type": "execute_result"
    }
   ],
   "source": [
    "x"
   ]
  },
  {
   "cell_type": "code",
   "execution_count": 601,
   "id": "fcd24fce-448e-4fa6-9bea-b48fcfb1bd52",
   "metadata": {},
   "outputs": [],
   "source": [
    "a_1 = np.array([0,10,20,40,60,80])\n",
    "b_1 = np.array([0,20])"
   ]
  },
  {
   "cell_type": "code",
   "execution_count": 624,
   "id": "fde0b32f-5a1d-4375-a624-9b4c04a7025c",
   "metadata": {},
   "outputs": [
    {
     "name": "stdin",
     "output_type": "stream",
     "text": [
      "n :  6\n"
     ]
    },
    {
     "name": "stdout",
     "output_type": "stream",
     "text": [
      "[[1 0 0 0 0 1]\n",
      " [0 1 0 0 1 0]\n",
      " [0 0 1 1 0 0]\n",
      " [0 0 1 1 0 0]\n",
      " [0 1 0 0 1 0]\n",
      " [1 0 0 0 0 1]]\n"
     ]
    }
   ],
   "source": [
    "n = int(input(\"n : \"))\n",
    "arar_1 = np.full((n,n),0)\n",
    "for i in range(n):\n",
    "    arar_1[i,i] = 1\n",
    "    arar_1[i,n-i-1] = 1\n",
    "print(arar_1)"
   ]
  },
  {
   "cell_type": "code",
   "execution_count": 625,
   "id": "800cd1b9-2dfd-4e34-b32c-ce4da3066ca7",
   "metadata": {},
   "outputs": [
    {
     "name": "stdin",
     "output_type": "stream",
     "text": [
      "n :  5\n"
     ]
    },
    {
     "name": "stdout",
     "output_type": "stream",
     "text": [
      "[[1 0 0 0 1]\n",
      " [0 1 0 1 0]\n",
      " [0 0 1 0 0]\n",
      " [0 1 0 1 0]\n",
      " [1 0 0 0 1]]\n"
     ]
    }
   ],
   "source": [
    "n = int(input(\"n : \"))\n",
    "arar_1 = np.full((n,n),0)\n",
    "for i in range(n):\n",
    "    arar_1[i,i] = 1\n",
    "    arar_1[i,n-i-1] = 1\n",
    "print(arar_1)"
   ]
  },
  {
   "cell_type": "code",
   "execution_count": 630,
   "id": "bbc72e06-d67f-4dca-b2a9-a48333d2cce1",
   "metadata": {},
   "outputs": [
    {
     "name": "stdin",
     "output_type": "stream",
     "text": [
      "n :  5\n"
     ]
    },
    {
     "name": "stdout",
     "output_type": "stream",
     "text": [
      "[[1 0 0 0 0]\n",
      " [1 1 0 0 0]\n",
      " [1 1 1 0 0]\n",
      " [1 1 1 1 0]\n",
      " [1 1 1 1 1]]\n"
     ]
    }
   ],
   "source": [
    "n = int(input(\"n : \"))\n",
    "arar_1 = np.full((n,n),0)\n",
    "for i in range(n):\n",
    "    arar_1[i,:i+1] = 1\n",
    "print(arar_1)"
   ]
  },
  {
   "cell_type": "code",
   "execution_count": 631,
   "id": "af7fa1fe-bb84-4b25-b457-52d950390cff",
   "metadata": {},
   "outputs": [
    {
     "data": {
      "text/plain": [
       "15"
      ]
     },
     "execution_count": 631,
     "metadata": {},
     "output_type": "execute_result"
    }
   ],
   "source": [
    "arar_1.sum()"
   ]
  },
  {
   "cell_type": "code",
   "execution_count": 634,
   "id": "e3d5a759-2206-425b-8c1f-6a1ac3274af7",
   "metadata": {},
   "outputs": [
    {
     "data": {
      "text/plain": [
       "array([5, 4, 3, 2, 1])"
      ]
     },
     "execution_count": 634,
     "metadata": {},
     "output_type": "execute_result"
    }
   ],
   "source": [
    "arar_1.sum(axis = 0)"
   ]
  },
  {
   "cell_type": "code",
   "execution_count": 635,
   "id": "647d7dba-6464-45db-b2bb-d858bc8945c4",
   "metadata": {},
   "outputs": [
    {
     "data": {
      "text/plain": [
       "array([1, 2, 3, 4, 5])"
      ]
     },
     "execution_count": 635,
     "metadata": {},
     "output_type": "execute_result"
    }
   ],
   "source": [
    "arar_1.sum(axis = 1)"
   ]
  },
  {
   "cell_type": "code",
   "execution_count": 637,
   "id": "b1ffc084-a1c7-4150-82f4-03517c9649c3",
   "metadata": {},
   "outputs": [],
   "source": [
    "a = np.array(([0,1,2],[3,4,5],[0,2,4],[6,8,10]))"
   ]
  },
  {
   "cell_type": "code",
   "execution_count": 638,
   "id": "091f9fa0-e7a4-4a60-8ade-dd8c7279cba4",
   "metadata": {},
   "outputs": [
    {
     "data": {
      "text/plain": [
       "(4, 3)"
      ]
     },
     "execution_count": 638,
     "metadata": {},
     "output_type": "execute_result"
    }
   ],
   "source": [
    "a.shape"
   ]
  },
  {
   "cell_type": "code",
   "execution_count": null,
   "id": "40d51283-04bf-42c5-a42e-fc15b891a18d",
   "metadata": {},
   "outputs": [],
   "source": []
  }
 ],
 "metadata": {
  "kernelspec": {
   "display_name": "Python 3 (ipykernel)",
   "language": "python",
   "name": "python3"
  },
  "language_info": {
   "codemirror_mode": {
    "name": "ipython",
    "version": 3
   },
   "file_extension": ".py",
   "mimetype": "text/x-python",
   "name": "python",
   "nbconvert_exporter": "python",
   "pygments_lexer": "ipython3",
   "version": "3.9.12"
  }
 },
 "nbformat": 4,
 "nbformat_minor": 5
}
