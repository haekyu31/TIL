{
 "cells": [
  {
   "cell_type": "code",
   "execution_count": 1,
   "metadata": {
    "id": "nE27hzXXAYsy"
   },
   "outputs": [],
   "source": [
    "from urllib.request import urlopen\n",
    "import requests\n",
    "from bs4 import BeautifulSoup\n",
    "import pandas as pd"
   ]
  },
  {
   "cell_type": "code",
   "execution_count": null,
   "metadata": {
    "id": "jk23d5FfrHv5"
   },
   "outputs": [],
   "source": [
    "df = pd.DataFrame(columns = [\"title\", \"singer\"]) \n",
    "\n",
    "melon_url = \"https://www.melon.com/genre/song_list.htm?gnrCode=GN0100\"\n",
    "header = {\"User-Agent\": \"Mozilla/5.0 (Windows NT 10.0; Win64; x64) AppleWebKit/537.36 (KHTML, like Gecko)\"}\n",
    "raw = requests.get(melon_url, headers = header)\n",
    "melon_soup = BeautifulSoup(raw.text, \"html.parser\")\n",
    "\n",
    "#melon_soup_list = melon_soup.find(\"div\", attrs = {\"class\":\"wrap_tabmenu01.type08\"})\n",
    "#print(melon_soup_list)\n",
    "\n",
    "melon_soup = melon_soup.select(\"#conts > div.wrap_tabmenu01.type08\")\n",
    "melon_genre = melon_soup[0].find_all(\"li\")\n",
    "\n",
    "for i, j in zip(melon_genre,range(len(melon_genre))):\n",
    "  print(j+1, i.text)\n",
    "\n",
    "\n",
    "genre_input = input(\"장르를 선택하세요 : \")\n",
    "\n",
    "melon_url = f\"https://www.melon.com/genre/song_list.htm?gnrCode=GN0{genre_input}00\"\n",
    "header = {\"User-Agent\": \"Mozilla/5.0 (Windows NT 10.0; Win64; x64) AppleWebKit/537.36 (KHTML, like Gecko)\"}\n",
    "raw = requests.get(melon_url, headers = header)\n",
    "melon_soup = BeautifulSoup(raw.text, \"html.parser\")\n",
    "\n",
    "melon_tbody = melon_soup.find(\"tbody\")\n",
    "title = melon_tbody.find_all(\"div\", {\"class\":\"ellipsis rank01\"})\n",
    "singer = melon_tbody.find_all(\"span\",{\"class\":\"checkEllipsis\"})\n",
    "for i,j in zip (title, singer):\n",
    "  title = i.text\n",
    "  title = title.replace(\"\\n\",\"\")\n",
    "  singer = j.text\n",
    "  print(title, singer)\n",
    "  df = df.append({\"title\": title, \"singer\": singer}, ignore_index = True)\n",
    "df"
   ]
  },
  {
   "cell_type": "code",
   "execution_count": null,
   "metadata": {
    "id": "yIM-sccdw2Xv"
   },
   "outputs": [],
   "source": [
    "df"
   ]
  },
  {
   "cell_type": "code",
   "execution_count": 14,
   "metadata": {
    "id": "gsO0Z4WiP_fF"
   },
   "outputs": [],
   "source": [
    "import requests\n",
    "import pandas as pd\n",
    "from bs4 import BeautifulSoup\n",
    "import pandas as pd"
   ]
  },
  {
   "cell_type": "code",
   "execution_count": 3,
   "metadata": {
    "id": "c06NhzkJUIyn"
   },
   "outputs": [],
   "source": [
    "# 1. url https://www.melon.com/genre/song_list.htm?gnrCode=GN0100 : 의 숫자를 변경\n",
    "# n = input(\"장르 번호를 입력하세요\") #n 은 문자열\n",
    "# url = f\"https://www.melon.com/genre/song_list.htm?gnrCode=GN0{}00\"\n",
    "\n",
    "# 2. if else 문을 이용해서 8개의 경우로 나눈다. \n",
    "\n",
    "# 3. 장르탭을 크롤링한다."
   ]
  },
  {
   "cell_type": "code",
   "execution_count": 24,
   "metadata": {
    "colab": {
     "base_uri": "https://localhost:8080/"
    },
    "id": "XZeC7O9BVN17",
    "outputId": "f474b538-ae1f-4611-fb86-26e50c0b4d54"
   },
   "outputs": [
    {
     "name": "stdout",
     "output_type": "stream",
     "text": [
      "1 : 발라드\n",
      "2 : 댄스\n",
      "3 : 랩/힙합\n",
      "4 : R&B/Soul\n",
      "5 : 인디음악\n",
      "6 : 록/메탈\n",
      "7 : 트로트\n",
      "8 : 포크/블루스\n",
      "원하는 장르의 번호를 입력하세요 : 1\n"
     ]
    }
   ],
   "source": [
    "url = \"https://www.melon.com/genre/song_list.htm\"\n",
    "header= {\"User-Agent\": \"Mozilla/5.0 (Windows NT 10.0; Win64; x64) AppleWebKit/537.36 (KHTML, like Gecko)\"}\n",
    "raw = requests.get(url, headers= header)\n",
    "\n",
    "html =raw.text\n",
    "soup = BeautifulSoup(html, \"html.parser\")\n",
    "s_1 = soup.find(\"div\", {\"class\": \"wrap_tabmenu01 type08\"}).find_all(\"a\")\n",
    "#print(s_1[0].text)\n",
    "\n",
    "gen_len = len(s_1)\n",
    "for i in range(0,gen_len):\n",
    "  print(i+1, \":\", s_1[i].get_text())\n",
    "\n",
    "n = int(input(\"원하는 장르의 번호를 입력하세요 : \"))-1\n",
    "\n",
    "root_url = \"https://www.melon.com\"\n",
    "gen_url = root_url + s_1[n][\"href\"]\n",
    "\n",
    "raw = requests.get(gen_url, headers= header)\n",
    "soup = BeautifulSoup(raw.text, \"html.parser\")\n",
    "\n",
    "body = soup.find(\"tbody\")\n",
    "\n",
    "titles = body.find_all(\"div\", {\"class\": \"ellipsis rank01\"})\n",
    "singers = body.find_all(\"div\", {\"class\": \"ellipsis rank02\"})\n",
    "\n",
    "df = pd.DataFrame(columns=[\"순위\", \"제목\", \"가수\"])\n",
    "ranking = 1\n",
    "for title, singer in zip(titles, singers):\n",
    "  df = df.append({\"순위\":ranking, \"제목\":title.find(\"a\").text, \"가수\":singer.find(\"a\").text}, ignore_index=True)\n",
    "  ranking += 1\n",
    " # print(title.find(\"a\").text)\n",
    " # print(singer.find(\"a\").text) \n",
    " \n"
   ]
  },
  {
   "cell_type": "code",
   "execution_count": null,
   "metadata": {
    "id": "SqzUkQJkbOw2"
   },
   "outputs": [],
   "source": [
    "df"
   ]
  },
  {
   "cell_type": "code",
   "execution_count": null,
   "metadata": {
    "id": "8rqj8IPYcjkq"
   },
   "outputs": [],
   "source": [
    "import pandas as pd\n",
    "\n",
    "\n",
    "def get_genre():\n",
    "  url = \"https://www.melon.com/genre/song_list.htm\"\n",
    "  header= {\"User-Agent\": \"Mozilla/5.0 (Windows NT 10.0; Win64; x64) AppleWebKit/537.36 (KHTML, like Gecko)\"}\n",
    "  raw = requests.get(url, headers= header)\n",
    "\n",
    "  html =raw.text\n",
    "  soup = BeautifulSoup(html, \"html.parser\")\n",
    "  s_1 = soup.find(\"div\", {\"class\": \"wrap_tabmenu01 type08\"}).find_all(\"a\")\n",
    "  return s_1\n",
    "\n",
    "\n",
    "\n",
    "def get_rank(url):\n",
    "  root_url = \"https://www.melon.com\"\n",
    "  gen_url = root_url + url\n",
    "\n",
    "  raw = requests.get(gen_url, headers= header)\n",
    "  soup = BeautifulSoup(raw.text, \"html.parser\")\n",
    "\n",
    "  body = soup.find(\"tbody\")\n",
    "\n",
    "  titles = body.find_all(\"div\", {\"class\": \"ellipsis rank01\"})\n",
    "  singers = body.find_all(\"div\", {\"class\": \"ellipsis rank02\"})\n",
    "\n",
    "  df = pd.DataFrame(columns=[\"순위\", \"제목\", \"가수\"])\n",
    "  ranking = 1\n",
    "  for title, singer in zip(titles, singers):\n",
    "    df = df.append({\"순위\":ranking, \"제목\":title.find(\"a\").text, \"가수\":singer.find(\"a\").text}, ignore_index=True)\n",
    "    ranking += 1\n",
    "  return df\n",
    "\n",
    "genres = get_genre()\n",
    "gen_len = len(genres)\n",
    "for i in range(0, gen_len):\n",
    "  print(i+1 ,\":\" ,genres[i].get_text())\n",
    "n = int(input(\"원하는 장르의 번호를 입력하세요 : \")) - 1\n",
    "\n",
    "print(get_rank(genres[n][\"href\"]) )\n",
    "\n",
    "# 다 만들고 나서 함수로 분리하는 방법을 사용한다."
   ]
  },
  {
   "cell_type": "code",
   "execution_count": 42,
   "metadata": {
    "colab": {
     "base_uri": "https://localhost:8080/"
    },
    "id": "zKa6V8B-gSkV",
    "outputId": "3aeeaa69-ffc9-44eb-f916-0fc8a462a367"
   },
   "outputs": [
    {
     "name": "stdout",
     "output_type": "stream",
     "text": [
      "2022.06.09.\n",
      "\n",
      "결혼하는방법\n",
      "\n"
     ]
    }
   ],
   "source": [
    "import requests\n",
    "from bs4 import BeautifulSoup as bs\n",
    "import select\n",
    "\n",
    "url = \"https://kin.naver.com/search/list.naver?query=%EA%B2%B0%ED%98%BC%ED%95%98%EB%8A%94%EB%B0%A9%EB%B2%95\"\n",
    "\n",
    "html = requests.get(url)\n",
    "soup = bs(html.text, \"html.parser\")\n",
    "\n",
    "# selector 를 이용한 태그 검색\n",
    "titles = soup.select(\"#s_content > div.section > ul\")\n",
    "# print(titles[0].find_all(\"li\"))\n",
    "\n",
    "print(titles[0].find(\"dd\").text)\n",
    "print(titles[0].find(\"dt\").text)\n",
    "# 제목과 등록일 추출\n",
    "#print(titles)\n"
   ]
  },
  {
   "cell_type": "code",
   "execution_count": 75,
   "metadata": {
    "colab": {
     "base_uri": "https://localhost:8080/"
    },
    "id": "1eYMmduZjvJa",
    "outputId": "efa942b2-a6ab-42e7-c819-f3b239e282ee"
   },
   "outputs": [
    {
     "name": "stdout",
     "output_type": "stream",
     "text": [
      "                           제목          등록일  \\\n",
      "0                      결혼하는방법  2022.06.09.   \n",
      "1                연예인이랑 결혼하는방법  2022.06.25.   \n",
      "2    불법체류자 태국인과 결혼하는 방법이있...   2022.05.31.   \n",
      "3              이도현 배우랑 결혼하는방법  2022.01.13.   \n",
      "4                여친이랑 결혼하는방법?  2022.02.10.   \n",
      "5                      국제결혼방법  2022.02.01.   \n",
      "6                손석구랑 결혼하는 방법  2022.06.27.   \n",
      "7                 범규랑 결혼하는 방법  2022.02.23.   \n",
      "8          긴급) 좋아하는오빠랑 결혼하는방법  2021.10.29.   \n",
      "9  연애와 결혼을 하지 않고 혼자 사는 방법...   2022.06.23.   \n",
      "\n",
      "                                                  내용  \n",
      "0  ... 저랑 결혼을 할려면 어떻게 해야되나요?  기한 넘기지 말고... 현지 혼인신...  \n",
      "1  연예인이랑 결혼 하고싶은 한 여자 입니다 연예인이랑 결혼하려면 무조건 학력은... ...  \n",
      "2  불법체류자 태국인과 결혼하는 방법이있나요? 여성분은 3년이상 불법체류하고있는 상태이...  \n",
      "3  이도현 배우랑 결혼하는 방법 알려주세요. 나이는 10살 정도 차이나구요. 이도현씨를...  \n",
      "4  안녕하세요 제목 그대로 저는 지적장애인이고 30대 초반남이고 여친도 지적장애인 30...  \n",
      "5  우즈백 남자친구하고 결혼준비하고 있어요 빨리결혼하는 방법좀가르쳐주세요 참고로 우즈백...  \n",
      "6  안녕하세요 고등학생입니다 제가 손석구가 너무너무너무넘눠무넘 좋아요 그래서 결혼을 해...  \n",
      "7  아니 투바투범규랑 결혼하는 방법 좀 알려주세요 아니 진짜 446일차 모아인데요 진짜...  \n",
      "8  좋아하는오빠랑 결혼하는 방법 좀 알려주세요. 진짜 제 소원인데 결혼할 수 있을까요?...  \n",
      "9  ... 연애와 결혼을 하지 않고 혼자 사는 방법에 대해 궁금한 점이 있어서 질문드립...  \n"
     ]
    }
   ],
   "source": [
    "import requests\n",
    "from bs4 import BeautifulSoup as bs\n",
    "import select\n",
    "\n",
    "# 페이지의 전체 내용을 출력해보세요.\n",
    "\n",
    "url = \"https://kin.naver.com/search/list.naver?query=%EA%B2%B0%ED%98%BC%ED%95%98%EB%8A%94%EB%B0%A9%EB%B2%95\"\n",
    "\n",
    "html = requests.get(url)\n",
    "soup = bs(html.text, \"html.parser\")\n",
    "\n",
    "titles = soup.select(\"#s_content > div.section > ul\") # 하나의 리스트로 바꾼다.\n",
    "title = titles[0].find_all(\"li\")\n",
    "#[0]으로 리스트에서 요소를 뽑아야 find를 쓸 수 있다.\n",
    "\n",
    "df = pd.DataFrame(columns = [\"제목\",\"등록일\"])\n",
    "\n",
    "for i in title:\n",
    "  df = df.append({\"제목\":i.find(\"dt\").text.replace(\"\\n\",\"\"),\n",
    "                  \"내용\":i.find_all(\"dd\")[1].text,\n",
    "                  \"등록일\":i.find_all(\"dd\")[0].text}, ignore_index = True)\n",
    "print(df)\n",
    "\n",
    "# 제목과 등록일 추출\n"
   ]
  },
  {
   "cell_type": "code",
   "execution_count": null,
   "metadata": {
    "id": "zIE-sDRcvt_p"
   },
   "outputs": [],
   "source": [
    "import requests\n",
    "from bs4 import BeautifulSoup as bs\n",
    "import select\n",
    "\n",
    "# 페이지의 전체 내용을 출력해보세요.\n",
    "input_query = input(\"검색어를 입력하세요 : \")\n",
    "url = f\"https://kin.naver.com/search/list.naver?query={input_query}\"\n",
    "\n",
    "html = requests.get(url)\n",
    "soup = bs(html.text, \"html.parser\")\n",
    "\n",
    "titles = soup.select(\"#s_content > div.section > ul\") # 하나의 리스트로 바꾼다.\n",
    "title = titles[0].find_all(\"li\")\n",
    "#[0]으로 리스트에서 요소를 뽑아야 find를 쓸 수 있다.\n",
    "\n",
    "df = pd.DataFrame(columns = [\"제목\",\"등록일\"])\n",
    "\n",
    "for i in title:\n",
    "  df = df.append({\"제목\":i.find(\"dt\").text.replace(\"\\n\",\"\"),\n",
    "                  \"내용\":i.find_all(\"dd\")[1].text,\n",
    "                  \"등록일\":i.find_all(\"dd\")[0].text}, ignore_index = True)\n",
    "print(df)\n",
    "\n",
    "# 제목과 등록일 추출\n"
   ]
  },
  {
   "cell_type": "code",
   "execution_count": 153,
   "metadata": {
    "colab": {
     "base_uri": "https://localhost:8080/",
     "height": 363
    },
    "id": "AJ5bS86iwTl6",
    "outputId": "0257812e-ce44-4773-c06f-3098f5954b60"
   },
   "outputs": [
    {
     "data": {
      "text/html": [
       "\n",
       "  <div id=\"df-12a9a502-3c6c-4631-b599-71ecd7d39080\">\n",
       "    <div class=\"colab-df-container\">\n",
       "      <div>\n",
       "<style scoped>\n",
       "    .dataframe tbody tr th:only-of-type {\n",
       "        vertical-align: middle;\n",
       "    }\n",
       "\n",
       "    .dataframe tbody tr th {\n",
       "        vertical-align: top;\n",
       "    }\n",
       "\n",
       "    .dataframe thead th {\n",
       "        text-align: right;\n",
       "    }\n",
       "</style>\n",
       "<table border=\"1\" class=\"dataframe\">\n",
       "  <thead>\n",
       "    <tr style=\"text-align: right;\">\n",
       "      <th></th>\n",
       "      <th>제목</th>\n",
       "      <th>평점</th>\n",
       "      <th>감상평</th>\n",
       "    </tr>\n",
       "  </thead>\n",
       "  <tbody>\n",
       "    <tr>\n",
       "      <th>0</th>\n",
       "      <td>한산: 용의 출현</td>\n",
       "      <td>6</td>\n",
       "      <td>그저그럼 좀지루하고 캐스팅도 그닥?최민식이 했어야했다 천만넘길수있을까???</td>\n",
       "    </tr>\n",
       "    <tr>\n",
       "      <th>1</th>\n",
       "      <td>하나-비</td>\n",
       "      <td>10</td>\n",
       "      <td>눈이 녹고 아직 춥지만 서서히 따뜻한 바람이 불어오고 봄이 시작되기 전 이면 생각나...</td>\n",
       "    </tr>\n",
       "    <tr>\n",
       "      <th>2</th>\n",
       "      <td>한산: 용의 출현</td>\n",
       "      <td>10</td>\n",
       "      <td>살짝의 클리셰 있지만 해전 볼만합니다</td>\n",
       "    </tr>\n",
       "    <tr>\n",
       "      <th>3</th>\n",
       "      <td>마녀(魔女) Part2. The Other One</td>\n",
       "      <td>7</td>\n",
       "      <td>스토리는 모르겠지만 액션은 괜찮았다.</td>\n",
       "    </tr>\n",
       "    <tr>\n",
       "      <th>4</th>\n",
       "      <td>외계+인 1부</td>\n",
       "      <td>10</td>\n",
       "      <td>다들 별로라고 해서 걱정하고 갔는데 역시 처음 생각했던 대로  너무 재미있었습니다 ...</td>\n",
       "    </tr>\n",
       "    <tr>\n",
       "      <th>5</th>\n",
       "      <td>한산: 용의 출현</td>\n",
       "      <td>10</td>\n",
       "      <td>와 올만에 제대로된 대작이네요</td>\n",
       "    </tr>\n",
       "    <tr>\n",
       "      <th>6</th>\n",
       "      <td>한산: 용의 출현</td>\n",
       "      <td>9</td>\n",
       "      <td>감동도 재미도 있고 적에대한 사실묘사도 쾐찬은데 명량같이 전율과 이순신의 위대한 먼...</td>\n",
       "    </tr>\n",
       "    <tr>\n",
       "      <th>7</th>\n",
       "      <td>한산: 용의 출현</td>\n",
       "      <td>9</td>\n",
       "      <td>감동도 재미도 있고 적에대한 사실묘사도 쾐찬은데 명량같이 전율과 이순신의 위대한 먼...</td>\n",
       "    </tr>\n",
       "    <tr>\n",
       "      <th>8</th>\n",
       "      <td>한산: 용의 출현</td>\n",
       "      <td>10</td>\n",
       "      <td>이게 영화지 속이 뻥 뚫린다</td>\n",
       "    </tr>\n",
       "    <tr>\n",
       "      <th>9</th>\n",
       "      <td>외계+인 1부</td>\n",
       "      <td>10</td>\n",
       "      <td>최종훈은 한국의 크리스토퍼 놀란이다</td>\n",
       "    </tr>\n",
       "  </tbody>\n",
       "</table>\n",
       "</div>\n",
       "      <button class=\"colab-df-convert\" onclick=\"convertToInteractive('df-12a9a502-3c6c-4631-b599-71ecd7d39080')\"\n",
       "              title=\"Convert this dataframe to an interactive table.\"\n",
       "              style=\"display:none;\">\n",
       "        \n",
       "  <svg xmlns=\"http://www.w3.org/2000/svg\" height=\"24px\"viewBox=\"0 0 24 24\"\n",
       "       width=\"24px\">\n",
       "    <path d=\"M0 0h24v24H0V0z\" fill=\"none\"/>\n",
       "    <path d=\"M18.56 5.44l.94 2.06.94-2.06 2.06-.94-2.06-.94-.94-2.06-.94 2.06-2.06.94zm-11 1L8.5 8.5l.94-2.06 2.06-.94-2.06-.94L8.5 2.5l-.94 2.06-2.06.94zm10 10l.94 2.06.94-2.06 2.06-.94-2.06-.94-.94-2.06-.94 2.06-2.06.94z\"/><path d=\"M17.41 7.96l-1.37-1.37c-.4-.4-.92-.59-1.43-.59-.52 0-1.04.2-1.43.59L10.3 9.45l-7.72 7.72c-.78.78-.78 2.05 0 2.83L4 21.41c.39.39.9.59 1.41.59.51 0 1.02-.2 1.41-.59l7.78-7.78 2.81-2.81c.8-.78.8-2.07 0-2.86zM5.41 20L4 18.59l7.72-7.72 1.47 1.35L5.41 20z\"/>\n",
       "  </svg>\n",
       "      </button>\n",
       "      \n",
       "  <style>\n",
       "    .colab-df-container {\n",
       "      display:flex;\n",
       "      flex-wrap:wrap;\n",
       "      gap: 12px;\n",
       "    }\n",
       "\n",
       "    .colab-df-convert {\n",
       "      background-color: #E8F0FE;\n",
       "      border: none;\n",
       "      border-radius: 50%;\n",
       "      cursor: pointer;\n",
       "      display: none;\n",
       "      fill: #1967D2;\n",
       "      height: 32px;\n",
       "      padding: 0 0 0 0;\n",
       "      width: 32px;\n",
       "    }\n",
       "\n",
       "    .colab-df-convert:hover {\n",
       "      background-color: #E2EBFA;\n",
       "      box-shadow: 0px 1px 2px rgba(60, 64, 67, 0.3), 0px 1px 3px 1px rgba(60, 64, 67, 0.15);\n",
       "      fill: #174EA6;\n",
       "    }\n",
       "\n",
       "    [theme=dark] .colab-df-convert {\n",
       "      background-color: #3B4455;\n",
       "      fill: #D2E3FC;\n",
       "    }\n",
       "\n",
       "    [theme=dark] .colab-df-convert:hover {\n",
       "      background-color: #434B5C;\n",
       "      box-shadow: 0px 1px 3px 1px rgba(0, 0, 0, 0.15);\n",
       "      filter: drop-shadow(0px 1px 2px rgba(0, 0, 0, 0.3));\n",
       "      fill: #FFFFFF;\n",
       "    }\n",
       "  </style>\n",
       "\n",
       "      <script>\n",
       "        const buttonEl =\n",
       "          document.querySelector('#df-12a9a502-3c6c-4631-b599-71ecd7d39080 button.colab-df-convert');\n",
       "        buttonEl.style.display =\n",
       "          google.colab.kernel.accessAllowed ? 'block' : 'none';\n",
       "\n",
       "        async function convertToInteractive(key) {\n",
       "          const element = document.querySelector('#df-12a9a502-3c6c-4631-b599-71ecd7d39080');\n",
       "          const dataTable =\n",
       "            await google.colab.kernel.invokeFunction('convertToInteractive',\n",
       "                                                     [key], {});\n",
       "          if (!dataTable) return;\n",
       "\n",
       "          const docLinkHtml = 'Like what you see? Visit the ' +\n",
       "            '<a target=\"_blank\" href=https://colab.research.google.com/notebooks/data_table.ipynb>data table notebook</a>'\n",
       "            + ' to learn more about interactive tables.';\n",
       "          element.innerHTML = '';\n",
       "          dataTable['output_type'] = 'display_data';\n",
       "          await google.colab.output.renderOutput(dataTable, element);\n",
       "          const docLink = document.createElement('div');\n",
       "          docLink.innerHTML = docLinkHtml;\n",
       "          element.appendChild(docLink);\n",
       "        }\n",
       "      </script>\n",
       "    </div>\n",
       "  </div>\n",
       "  "
      ],
      "text/plain": [
       "                            제목  평점  \\\n",
       "0                    한산: 용의 출현   6   \n",
       "1                         하나-비  10   \n",
       "2                    한산: 용의 출현  10   \n",
       "3  마녀(魔女) Part2. The Other One   7   \n",
       "4                      외계+인 1부  10   \n",
       "5                    한산: 용의 출현  10   \n",
       "6                    한산: 용의 출현   9   \n",
       "7                    한산: 용의 출현   9   \n",
       "8                    한산: 용의 출현  10   \n",
       "9                      외계+인 1부  10   \n",
       "\n",
       "                                                 감상평  \n",
       "0          그저그럼 좀지루하고 캐스팅도 그닥?최민식이 했어야했다 천만넘길수있을까???  \n",
       "1  눈이 녹고 아직 춥지만 서서히 따뜻한 바람이 불어오고 봄이 시작되기 전 이면 생각나...  \n",
       "2                               살짝의 클리셰 있지만 해전 볼만합니다  \n",
       "3                               스토리는 모르겠지만 액션은 괜찮았다.  \n",
       "4  다들 별로라고 해서 걱정하고 갔는데 역시 처음 생각했던 대로  너무 재미있었습니다 ...  \n",
       "5                                   와 올만에 제대로된 대작이네요  \n",
       "6  감동도 재미도 있고 적에대한 사실묘사도 쾐찬은데 명량같이 전율과 이순신의 위대한 먼...  \n",
       "7  감동도 재미도 있고 적에대한 사실묘사도 쾐찬은데 명량같이 전율과 이순신의 위대한 먼...  \n",
       "8                                    이게 영화지 속이 뻥 뚫린다  \n",
       "9                                최종훈은 한국의 크리스토퍼 놀란이다  "
      ]
     },
     "execution_count": 153,
     "metadata": {},
     "output_type": "execute_result"
    }
   ],
   "source": [
    "# 네이버 영화 평점 가져오기  영화제목 평점 감상평\n",
    "\n",
    "url = \"https://movie.naver.com/movie/point/af/list.naver\"\n",
    "html = requests.get(url)\n",
    "soup = bs(html.text, \"html.parser\")\n",
    "\n",
    "# tbody = soup.select(\"#old_content > table > tbody\")\n",
    "tbody = soup.select(\"tbody\")\n",
    "title = tbody[0].find_all(\"tr\")\n",
    "\n",
    "# tbody = soup.find(\"tbody\")\n",
    "# title = tbody.find_all(\"tr\")\n",
    "\n",
    "df = pd.DataFrame(columns= [\"제목\", \"평점\", \"감상평\"])\n",
    "\n",
    "for i in title:\n",
    "  df = df.append({\"제목\": i.find(\"a\").text.strip(),  #strip() 문자열의 공백제거\n",
    "                  \"평점\": i.find(\"em\").text.strip(),\n",
    "                  #\"감상평\": i.find(\"a\",{\"class\":\"report\"}).get(\"onclick\").split(\"', '\")[2]\n",
    "                  \"감상평\" : i.select_one('br').next_sibling.strip()   #select_one 가장 첫 태그를 찾는다.  #next_sibling 다음 요소를 가져온다  # select는 리스트 형태로 저장한다\n",
    "                  }, ignore_index = True)\n",
    "df\n"
   ]
  },
  {
   "cell_type": "code",
   "execution_count": null,
   "metadata": {
    "id": "eua4mTPdAq7u"
   },
   "outputs": [],
   "source": [
    "url = \"https://movie.naver.com/movie/point/af/list.naver?&page=1\"\n",
    "\n",
    "html = requests.get(url)\n",
    "soup = bs(html.text, \"html.parser\")\n",
    "\n",
    "# titles = soup.select(\"#old_content > table > tbody\")\n",
    "titles = soup.select(\"tbody\")\n",
    "\n",
    "title_len = len(titles[0].find_all(\"tr\"))\n",
    "df = pd.DataFrame(columns=[\"num\", \"title\", \"score\", \"review\"])\n",
    "for i in range(0, title_len):\n",
    "  num = titles[0].find_all(\"tr\")[i].text.split(\"\\n\")[1]\n",
    "  title = titles[0].find_all(\"tr\")[i].text.split(\"\\n\")[3]\n",
    "  score = titles[0].find_all(\"tr\")[i].text.split(\"\\n\")[7]\n",
    "  review = titles[0].find_all(\"tr\")[i].text.split(\"\\n\")[5].split(\"점 중\")[1]\n",
    "  df = df.append({\"num\":num, \"title\":title, \"score\":score, \"review\":review}, ignore_index=True)\n",
    "df"
   ]
  },
  {
   "cell_type": "code",
   "execution_count": 280,
   "metadata": {
    "id": "O1ftSSohObQ7"
   },
   "outputs": [],
   "source": [
    "# url = \"https://movie.naver.com/movie/point/af/list.naver?&page=1\"\n",
    "# table_pd = pd.read_html(url)\n",
    "\n",
    "#제목 평점 감상평으로 분리하기\n",
    "# 번호, 제목, 평점, 감상평 으로 분리해 주세요\n",
    "# 100 페이지를 크롤링 하도록 만들어 보세요. \n",
    "# to_csv 를 이용해 csv파일로 저장해 보세요. \n",
    "\n",
    "def collect_review(x):\n",
    "  url = f\"https://movie.naver.com/movie/point/af/list.naver?&page={x}\"\n",
    "  table_pd = pd.read_html(url)\n",
    "  table_pd = table_pd[0]\n",
    "  mv_tb = pd.DataFrame(columns=[\"번호\",\"제목\", \"평점\", \"감상평\"])\n",
    "  for i in range(10):\n",
    "    num = table_pd.번호[i]\n",
    "    title = table_pd.감상평[i].split(\"별점 - 총 10점 중\")[0]\n",
    "    rates = table_pd.감상평[i].split(\"별점 - 총 10점 중\")[1][0:2]\n",
    "    comments = table_pd.감상평[i].split(\"별점 - 총 10점 중\")[1][2:-2]\n",
    "    mv_tb = mv_tb.append({\"번호\": int(num) ,\"제목\": title, \"평점\":int(rates), \"감상평\":comments}, ignore_index = True)\n",
    "  return mv_tb"
   ]
  },
  {
   "cell_type": "code",
   "execution_count": 286,
   "metadata": {
    "colab": {
     "base_uri": "https://localhost:8080/"
    },
    "id": "vL-KYT-2ZQYP",
    "outputId": "b2439e52-c934-4f35-f286-372c0f689565"
   },
   "outputs": [
    {
     "name": "stdout",
     "output_type": "stream",
     "text": [
      "Looking in indexes: https://pypi.org/simple, https://us-python.pkg.dev/colab-wheels/public/simple/\n",
      "Requirement already satisfied: tqdm in /usr/local/lib/python3.7/dist-packages (4.64.0)\n"
     ]
    }
   ],
   "source": [
    "# tqdm 설치 \n",
    "# 반복문의 진행사항을 알수 있다. \n",
    "!pip install tqdm"
   ]
  },
  {
   "cell_type": "code",
   "execution_count": 284,
   "metadata": {
    "colab": {
     "base_uri": "https://localhost:8080/"
    },
    "id": "VJSLJX_HhYPd",
    "outputId": "89565e8c-df05-436f-f3d2-72ad700712eb"
   },
   "outputs": [
    {
     "name": "stdout",
     "output_type": "stream",
     "text": [
      "Looking in indexes: https://pypi.org/simple, https://us-python.pkg.dev/colab-wheels/public/simple/\n",
      "Requirement already satisfied: lxml in /usr/local/lib/python3.7/dist-packages (4.2.6)\n"
     ]
    }
   ],
   "source": [
    "!pip install lxml"
   ]
  },
  {
   "cell_type": "code",
   "execution_count": 283,
   "metadata": {
    "colab": {
     "base_uri": "https://localhost:8080/"
    },
    "id": "6GHWkCpchPMm",
    "outputId": "603bc335-20db-4e2c-f1ec-cbf81a9deac9"
   },
   "outputs": [
    {
     "name": "stderr",
     "output_type": "stream",
     "text": [
      "100%|██████████| 100/100 [01:13<00:00,  1.37it/s]\n"
     ]
    }
   ],
   "source": [
    "import tqdm\n",
    "results = []\n",
    "for i in tqdm.tqdm(range(1,101)):\n",
    "  results.append(collect_review(i))  "
   ]
  },
  {
   "cell_type": "code",
   "execution_count": null,
   "metadata": {
    "id": "NybqwiJxhmoc"
   },
   "outputs": [],
   "source": [
    "print(results)"
   ]
  },
  {
   "cell_type": "code",
   "execution_count": 297,
   "metadata": {
    "id": "q-ufQmJZbxYA"
   },
   "outputs": [],
   "source": [
    "def collect_review(x):\n",
    "  df = pd.DataFrame(columns=[\"번호\", \"제목\", \"평점\", \"감상평\"])\n",
    "  url = f\"https://movie.naver.com/movie/point/af/list.naver?&page={x}\"\n",
    "  table_pd = pd.read_html(url)\n",
    "  for i in range(10):\n",
    "    try:\n",
    "      index = table_pd[0][\"번호\"][i]\n",
    "      name = table_pd[0][\"감상평\"][i].split(\"  별점 - 총 10점 중\")[0]\n",
    "      data = table_pd[0][\"감상평\"][i].split(\"  별점 - 총 10점 중\")[1][:-3].split(\"  \")\n",
    "      if len(data) == 2:\n",
    "        df = df.append({\"번호\":int(index), \"제목\":name, \"평점\":int(data[0]), \"감상평\":data[1]}, ignore_index=True)\n",
    "    except:\n",
    "      pass\n",
    "  return df"
   ]
  },
  {
   "cell_type": "markdown",
   "metadata": {
    "id": "z1sm2eFwieKF"
   },
   "source": [
    "# Threading(쓰레딩) vs Multiprocessing\n",
    "# https://yeonfamily.tistory.com/3\n",
    "# https://chacha95.github.io/2020-12-19-python4/"
   ]
  },
  {
   "cell_type": "markdown",
   "metadata": {
    "id": "EUehATVoktks"
   },
   "source": [
    "\n",
    "# Threading\n",
    "- 가벼운 프로세스 라고 하는 스레드는 프로세스 안에서 실행되는 단위\n",
    "- 하나의 프로세스 안에 스레드가 여러개 존재가능\n",
    "    - 하나의 프로세스에 하나의 스레드만 존재한다면 싱글 스레드 프로세스 두개 이상의 스레드가 존재한다면 멀티스레드 프로세스"
   ]
  },
  {
   "cell_type": "markdown",
   "metadata": {
    "id": "QjGLTh0skwgw"
   },
   "source": [
    "<img src= \"https://user-images.githubusercontent.com/31475037/103182666-9db27000-48f0-11eb-986a-23fa66954a74.png\">"
   ]
  },
  {
   "cell_type": "markdown",
   "metadata": {
    "id": "aPRnngitkyKk"
   },
   "source": [
    "\n",
    "- 하나의 프로세스 안에 있는 스레드들은 각각 독립적으로 스택을 가지고 실행되지만, 코드와 데이터는 공유한다. \n",
    "- 스레드의 실행은 어느 시점에서라도 중단되고 다른 스레드로 실행권이 넘어갈수 있다. \n",
    "- 스레드의 실행은 독립적이어서 다른 스레드와의 실행 순서에 관한 어떠한 가정도 할 수 없다."
   ]
  },
  {
   "cell_type": "markdown",
   "metadata": {
    "id": "1jjeI1lfkzuC"
   },
   "source": [
    "\n",
    "## 파이썬의 스레드\n",
    "- 파이썬은 내부적으로 전역 인터프리터 록(GIL)을 사용한다.\n",
    "    - 즉, 시스템 하나에서 스레드 하나만 실행되도록 제한한다. \n",
    "    - 따라서 여러 개의 코어가 있어도 파이썬 스레드는 하나의 코어에서만 실행된다.\n",
    "    - GIL에 따른 동시성 처리\n",
    "    <img src=\"https://user-images.githubusercontent.com/31475037/103119579-4a091200-46b7-11eb-889e-18ad6c426dd4.png\">\n",
    "- 대신 여러 개의 코어를 활용할 수 있는 multiprocessing 모듈을 제공한다.\n",
    "    - 이 모듈은 당연히 멀티프로세싱을 지원하는 모듈로 Threading 모듈과 유사한 인터페이스를 제공\n",
    "    - 여러 개의 코어에서 병렬로 프로세스들이 실행하게 된다.\n",
    "    - multiprocessing 에 따른 병렬처리\n",
    "    <img src=\"https://user-images.githubusercontent.com/31475037/103119580-4aa1a880-46b7-11eb-9e63-30abea28f786.png\">"
   ]
  },
  {
   "cell_type": "code",
   "execution_count": 292,
   "metadata": {
    "id": "PL8K4BSen1uu"
   },
   "outputs": [],
   "source": [
    "from multiprocessing import Pool\n",
    "import multiprocessing\n",
    "\n",
    "#multiprocessing 리눅스(colab)에서 사용가능 windows는 사용불가"
   ]
  },
  {
   "cell_type": "code",
   "execution_count": 294,
   "metadata": {
    "id": "36DPHYNsoLrP"
   },
   "outputs": [],
   "source": [
    "pool =  Pool(processes = 4)\n",
    "results = pool.map(collect_review, range(0,100))  #100개의 데이터 프레임이 저장된 list로 반환된다.  \n",
    "df = pd.concat(results, axis = 0).reset_index()"
   ]
  },
  {
   "cell_type": "code",
   "execution_count": 295,
   "metadata": {
    "colab": {
     "base_uri": "https://localhost:8080/",
     "height": 424
    },
    "id": "uOyZlpmAplpr",
    "outputId": "2f10adbb-9b81-46bd-e1a0-f3187d215053"
   },
   "outputs": [
    {
     "data": {
      "text/html": [
       "\n",
       "  <div id=\"df-e7aea634-2711-45af-a7e1-ecedbb5c3b57\">\n",
       "    <div class=\"colab-df-container\">\n",
       "      <div>\n",
       "<style scoped>\n",
       "    .dataframe tbody tr th:only-of-type {\n",
       "        vertical-align: middle;\n",
       "    }\n",
       "\n",
       "    .dataframe tbody tr th {\n",
       "        vertical-align: top;\n",
       "    }\n",
       "\n",
       "    .dataframe thead th {\n",
       "        text-align: right;\n",
       "    }\n",
       "</style>\n",
       "<table border=\"1\" class=\"dataframe\">\n",
       "  <thead>\n",
       "    <tr style=\"text-align: right;\">\n",
       "      <th></th>\n",
       "      <th>index</th>\n",
       "      <th>번호</th>\n",
       "      <th>제목</th>\n",
       "      <th>평점</th>\n",
       "      <th>감상평</th>\n",
       "    </tr>\n",
       "  </thead>\n",
       "  <tbody>\n",
       "    <tr>\n",
       "      <th>0</th>\n",
       "      <td>0</td>\n",
       "      <td>18285122</td>\n",
       "      <td>외계+인 1부</td>\n",
       "      <td>2</td>\n",
       "      <td>시간 가는 줄 알고 봤어요~끝까지 보는데 실패한 유일한 영화</td>\n",
       "    </tr>\n",
       "    <tr>\n",
       "      <th>1</th>\n",
       "      <td>1</td>\n",
       "      <td>18285121</td>\n",
       "      <td>한산: 용의 출현</td>\n",
       "      <td>2</td>\n",
       "      <td>일본배우를 썻어야했다</td>\n",
       "    </tr>\n",
       "    <tr>\n",
       "      <th>2</th>\n",
       "      <td>2</td>\n",
       "      <td>18285120</td>\n",
       "      <td>마녀(魔女) Part2. The Other One</td>\n",
       "      <td>6</td>\n",
       "      <td>마녀1은 그래도 절제된 액션이었는데 2는 너무 과하게 오버됐네 무슨 드래곤볼 액션...</td>\n",
       "    </tr>\n",
       "    <tr>\n",
       "      <th>3</th>\n",
       "      <td>3</td>\n",
       "      <td>18285119</td>\n",
       "      <td>한산: 용의 출현</td>\n",
       "      <td>10</td>\n",
       "      <td>말이 필요있나요 최고입니다</td>\n",
       "    </tr>\n",
       "    <tr>\n",
       "      <th>4</th>\n",
       "      <td>4</td>\n",
       "      <td>18285118</td>\n",
       "      <td>한산: 용의 출현</td>\n",
       "      <td>1</td>\n",
       "      <td>명랑도 보고 이 영화도 봤는데 둘다 그렇게 와닿지가 않네요 명랑이 재미 없었기에 ...</td>\n",
       "    </tr>\n",
       "    <tr>\n",
       "      <th>...</th>\n",
       "      <td>...</td>\n",
       "      <td>...</td>\n",
       "      <td>...</td>\n",
       "      <td>...</td>\n",
       "      <td>...</td>\n",
       "    </tr>\n",
       "    <tr>\n",
       "      <th>995</th>\n",
       "      <td>5</td>\n",
       "      <td>18284106</td>\n",
       "      <td>외계+인 1부</td>\n",
       "      <td>10</td>\n",
       "      <td>다들 평점 왜그러신지ㅠㅠ 저만 재밌나요 너무 재밌었어요!!</td>\n",
       "    </tr>\n",
       "    <tr>\n",
       "      <th>996</th>\n",
       "      <td>6</td>\n",
       "      <td>18284105</td>\n",
       "      <td>한산: 용의 출현</td>\n",
       "      <td>2</td>\n",
       "      <td>기대이하에 졸작이라 평가하기가힘드네요</td>\n",
       "    </tr>\n",
       "    <tr>\n",
       "      <th>997</th>\n",
       "      <td>7</td>\n",
       "      <td>18284104</td>\n",
       "      <td>한산: 용의 출현</td>\n",
       "      <td>10</td>\n",
       "      <td></td>\n",
       "    </tr>\n",
       "    <tr>\n",
       "      <th>998</th>\n",
       "      <td>8</td>\n",
       "      <td>18284103</td>\n",
       "      <td>한산: 용의 출현</td>\n",
       "      <td>10</td>\n",
       "      <td>이순신은 이순신!!보는 내내 감동ㅜㅜ</td>\n",
       "    </tr>\n",
       "    <tr>\n",
       "      <th>999</th>\n",
       "      <td>9</td>\n",
       "      <td>18284102</td>\n",
       "      <td>한산: 용의 출현</td>\n",
       "      <td>8</td>\n",
       "      <td>첫날 저녁에 봄 ! CG 해전씬은 정말 아주 좋음 ! 아쉬운 점은, 이순신 영화에...</td>\n",
       "    </tr>\n",
       "  </tbody>\n",
       "</table>\n",
       "<p>1000 rows × 5 columns</p>\n",
       "</div>\n",
       "      <button class=\"colab-df-convert\" onclick=\"convertToInteractive('df-e7aea634-2711-45af-a7e1-ecedbb5c3b57')\"\n",
       "              title=\"Convert this dataframe to an interactive table.\"\n",
       "              style=\"display:none;\">\n",
       "        \n",
       "  <svg xmlns=\"http://www.w3.org/2000/svg\" height=\"24px\"viewBox=\"0 0 24 24\"\n",
       "       width=\"24px\">\n",
       "    <path d=\"M0 0h24v24H0V0z\" fill=\"none\"/>\n",
       "    <path d=\"M18.56 5.44l.94 2.06.94-2.06 2.06-.94-2.06-.94-.94-2.06-.94 2.06-2.06.94zm-11 1L8.5 8.5l.94-2.06 2.06-.94-2.06-.94L8.5 2.5l-.94 2.06-2.06.94zm10 10l.94 2.06.94-2.06 2.06-.94-2.06-.94-.94-2.06-.94 2.06-2.06.94z\"/><path d=\"M17.41 7.96l-1.37-1.37c-.4-.4-.92-.59-1.43-.59-.52 0-1.04.2-1.43.59L10.3 9.45l-7.72 7.72c-.78.78-.78 2.05 0 2.83L4 21.41c.39.39.9.59 1.41.59.51 0 1.02-.2 1.41-.59l7.78-7.78 2.81-2.81c.8-.78.8-2.07 0-2.86zM5.41 20L4 18.59l7.72-7.72 1.47 1.35L5.41 20z\"/>\n",
       "  </svg>\n",
       "      </button>\n",
       "      \n",
       "  <style>\n",
       "    .colab-df-container {\n",
       "      display:flex;\n",
       "      flex-wrap:wrap;\n",
       "      gap: 12px;\n",
       "    }\n",
       "\n",
       "    .colab-df-convert {\n",
       "      background-color: #E8F0FE;\n",
       "      border: none;\n",
       "      border-radius: 50%;\n",
       "      cursor: pointer;\n",
       "      display: none;\n",
       "      fill: #1967D2;\n",
       "      height: 32px;\n",
       "      padding: 0 0 0 0;\n",
       "      width: 32px;\n",
       "    }\n",
       "\n",
       "    .colab-df-convert:hover {\n",
       "      background-color: #E2EBFA;\n",
       "      box-shadow: 0px 1px 2px rgba(60, 64, 67, 0.3), 0px 1px 3px 1px rgba(60, 64, 67, 0.15);\n",
       "      fill: #174EA6;\n",
       "    }\n",
       "\n",
       "    [theme=dark] .colab-df-convert {\n",
       "      background-color: #3B4455;\n",
       "      fill: #D2E3FC;\n",
       "    }\n",
       "\n",
       "    [theme=dark] .colab-df-convert:hover {\n",
       "      background-color: #434B5C;\n",
       "      box-shadow: 0px 1px 3px 1px rgba(0, 0, 0, 0.15);\n",
       "      filter: drop-shadow(0px 1px 2px rgba(0, 0, 0, 0.3));\n",
       "      fill: #FFFFFF;\n",
       "    }\n",
       "  </style>\n",
       "\n",
       "      <script>\n",
       "        const buttonEl =\n",
       "          document.querySelector('#df-e7aea634-2711-45af-a7e1-ecedbb5c3b57 button.colab-df-convert');\n",
       "        buttonEl.style.display =\n",
       "          google.colab.kernel.accessAllowed ? 'block' : 'none';\n",
       "\n",
       "        async function convertToInteractive(key) {\n",
       "          const element = document.querySelector('#df-e7aea634-2711-45af-a7e1-ecedbb5c3b57');\n",
       "          const dataTable =\n",
       "            await google.colab.kernel.invokeFunction('convertToInteractive',\n",
       "                                                     [key], {});\n",
       "          if (!dataTable) return;\n",
       "\n",
       "          const docLinkHtml = 'Like what you see? Visit the ' +\n",
       "            '<a target=\"_blank\" href=https://colab.research.google.com/notebooks/data_table.ipynb>data table notebook</a>'\n",
       "            + ' to learn more about interactive tables.';\n",
       "          element.innerHTML = '';\n",
       "          dataTable['output_type'] = 'display_data';\n",
       "          await google.colab.output.renderOutput(dataTable, element);\n",
       "          const docLink = document.createElement('div');\n",
       "          docLink.innerHTML = docLinkHtml;\n",
       "          element.appendChild(docLink);\n",
       "        }\n",
       "      </script>\n",
       "    </div>\n",
       "  </div>\n",
       "  "
      ],
      "text/plain": [
       "     index        번호                             제목  평점  \\\n",
       "0        0  18285122                      외계+인 1부     2   \n",
       "1        1  18285121                    한산: 용의 출현     2   \n",
       "2        2  18285120  마녀(魔女) Part2. The Other One     6   \n",
       "3        3  18285119                    한산: 용의 출현    10   \n",
       "4        4  18285118                    한산: 용의 출현     1   \n",
       "..     ...       ...                            ...  ..   \n",
       "995      5  18284106                      외계+인 1부    10   \n",
       "996      6  18284105                    한산: 용의 출현     2   \n",
       "997      7  18284104                    한산: 용의 출현    10   \n",
       "998      8  18284103                    한산: 용의 출현    10   \n",
       "999      9  18284102                    한산: 용의 출현     8   \n",
       "\n",
       "                                                   감상평  \n",
       "0                   시간 가는 줄 알고 봤어요~끝까지 보는데 실패한 유일한 영화   \n",
       "1                                         일본배우를 썻어야했다   \n",
       "2     마녀1은 그래도 절제된 액션이었는데 2는 너무 과하게 오버됐네 무슨 드래곤볼 액션...  \n",
       "3                                      말이 필요있나요 최고입니다   \n",
       "4     명랑도 보고 이 영화도 봤는데 둘다 그렇게 와닿지가 않네요 명랑이 재미 없었기에 ...  \n",
       "..                                                 ...  \n",
       "995                  다들 평점 왜그러신지ㅠㅠ 저만 재밌나요 너무 재밌었어요!!   \n",
       "996                              기대이하에 졸작이라 평가하기가힘드네요   \n",
       "997                                                     \n",
       "998                              이순신은 이순신!!보는 내내 감동ㅜㅜ   \n",
       "999   첫날 저녁에 봄 ! CG 해전씬은 정말 아주 좋음 ! 아쉬운 점은, 이순신 영화에...  \n",
       "\n",
       "[1000 rows x 5 columns]"
      ]
     },
     "execution_count": 295,
     "metadata": {},
     "output_type": "execute_result"
    }
   ],
   "source": [
    "df"
   ]
  },
  {
   "cell_type": "code",
   "execution_count": 296,
   "metadata": {
    "colab": {
     "base_uri": "https://localhost:8080/"
    },
    "id": "APeirtK7p3C5",
    "outputId": "44d62dbe-fad1-44e3-da51-1c3e1c30c7cf"
   },
   "outputs": [
    {
     "name": "stderr",
     "output_type": "stream",
     "text": [
      "100%|██████████| 100/100 [00:18<00:00,  5.32it/s]\n"
     ]
    }
   ],
   "source": [
    "#tqdm을 이용한 multiprocessing\n",
    "\n",
    "pool =  Pool(processes = 4)\n",
    "input_range = range(1,101)\n",
    "result = []\n",
    "\n",
    "for result in tqdm.tqdm(pool.imap_unordered(collect_review,input_range), total = len(input_range)):\n",
    "  result.append(result)\n",
    "\n",
    "df = pd.concat(results, axis = 0).reset_index()"
   ]
  },
  {
   "cell_type": "markdown",
   "metadata": {
    "id": "RLFAQZ9XsE65"
   },
   "source": [
    "# 셀레니움(Selenium)\n",
    "- Selenium은 주로 웹앱을 테스트하는데 사용하는 프레임워크\n",
    "- webdriver라는 API를 통해 운영체제에 설치된 크롬 등의 브라우저를 제어\n",
    "- Selenium 모듈 설치 후 사용\n",
    "- 사용자 브라우저(Chrome, Edge, ..)에 맞는 webdriver를 다운로드 후 사용 가능\n",
    "- 다운로드 사이트에서 본인이 사용하는 브라우저의 버전등을 확인 후 다운로드\n",
    "- 크롬: https://chromedriver.chromium.org/downloads\n",
    "- Edge: https://developer.microsoft.com/en-us/microsoft-edge/tools/webdriver/\n",
    "- 파이어폭스:https://github.com/mozilla/geckodriver/releases\n",
    "\n",
    "__주의__\n",
    "최근 없데이트되면서 문법 변경됨"
   ]
  },
  {
   "cell_type": "markdown",
   "metadata": {
    "id": "4iuzoZNqs7oJ"
   },
   "source": [
    "## webdriver\n",
    "- selenium의 webdriver는 웹 응용 프로그램들의 테스트를 단순화 및 가속화해주는 툴\n",
    "\n",
    "### 크롬 드라이브 다운\n",
    "1. 크롬 브라우저 버전을 확인한다.(크롬브라우저 점3개 클릭-도움말-정보)\n",
    "2. 동일버전의 webdriver을 다운로드 [driver](https://chromedriver.chromium.org/downloads)\n",
    "3. ./tools/chromedirver.exe"
   ]
  },
  {
   "cell_type": "code",
   "execution_count": 1,
   "metadata": {},
   "outputs": [
    {
     "name": "stdout",
     "output_type": "stream",
     "text": [
      "Requirement already satisfied: selenium in c:\\users\\haekyu\\anaconda3\\envs\\week1\\lib\\site-packages (4.3.0)\n",
      "Requirement already satisfied: trio~=0.17 in c:\\users\\haekyu\\anaconda3\\envs\\week1\\lib\\site-packages (from selenium) (0.21.0)\n",
      "Requirement already satisfied: trio-websocket~=0.9 in c:\\users\\haekyu\\anaconda3\\envs\\week1\\lib\\site-packages (from selenium) (0.9.2)\n",
      "Requirement already satisfied: urllib3[secure,socks]~=1.26 in c:\\users\\haekyu\\anaconda3\\envs\\week1\\lib\\site-packages (from selenium) (1.26.9)\n",
      "Requirement already satisfied: sortedcontainers in c:\\users\\haekyu\\anaconda3\\envs\\week1\\lib\\site-packages (from trio~=0.17->selenium) (2.4.0)\n",
      "Requirement already satisfied: attrs>=19.2.0 in c:\\users\\haekyu\\anaconda3\\envs\\week1\\lib\\site-packages (from trio~=0.17->selenium) (21.4.0)\n",
      "Requirement already satisfied: cffi>=1.14 in c:\\users\\haekyu\\anaconda3\\envs\\week1\\lib\\site-packages (from trio~=0.17->selenium) (1.15.0)\n",
      "Requirement already satisfied: async-generator>=1.9 in c:\\users\\haekyu\\anaconda3\\envs\\week1\\lib\\site-packages (from trio~=0.17->selenium) (1.10)\n",
      "Requirement already satisfied: idna in c:\\users\\haekyu\\anaconda3\\envs\\week1\\lib\\site-packages (from trio~=0.17->selenium) (3.3)\n",
      "Requirement already satisfied: sniffio in c:\\users\\haekyu\\anaconda3\\envs\\week1\\lib\\site-packages (from trio~=0.17->selenium) (1.2.0)\n",
      "Requirement already satisfied: outcome in c:\\users\\haekyu\\anaconda3\\envs\\week1\\lib\\site-packages (from trio~=0.17->selenium) (1.2.0)\n",
      "Requirement already satisfied: wsproto>=0.14 in c:\\users\\haekyu\\anaconda3\\envs\\week1\\lib\\site-packages (from trio-websocket~=0.9->selenium) (1.1.0)\n",
      "Requirement already satisfied: PySocks!=1.5.7,<2.0,>=1.5.6 in c:\\users\\haekyu\\anaconda3\\envs\\week1\\lib\\site-packages (from urllib3[secure,socks]~=1.26->selenium) (1.7.1)\n",
      "Requirement already satisfied: certifi in c:\\users\\haekyu\\anaconda3\\envs\\week1\\lib\\site-packages (from urllib3[secure,socks]~=1.26->selenium) (2022.6.15)\n",
      "Requirement already satisfied: pyOpenSSL>=0.14 in c:\\users\\haekyu\\anaconda3\\envs\\week1\\lib\\site-packages (from urllib3[secure,socks]~=1.26->selenium) (22.0.0)\n",
      "Requirement already satisfied: cryptography>=1.3.4 in c:\\users\\haekyu\\anaconda3\\envs\\week1\\lib\\site-packages (from urllib3[secure,socks]~=1.26->selenium) (37.0.1)\n",
      "Requirement already satisfied: pycparser in c:\\users\\haekyu\\anaconda3\\envs\\week1\\lib\\site-packages (from cffi>=1.14->trio~=0.17->selenium) (2.21)\n",
      "Requirement already satisfied: h11<1,>=0.9.0 in c:\\users\\haekyu\\anaconda3\\envs\\week1\\lib\\site-packages (from wsproto>=0.14->trio-websocket~=0.9->selenium) (0.13.0)\n"
     ]
    }
   ],
   "source": [
    "!pip install selenium"
   ]
  },
  {
   "cell_type": "code",
   "execution_count": 2,
   "metadata": {},
   "outputs": [],
   "source": [
    "from selenium import webdriver\n",
    "import time"
   ]
  },
  {
   "cell_type": "code",
   "execution_count": 3,
   "metadata": {},
   "outputs": [
    {
     "name": "stderr",
     "output_type": "stream",
     "text": [
      "C:\\Users\\haekyu\\AppData\\Local\\Temp\\ipykernel_14936\\2431304019.py:1: DeprecationWarning: executable_path has been deprecated, please pass in a Service object\n",
      "  driver = webdriver.Edge(\"./msedgedriver.exe\")\n"
     ]
    }
   ],
   "source": [
    "driver = webdriver.Edge(\"./msedgedriver.exe\")\n",
    "naver_url = \"https://naver.com\"\n",
    "driver.get(naver_url)\n",
    "time.sleep(5)\n",
    "driver.close()"
   ]
  },
  {
   "cell_type": "markdown",
   "metadata": {
    "id": "GzaY_qoIs9mC"
   },
   "source": [
    "### selenium 내장함수\n",
    "\n",
    "#### 1. get()\n",
    "- get() 함수는 입력한 url 주소로 접속하는 함수\n",
    "\n",
    "```python\n",
    "driver.get(\"url 주소\")\n",
    "```\n",
    "\n",
    "#### 2. find_element(By.<location>, \"\")\n",
    "- 정적크롤링의 find과 같은 역할로, 크롤링을 위해 HTML 요소를 찾는 함수\n",
    "    \n",
    "```python\n",
    "from selenium.webdriver.common.by import By\n",
    "\n",
    "find_element(By.ID, \"id\")\n",
    "find_element(By.NAME, \"name\")\n",
    "find_element(By.XPATH, \"xpath\")\n",
    "find_element(By.LINK_TEXT, \"link text\")\n",
    "find_element(By.PARTIAL_LINK_TEXT, \"partial link text\")\n",
    "find_element(By.TAG_NAME, \"tag name\")\n",
    "find_element(By.CLASS_NAME, \"class name\")\n",
    "find_element(By.CSS_SELECTOR, \"css selector\")\n",
    "```\n",
    "\n",
    "__참고__ :  구버전의 find_element_by_ ?? 에서 변경되었다. \n",
    "\n",
    "예) find_element(By.CSS_SELECTOR, \"css selector\") \n",
    "- copy 목록의 copy selector를 통해 속성을 찾을 수 있다.\n",
    "```python\n",
    "driver.find_element(By.CSS_SELECTOR, \"a#writeFormBtn\")\n",
    "```\n",
    "\n",
    "    \n",
    "예) find_element(By.ID, \"id\") & find_element(By.CLASS_NAME, \"class name\")\n",
    "- id 속성 혹은 class 속성을 가지고 있는 경우 사용한다.\n",
    "\n",
    "```python    \n",
    "'글쓰기' 버튼 - <a href=\"#\" id=\"writeFormBtn\" class=\"btn_type1 post_write _rosRestrict\" onclick=\"clickcr(this,'abt.wrtlist', '', '', event);\">\n",
    "\n",
    "driver.find_element(By.ID, \"writeFormBtn\")\n",
    "driver.find_element(By.CLASS_NAME, \"btn_type1.post_write._rosRestrict\")\n",
    "```\n",
    "\n",
    "예) find_element(By.XPATH, \"xpath\")\n",
    "- 적당한 id, class 속성이 없을 경우 xpath를 사용가능 \n",
    "- XPATH란 xml 문서의 특정 부분의 위치를 의미한다.\n",
    "- html 요소를 우클릭하고 copy 목록의 copy xpath를 클릭해 사용가능\n",
    "\n",
    "```python\n",
    "driver.find_element(By.XPATH, 'XPath 선택자')\n",
    "\n",
    "# ex) '글쓰기' 버튼의 'Copy XPath'결과 - //*[@id=\"writeFormBtn\"]\n",
    "driver.find_element_by_xpath('//*[@id=\"writeFormBtn\"]')\n",
    "```"
   ]
  },
  {
   "cell_type": "markdown",
   "metadata": {
    "id": "AmC8S4XjtAHd"
   },
   "source": [
    "#### 3. find_elements_by_?? ()\n",
    "- 정적 크롤링의 find_all과 같은 역할로, 입력한 태그 및 선택자에 해당하는 모든 html 요소를 찾는 함수이다. \n",
    "- element 뒤에 s가 붙는다. \n",
    "\n",
    "\n",
    "\n",
    "#### 4. click()\n",
    "- html 요소를 클릭하는 함수이다.\n",
    "\n",
    "```python\n",
    "driver.find_element(By.???, \"????\").click()\n",
    "\n",
    "ex) 글쓰기 버튼 클릭\n",
    "driver.find_element(By.CSS_SELECTOR,\"a#writeFormBtn\").click()\n",
    "```\n",
    "\n",
    "#### 5. send_keys()\n",
    "- html 요소에 직접 텍스트를 입력하는 함수이다.\n",
    "\n",
    "```python\n",
    "driver.find_element_by_??().send_keys(\"텍스트\")\n",
    "\n",
    "ex) 검색 칸에 파이썬 입력\n",
    "driver.find_element_by_css_selector(\"input#query\").send_keys(\"파이썬\")\n",
    "```\n",
    "\n"
   ]
  },
  {
   "cell_type": "code",
   "execution_count": 3,
   "metadata": {},
   "outputs": [
    {
     "name": "stderr",
     "output_type": "stream",
     "text": [
      "C:\\Users\\haekyu\\AppData\\Local\\Temp\\ipykernel_8744\\64511673.py:4: DeprecationWarning: executable_path has been deprecated, please pass in a Service object\n",
      "  driver = webdriver.Edge(\"./msedgedriver.exe\")\n"
     ]
    },
    {
     "name": "stdout",
     "output_type": "stream",
     "text": [
      "검색어를 입력하세요 구글\n"
     ]
    }
   ],
   "source": [
    "#네이버 검색\n",
    "from selenium.webdriver.common.by import By\n",
    "from bs4 import BeautifulSoup as bs\n",
    "driver = webdriver.Edge(\"./msedgedriver.exe\")\n",
    "naver_url = \"https://www.naver.com\"\n",
    "driver.get(naver_url)\n",
    "time.sleep(1)\n",
    "search_text = input(\"검색어를 입력하세요\")\n",
    "driver.find_element(By.ID, \"query\").send_keys(search_text)\n",
    "driver.find_element(By.ID, \"search_btn\").click()\n",
    "time.sleep(1)\n",
    "html = driver.page_source\n",
    "soup = bs(html, \"html.parser\")\n",
    "driver.close()"
   ]
  },
  {
   "cell_type": "code",
   "execution_count": 10,
   "metadata": {
    "collapsed": true,
    "jupyter": {
     "outputs_hidden": true
    },
    "tags": []
   },
   "outputs": [
    {
     "data": {
      "text/plain": [
       "\"PapagoIf you're seeing this message, that means JavaScript has been disabled on your browser, please enable JS to make this app work.웹사이트 번역GYMnew사전작은창 번역작은창 번역기즐겨찾기즐겨찾기설정설정사용자 링크로그인 내정보 보기(임직원혜택)프로필 사진 변경_님로그아웃@naver.com네이버ID보안설정내인증서네이버 멤버쉽N Pay내 페이포인트내 블로그가입한 카페N Pay환경설정알림전체 알림읽은 알림 삭제모두 삭제알림을 모두 삭제하시겠습니까?확인취소레이어 닫기내 알림 전체보기메일서비스 더보기나만의 즐겨찾기를 추가해 보세요!닫기즐겨찾는 서비스추가추가추가추가즐겨찾기 설정삭제카페뉴스지도스포츠게임블로그포스트사전지식iN날씨메일증권부동산VIBE책쇼핑웹툰영화MYBOX자동차전체 서비스 보기네이버 주요 서비스바로가기 설정전체 서비스 보기 게임 날씨 네이버쇼핑 네이버캐스트 네이버페이New 네이버 MYBOX 뉴스 웹툰 메모 메일 뮤직 부동산 북마크 블로그 사전 소프트웨어 스마트보드 스포츠 시리즈 시리즈on 야구9단 영화 오피스 웹소설 자동차 주소록 증권(금융) 지도 지식iN 지식백과 책 카페 캘린더 네이버TV어학사전 국어사전 영어/영영사전 한자사전 일어사전 중국어사전 프랑스어사전 독일어사전 러시아어사전 베트남어사전 스페인어사전 파파고인기/신규서비스 그라폴리오 포스트 밴드 라인 VIBENew 프리미엄콘텐츠확인취소초기 설정으로 변경new메뉴 닫기내 정보가기로그인 해주세요홈파파고 홈번역기록번역 기록즐겨찾기즐겨찾기설정설정번역 자동완성웹사이트 번역GYMnew사전공지newⓒ NAVER Corp.facebookblog발음 듣기반복 듣기x1x3x5x9속도매우 느림느림보통빠름목소리남성여성발음 보기외국어 발음을 한글로 보여주는 기능입니다.예) How much is it? > 하우 머치 이즈 잇?영어일본어PAPAGO WEB 번역기언어선택 더미영역이탈리아어 감지열기/닫기 아이콘언어감지한국어영어일본어중국어(간체)중국어(번체)스페인어프랑스어독일어러시아어포르투갈어이탈리아어베트남어태국어인도네시아어힌디어한국어열기/닫기 아이콘한국어영어일본어중국어(간체)중국어(번체)스페인어프랑스어독일어러시아어포르투갈어이탈리아어베트남어태국어인도네시아어힌디어소스/타겟 언어 바꾸기더보기닫기이전1/0다음더보기3\\xa0/\\xa05000발음듣기발음듣기복사하기복사하기복사되었습니다.필기 입력필기인식기번역하기번역자동완성자동완성번역 가능한 최대 글자수를\\r초과하였습니다.한국어열기/닫기 아이콘한국어영어일본어중국어(간체)중국어(번체)스페인어프랑스어독일어러시아어포르투갈어이탈리아어베트남어태국어인도네시아어힌디어중얼거림취소완료좋아요어색해요취소중얼거림높임말높임말 번역 설정발음듣기발음듣기복사되었습니다.즐겨찾기에 추가되었습니다.\\xa0복사하기복사하기즐겨찾기번역 저장번역 저장공유하기공유하기더보기번역 수정번역 수정번역 평가수정하지 않은 번역만 평가 가능합니다. 이전1 / 0다음사전정보중얼거리다1.mormorare di sé stesso, borbottare, brontolare, sussurrare ((contro))출처: 한국외국어대학교 지식출판원 한국어-이탈리아어사전사전네이버 사전에서 더 보기사전네이버 사전에서 더 보기제출 완료되었습니다.접기/펼치기닫기드래그하여 창을 이동하세요.여기에 입력하세요간격backspace열기번역 기록새로워진 파파고 GYM 번역문 좋아요 or 어색해요 평가해주세요!바로가기PAPAGO WEB 배너NEW [App]파파고 에듀로 영어공부를 시작해 보세요!NEW [App]아직도 단어 정리해? 귀찮은 노트 정리도 파파고 에듀 하나면 해결!NEW [App]파파고 에듀로 영어공부를 시작해 보세요!NEW [App]아직도 단어 정리해? 귀찮은 노트 정리도 파파고 에듀 하나면 해결!NEW [App]파파고 에듀로 영어공부를 시작해 보세요!배너 닫기앱다운로드APP Download바로가기QR 스캔하고 앱 다운로드 받으세요!닫기앱 실행 (앱 실행은 모바일에서만 가능합니다.)파파고 앱에서 더 많은 번역 기능을 사용해보세요!Papago 앱 열기이용약관개인정보처리방침책임의 한계와 법적고지고객센터의견제안준수사항1. 번역 대상 관련 유의사항번역 내용을 입력함에 있어서 타인의 저작권 등 지식 재산권을 침해하는 내용을 입력하시면 안되며, 타인의 개인 정보나 비밀정보 등 타인의 사생활을 침해하는 내용 또한 입력하시면 안됩니다.\\xa0예를 들어, 현존하는 작가의 작품의 내용 상당 부분을 해당 작가의 허락 없이 그대로 입력(촬영)하거나 신분증 내용을 입력(촬영)하는 것은 제3자 권리 침해의 가능성이 있으므로, 번역 요청 대상에서 제외하시기 바랍니다.2. 파파고 TTS 결과물(음성파일) 이용 범위파파고 TTS(Text to Speech) 결과물(음성파일) 관련 권리(번역에 대한 권리, 사용된 음성에 대한 권리 등 - 단, 입력된 내용 자체에 대한 권리 제외)는 네이버주식회사 및 목소리를 제공한 성우에게 있습니다.해당 결과물은 파파고 서비스 내에서 입력문 / 번역결과물 청취 목적으로만 이용 가능하며 그 이외에 다른 목적이나 용도(비영리 목적이나 용도 포함)로 온라인 서비스(기업/개인 방송)나 오프라인 장소(학교/학원 수업) 등에서 이용하는 것은 엄격히 금지됩니다.※ 비영리적인 목적 및 용도로 음성합성 서비스를 이용하고자 하신다면, 클로바더빙 서비스를 이용하시기 바랍니다.3. URL 직접 호출 방식의 이용 금지 (API 이용 방식 지원)외부 서비스에서 파파고 번역 서비스 이용 시 URL 직접 호출 방식으로 연결하여 이용하는 것은 금지하고 있으니 유의하시기 바랍니다. 파파고 서비스 이용을 원하시는 경우 파파고 번역 API 를 이용해주시기 바랍니다.\\n※ 파파고 번역 API 가이드\\nhttps://www.ncloud.com/product/aiService/papagoTranslation4. 자동화 수단을 이용한 호출 방식의 이용 금지자동화된 수단(예: 매크로 프로그램, 로봇(봇), 스파이더, 스크래퍼 등)을 이용하여 기계적으로 번역 요청을 하거나, 그에 따른 파파고 번역 결과물(예: 음성파일, 후리가나, 병음, 사전 등 모든 번역 결과물)을 수집하거나, 수집한 번역 결과물을 상업적/비상업적 용도로 활용 또는 제공하는 등 파파고 서비스의 제공 취지에 부합하지 않는 방식으로 이용하는 것은 엄격히 금지됩니다. 또한 이와 같은 어뷰징(남용) 행위를 막기 위한 파파고의 기술적 조치를 무력화하려는 일체의 행위(예: IP를 지속적으로 바꿔가며 접속하는 행위 등)를 시도하는 것도 엄격히 금지됩니다.\\u200b위 준수사항들을 위반하여 이용하는 것이 확인될 경우 법적 조치가 취해질 수 있으니 반드시 준수하여 주시기 바랍니다.품질 개선 동의품질 개선 동의품질 개선 동의 설정번역 요청한 내용 (텍스트, 음성, 이미지, 문서, 필기입력)을 네이버 및 네이버의 위탁을 받아 업무처리를 하는 수탁 업체가 파파고 품질 개선을 위해 삭제 없이 저장 및 활용하는 것에 동의합니다.파파고 품질 개선 목적 외에는 어떤 경우에도 고객님의 데이터가 사용되지 않습니다.파파고 품질 개선을 위한 이용은 동의가 유지되는 동안만 적용되니, 원하지 않으시면 `푸터 > 품질 개선 동의`에서 동의 여부를 변경해주세요. 변경하신 내용은 변경 시점부터 적용됩니다.아울러 번역 내용을 입력 및 번역 대상 문서를 업로드함에 있어서 타인의 저작권 등 지식 재산권을 침해하는 내용이 포함되면 안되며, 타인의 개인 정보나 비밀정보 등 타인의 사생활을 침해하는 내용이 또한 포함되면 안됩니다. 예를 들어, 현존하는 작가의 작품의 내용 상당 부분을 해당 작가의 허락 없이 그대로 사용하거나 주소, 휴대폰 번호 등 개인정보가 포함하여 번역 요청하는 것은 제3자 권리 침해의 가능성이 있으므로, 번역 요청 대상에서 제외하시기 바랍니다.단축키번역할 내용 입력Alt + Enter번역하기Ctrl + Enter언어 스위치Ctrl + Alt + S번역할 내용 전체 삭제Ctrl + Alt + E입력할 언어 선택Ctrl + Alt + I번역할 언어 선택Ctrl + Alt + O언어 고르기(이동)방향키언어 선택Enter언어 선택창 닫기Esc / Backspace제휴∙API 이용문의한국어한국어English日本語中文(简体)中文(繁體)Tiếng ViệtIndonesiaNAVER PAPAGOⓒ NAVER Corp.TOP\""
      ]
     },
     "execution_count": 10,
     "metadata": {},
     "output_type": "execute_result"
    }
   ],
   "source": [
    "soup.text"
   ]
  },
  {
   "cell_type": "markdown",
   "metadata": {
    "id": "imZaQoV6tB15"
   },
   "source": [
    "# 브라우저를 통한 웹페이지 제어"
   ]
  },
  {
   "cell_type": "markdown",
   "metadata": {
    "id": "iYsqTvCktDqp"
   },
   "source": [
    "# 파파고 번역기 "
   ]
  },
  {
   "cell_type": "markdown",
   "metadata": {
    "id": "Zj-jjxFQtFe5"
   },
   "source": [
    "##### 대상 사이트 살펴보기\n",
    "\n",
    "\n",
    "\n",
    "1. 동적 크롤링 진행 순서\n",
    "   1. 번역할 내용 입력\n",
    "   2. 번역 버튼 클릭\n",
    "   3. 번역 결과 수집\n",
    "2. 필요한 요소의 태그, 선택자 확인\n",
    "\n",
    "바로 clear() 함수를 사용해 HTML 요소를 초기화한다.\n",
    "\n",
    "  "
   ]
  },
  {
   "cell_type": "markdown",
   "metadata": {
    "id": "MUjxrQyqtHNM"
   },
   "source": [
    "# 네이버 로그인   "
   ]
  },
  {
   "cell_type": "code",
   "execution_count": null,
   "metadata": {
    "id": "d1D5K8_ctJbf"
   },
   "outputs": [],
   "source": [
    "from selenium.webdriver import Chrome\n",
    "from selenium.webdriver.common.by import By\n",
    "from selenium.webdriver.common.keys import Keys\n",
    "from selenium.webdriver.common.action_chains import ActionChains\n",
    "import pyperclip\n",
    "import time"
   ]
  },
  {
   "cell_type": "markdown",
   "metadata": {},
   "source": [
    "#### papago에 단어를 번역할 영어 단어를 입력하고 번역된 단어를 한글로 출력하도록 만드세요.\n",
    "- 예)\n",
    "    - 단어를 입력하세요 : hello\n",
    "    - 안녕"
   ]
  },
  {
   "cell_type": "code",
   "execution_count": 10,
   "metadata": {},
   "outputs": [
    {
     "name": "stderr",
     "output_type": "stream",
     "text": [
      "C:\\Users\\haekyu\\AppData\\Local\\Temp\\ipykernel_8744\\4231512297.py:6: DeprecationWarning: executable_path has been deprecated, please pass in a Service object\n",
      "  driver = webdriver.Edge(\"./msedgedriver.exe\")\n"
     ]
    },
    {
     "name": "stdout",
     "output_type": "stream",
     "text": [
      "검색어를 입력하세요 : korea\n"
     ]
    },
    {
     "name": "stdout",
     "output_type": "stream",
     "text": [
      "번역결과 : 코리아\n"
     ]
    }
   ],
   "source": [
    "from selenium.webdriver.common.by import By\n",
    "from bs4 import BeautifulSoup as bs\n",
    "from selenium import webdriver\n",
    "import time\n",
    "\n",
    "driver = webdriver.Edge(\"./msedgedriver.exe\")\n",
    "papago_url = \"https://papago.naver.com/\"  #파파고에 들어감\n",
    "driver.get(papago_url)\n",
    "time.sleep(3)\n",
    "trans_text = input(\"검색어를 입력하세요 :\")\n",
    "driver.find_element(By.CSS_SELECTOR, \"textarea#txtSource\").send_keys(trans_text)\n",
    "driver.find_element(By.ID, \"btnTranslate\").click()\n",
    "time.sleep(3)\n",
    "html = driver.page_source\n",
    "soup = bs(html, \"html.parser\")\n",
    "print(\"번역결과 :\", soup.find(\"div\", {\"id\":\"txtTarget\"}).text)\n",
    "driver.quit()"
   ]
  }
 ],
 "metadata": {
  "colab": {
   "collapsed_sections": [],
   "name": "day19.ipynb",
   "provenance": []
  },
  "kernelspec": {
   "display_name": "Python 3.10.5 64-bit (windows store)",
   "language": "python",
   "name": "python3"
  },
  "language_info": {
   "codemirror_mode": {
    "name": "ipython",
    "version": 3
   },
   "file_extension": ".py",
   "mimetype": "text/x-python",
   "name": "python",
   "nbconvert_exporter": "python",
   "pygments_lexer": "ipython3",
   "version": "3.10.5"
  },
  "vscode": {
   "interpreter": {
    "hash": "67d0030220b6f5c4100a62dcf6422ed188e9f3402ca1449c604e050fe3c4b8d9"
   }
  }
 },
 "nbformat": 4,
 "nbformat_minor": 4
}
