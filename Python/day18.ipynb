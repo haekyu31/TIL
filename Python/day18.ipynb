{
 "cells": [
  {
   "cell_type": "markdown",
   "id": "58ae52ab-42c9-4662-8dc2-d5908f75b279",
   "metadata": {
    "id": "58ae52ab-42c9-4662-8dc2-d5908f75b279"
   },
   "source": [
    "# 크롤링의 종류\n",
    "\n",
    "\n",
    "\n",
    "## 1. 정적 크롤링\n",
    "- 웹에 있는 정적인 데이터를 수집할 때 사용\n",
    "    - 정적인 데이터란 로그인과 같은 사전 작업 없이 바로 볼 수 있는 데이터\n",
    "    - 새로고침을 하지 않는 이상 변하지 않는 데이터\n",
    "    - 주소를 통해 요청받고 결과를 전달해 주고 종료\n",
    "- 연속적인 작업은 수행할 수 없으며, 주로 한 페이지 안에 원하는 정보가 모두 드러난 경우 사용\n",
    "- 또한 한 페이지 안에 모든 작업이 이루어지기 때문에 속도가 매우 빠르다. \n",
    "- 수집 대상의 한계 존재\n",
    "\n",
    "\n",
    "## 2. 동적 크롤링\n",
    "- 웹에 있는 동적인 데이터를 수집할 때 사용\n",
    "    - 동적인 데이터는 입력, 클릭, 로그인과 같이 페이지 이동시 얻을 수 있는 데이터\n",
    "    - 단계적 접근이 필요하기 때문에 수집 속도가 느리지만 수집 대상에 한계가 거의 없다는 큰 장점\n",
    "    - 연속적인 접근이 가능, 페이지 이동이 필수적이거나 페이지 안에 정보가 은닉되어 있을 경우 사용\n",
    "\n",
    "\n",
    "|           | 정적 크롤링             | 동적 크롤링                   |\n",
    "| --------- | ----------------------- | ----------------------------- |\n",
    "| 연속성    | 주소를 통한 단발적 접근 | 브라우저를 사용한 연속적 접근 |\n",
    "| 속도      | 빠름                    | 느림                          |\n",
    "| 수집 성능 | 수집 대상에 한계가 있음 | 수집 대상에 한계가 거의 없음  |"
   ]
  },
  {
   "cell_type": "markdown",
   "id": "adad4d0c-510e-44ed-8806-549e3e60b140",
   "metadata": {
    "id": "adad4d0c-510e-44ed-8806-549e3e60b140"
   },
   "source": [
    "# 라이브러리\n",
    "- 크롤링시 자주 사용 되는 라이브러리는 다음과 같다.\n",
    "\n",
    "## 1. time 라이브러리\n",
    "\n",
    "- time.time() : time.time()은 UTC를 사용해 현재 시간을 실수 형태로 돌려주는 함수이다.\n",
    "    - 1970년 1월 1일 0시 0분 0초 기준으로 지난 시간을 초 단위로 돌려준다. \n",
    "    \n",
    "    ```python\n",
    "    import time\n",
    "    print(time.time())\n",
    "    ```\n",
    " \n",
    "- time.localtime() : 현재 시간을 년, 월, 일, 시, 분, 초..의 형태로 출력해준다.\n",
    " \n",
    "    ```python\n",
    "    import time\n",
    "    print(time.localtime())\n",
    "    ```\n",
    "\n",
    "\n",
    "\n",
    "## 2.정적 클로링 도구\n",
    "- requests : 간편한 HTTP 요청 처리를 위해 사용하는 라이브러리, 웹과 연결을 위해 사용된다.\n",
    "- beautifulsoup : html 태그를 다룰 수 있는 라이브러리, 웹에 있는 데이터 중 필요한 데이터만 뽑아내기 위해 사용\n",
    "- pd.read_html : html 내의 table만 추출할수 있는 도구\n",
    "\n",
    "\n",
    "## 3. 동적 크롤링 도구\n",
    "- selenium : 웹 드라이버를 사용해 자동화 기능을 실현하는 라이브러리이다.\n",
    "    - 웹에 접속해 클릭, 이동과 같응 action을 제어할 수 잇다\n",
    "    - chromedriver.exe를 설치하고 이를통해 제어 가능\n",
    "    \n",
    "## 4. multiprocessing 모듈\n",
    "- multiprocessing : 여러개의 코어를 활용할 수 있는 multiprocessing 모듈을 사용하면 크롤링 속도를 개선할수 있다.\n",
    "    - process fork 문제로 인해 windows 에서는 사용불가, colab에서 사용가능\n",
    "\n",
    "\n",
    " \n",
    "    "
   ]
  },
  {
   "cell_type": "markdown",
   "id": "fbc485a3-f78b-4baa-8399-17c163925fd0",
   "metadata": {
    "id": "fbc485a3-f78b-4baa-8399-17c163925fd0"
   },
   "source": [
    "### 1. 웹 문서 전체 가져오기\n",
    "- urllib.request 패키지"
   ]
  },
  {
   "cell_type": "code",
   "execution_count": null,
   "id": "bf0ad830-8e34-4a52-89eb-fa75fe6a079a",
   "metadata": {
    "id": "bf0ad830-8e34-4a52-89eb-fa75fe6a079a"
   },
   "outputs": [],
   "source": [
    "from urllib.request import urlopen\n",
    "import requests\n",
    "from bs4 import BeautifulSoup as bs"
   ]
  },
  {
   "cell_type": "markdown",
   "id": "44dd9007-7513-4894-bc11-adbbaba0d8ec",
   "metadata": {
    "id": "44dd9007-7513-4894-bc11-adbbaba0d8ec"
   },
   "source": [
    " https://www.naver.com/\n",
    "- https: https 프로토콜로 통신한다( http: 암호화 안시키고 전달하는 방식)\n",
    "- www : 월드 와이드 웹 사이트를 의미한다.\n",
    "- naver.com : domain name을 의미한다."
   ]
  },
  {
   "cell_type": "code",
   "execution_count": null,
   "id": "90f3f8fd-5a57-433c-853b-06853fc3beb0",
   "metadata": {
    "id": "90f3f8fd-5a57-433c-853b-06853fc3beb0"
   },
   "outputs": [],
   "source": [
    "html = urlopen(\"https://www.naver.com/\")"
   ]
  },
  {
   "cell_type": "code",
   "execution_count": null,
   "id": "c0423d7d-98ca-4587-88c1-cfa5fe358300",
   "metadata": {
    "colab": {
     "base_uri": "https://localhost:8080/"
    },
    "id": "c0423d7d-98ca-4587-88c1-cfa5fe358300",
    "outputId": "8fd098c5-8518-4f02-b9e5-0677e68a1521"
   },
   "outputs": [
    {
     "data": {
      "text/plain": [
       "<http.client.HTTPResponse at 0x7f0998f26d50>"
      ]
     },
     "execution_count": 114,
     "metadata": {},
     "output_type": "execute_result"
    }
   ],
   "source": [
    "html"
   ]
  },
  {
   "cell_type": "code",
   "execution_count": null,
   "id": "198bc1a0-d87c-4320-ba28-6294819a9976",
   "metadata": {
    "id": "198bc1a0-d87c-4320-ba28-6294819a9976",
    "tags": []
   },
   "outputs": [],
   "source": [
    "soup = bs(html, \"html.parser\")\n",
    "soup"
   ]
  },
  {
   "cell_type": "markdown",
   "id": "7638e738-cc05-4b31-b419-11b75146585b",
   "metadata": {
    "id": "7638e738-cc05-4b31-b419-11b75146585b"
   },
   "source": [
    "- requests 패키지 사용의 결과"
   ]
  },
  {
   "cell_type": "code",
   "execution_count": null,
   "id": "12a808ed-a6b8-4474-9510-6b50827ded50",
   "metadata": {
    "collapsed": true,
    "id": "12a808ed-a6b8-4474-9510-6b50827ded50",
    "jupyter": {
     "outputs_hidden": true
    },
    "tags": []
   },
   "outputs": [],
   "source": [
    "html = requests.get(\"https://www.naver.com/\")\n",
    "soup = bs(html.text, \"html.parser\")\n",
    "print(soup)"
   ]
  },
  {
   "cell_type": "code",
   "execution_count": null,
   "id": "14a3af3a-d10e-4172-91d2-3db1fb156171",
   "metadata": {
    "collapsed": true,
    "id": "14a3af3a-d10e-4172-91d2-3db1fb156171",
    "jupyter": {
     "outputs_hidden": true
    },
    "tags": []
   },
   "outputs": [],
   "source": [
    "# www.google.com 에 requests 또는 urlopen 을 통해 접근하고 사이트의 내용을 요청해 보세요\n",
    "google = requests.get(\"https://www.google.co.kr/\")\n",
    "soup = bs(google.text, \"html.parser\")\n",
    "print(soup)"
   ]
  },
  {
   "cell_type": "markdown",
   "id": "5a1d4cf0-956b-4133-89ec-8f4b8556d128",
   "metadata": {
    "id": "5a1d4cf0-956b-4133-89ec-8f4b8556d128"
   },
   "source": [
    "# 웹페이지와 HTML\n",
    "- 웹페이지는 HTML(HyperText Markup Language)을 기반으로 만든다.\n",
    "- F12를 누르면 뜨는 코드들이 HTML이다.\n",
    "- Ctrl + shift + c\n",
    "\n",
    "HTML 문서를 통해 웹페이지가 어떻게 구성되어 있는지 알 수 있으며, 이를 통해 원하는 데이터가 웹 페이지의 어디에 위치하는지 파악해 수집하는 것이 가능하다.\n",
    "\n",
    "## 1. HTML 태그\n",
    "\n",
    "- HTML은 마크로 둘러싸인 언어라는 뜻으로 구조에 대한 정보를 기반으로 작성된 언어\n",
    "- 각각의 구성 요소는 마크 역할을 하는 태그로 감싸져 있다.\n",
    "    - 웹페이지의 시작과 끝을 의미하는 <html></html>\n",
    "    - 문서의 제목을 의미하는 <title></title>\n",
    "    - 웹에 실제로 표시되는 내용을 의미하는 <body></body>\n",
    "\n",
    "```html\n",
    "<태그>내용</태그>\n",
    "```\n",
    "\n",
    "\n",
    "\n",
    "\n",
    "## 2. HTML 태그의 종류\n",
    "- ul : unordered list. 순\n",
    "- li : list item. 목록의 내용이 되는 실질적 태그\n",
    "    - [참고](https://www.w3schools.com/html/html_lists.asp)\n",
    "- a : 하이퍼링크를 나타내는 태그\n",
    "  - <a href=\"https://www.google.com\">google</a>\n",
    "- p : paragraph(단락)의 약자, 긴 글 뭉텅이.\n",
    "- table : 표를 나타내는 태그\n",
    "    - [참고](https://www.w3schools.com/html/tryit.asp?filename=tryhtml_table3)\n",
    "- img 태그\n",
    "    - 이미지를 표시하는 태그\n",
    "- find html 태그\n",
    "    - find(\"태그\") - 첫번째 태그만 검색\n",
    "    - find_all(\"태그\") - 전체 태그 검색후 list로 반환"
   ]
  },
  {
   "cell_type": "code",
   "execution_count": null,
   "id": "3f12e3f1-6e6f-48df-afe8-017792d00a21",
   "metadata": {
    "id": "3f12e3f1-6e6f-48df-afe8-017792d00a21"
   },
   "outputs": [],
   "source": [
    "html = requests.get(\"https://www.naver.com/\")\n",
    "soup = bs(html.text, \"html.parser\")"
   ]
  },
  {
   "cell_type": "code",
   "execution_count": null,
   "id": "7ee215f8-e338-45c1-8f7e-ccd6fb97ccff",
   "metadata": {
    "colab": {
     "base_uri": "https://localhost:8080/"
    },
    "id": "7ee215f8-e338-45c1-8f7e-ccd6fb97ccff",
    "outputId": "3a669866-f952-47f0-8c19-ec51b3f2c42a"
   },
   "outputs": [
    {
     "name": "stdout",
     "output_type": "stream",
     "text": [
      "<div id=\"u_skip\"> <a href=\"#newsstand\"><span>뉴스스탠드 바로가기</span></a> <a href=\"#themecast\"><span>주제별캐스트 바로가기</span></a> <a href=\"#timesquare\"><span>타임스퀘어 바로가기</span></a> <a href=\"#shopcast\"><span>쇼핑캐스트 바로가기</span></a> <a href=\"#account\"><span>로그인 바로가기</span></a> </div>\n"
     ]
    }
   ],
   "source": [
    "find_div = soup.find(\"div\", id = \"u_skip\")  #div 태그에서 id가 u_skip인 첫번째 태그만을 검색\n",
    "print(find_div)"
   ]
  },
  {
   "cell_type": "code",
   "execution_count": null,
   "id": "883a32ea-c2c5-49c1-84f1-048e5d4c6a97",
   "metadata": {
    "collapsed": true,
    "id": "883a32ea-c2c5-49c1-84f1-048e5d4c6a97",
    "jupyter": {
     "outputs_hidden": true
    },
    "tags": []
   },
   "outputs": [],
   "source": [
    "find_div = soup.find(\"div\", class_ = \"group_flex\")\n",
    "print(find_div)"
   ]
  },
  {
   "cell_type": "code",
   "execution_count": null,
   "id": "2135a273-3251-4187-9a1d-53322d4bbdfb",
   "metadata": {
    "collapsed": true,
    "id": "2135a273-3251-4187-9a1d-53322d4bbdfb",
    "jupyter": {
     "outputs_hidden": true
    },
    "tags": []
   },
   "outputs": [],
   "source": [
    "# div 태그에서  class_= group_nav를 검색해보세요\n",
    "find_div = soup.find(\"div\", class_ = \"group_nav\")\n",
    "print(find_div)"
   ]
  },
  {
   "cell_type": "code",
   "execution_count": null,
   "id": "8a575bf7-5d78-41fb-8153-052ceebc33fa",
   "metadata": {
    "colab": {
     "base_uri": "https://localhost:8080/"
    },
    "id": "8a575bf7-5d78-41fb-8153-052ceebc33fa",
    "outputId": "2efce9ec-ccd3-4b60-b1bd-da8badcba207"
   },
   "outputs": [
    {
     "data": {
      "text/plain": [
       "<li class=\"nav_item\">\n",
       "<a class=\"nav\" data-clk=\"svc.mail\" href=\"https://mail.naver.com/\"><i class=\"ico_mail\"></i>메일</a>\n",
       "</li>"
      ]
     },
     "execution_count": 122,
     "metadata": {},
     "output_type": "execute_result"
    }
   ],
   "source": [
    "find_div.find(\"li\")"
   ]
  },
  {
   "cell_type": "code",
   "execution_count": null,
   "id": "83a2f822-4ecb-461b-84dc-a9715a9a9c52",
   "metadata": {
    "colab": {
     "base_uri": "https://localhost:8080/",
     "height": 35
    },
    "id": "83a2f822-4ecb-461b-84dc-a9715a9a9c52",
    "outputId": "4b07982f-3d0f-4b31-cec6-97e94d52bb9f"
   },
   "outputs": [
    {
     "data": {
      "application/vnd.google.colaboratory.intrinsic+json": {
       "type": "string"
      },
      "text/plain": [
       "'\\n메일\\n'"
      ]
     },
     "execution_count": 123,
     "metadata": {},
     "output_type": "execute_result"
    }
   ],
   "source": [
    "find_div.find_all(\"li\")[0].get_text()  #리스트 형태를 지닌다"
   ]
  },
  {
   "cell_type": "code",
   "execution_count": null,
   "id": "50b37248-9c23-4a49-b8e2-840266acfe78",
   "metadata": {
    "colab": {
     "base_uri": "https://localhost:8080/"
    },
    "id": "50b37248-9c23-4a49-b8e2-840266acfe78",
    "outputId": "2c025204-76bb-4f29-e397-853ab069f7be"
   },
   "outputs": [
    {
     "name": "stdout",
     "output_type": "stream",
     "text": [
      "\n",
      "메일\n",
      "\n"
     ]
    }
   ],
   "source": [
    "item = find_div.find_all(\"li\")[0].get_text()\n",
    "print(item)"
   ]
  },
  {
   "cell_type": "code",
   "execution_count": null,
   "id": "19615092-3528-4751-8e36-1d039dc44563",
   "metadata": {
    "colab": {
     "base_uri": "https://localhost:8080/"
    },
    "id": "19615092-3528-4751-8e36-1d039dc44563",
    "outputId": "0c9393c3-65df-4289-a85f-6737393b11eb"
   },
   "outputs": [
    {
     "name": "stdout",
     "output_type": "stream",
     "text": [
      "\n",
      "메일\n",
      " https://mail.naver.com/\n"
     ]
    }
   ],
   "source": [
    "item = find_div.find_all(\"li\")[0].get_text()  #find_all은 모든 tag를 찾아준다 결과는 list와 같다.\n",
    "item_href = find_div.find_all(\"li\")[0].find(\"a\")[\"href\"] #find 후 결과중 tag내의 속성값을 찾기 위해서는 인덱싱을 해준다.\n",
    "print(item, item_href)"
   ]
  },
  {
   "cell_type": "code",
   "execution_count": null,
   "id": "709f13c0-649d-499d-9ce1-477b4dd9ee1a",
   "metadata": {
    "id": "709f13c0-649d-499d-9ce1-477b4dd9ee1a"
   },
   "outputs": [],
   "source": [
    "# navbar의 이름과 링크를 출력하기\n",
    "html = requests.get(\"https://www.naver.com/\")\n",
    "soup = bs(html.text, \"html.parser\")\n",
    "find_div = soup.find(\"div\", class_ = \"group_nav\")"
   ]
  },
  {
   "cell_type": "code",
   "execution_count": null,
   "id": "6996adaf-bc5b-4cba-a356-7dc21b02593c",
   "metadata": {
    "id": "6996adaf-bc5b-4cba-a356-7dc21b02593c"
   },
   "outputs": [],
   "source": [
    "nav_list = find_div.find_all(\"li\")"
   ]
  },
  {
   "cell_type": "code",
   "execution_count": null,
   "id": "ce30a29d-284e-4d52-80ab-b202fa4bee4c",
   "metadata": {
    "colab": {
     "base_uri": "https://localhost:8080/"
    },
    "id": "ce30a29d-284e-4d52-80ab-b202fa4bee4c",
    "outputId": "bc1c0bd3-c647-40f2-9af2-ef452d2a1fd1"
   },
   "outputs": [
    {
     "name": "stdout",
     "output_type": "stream",
     "text": [
      "<li class=\"nav_item\"><a class=\"nav\" data-clk=\"svc.blog\" href=\"https://section.blog.naver.com/\">블로그</a></li>\n"
     ]
    }
   ],
   "source": [
    "print(nav_list[2])"
   ]
  },
  {
   "cell_type": "code",
   "execution_count": null,
   "id": "939a6c7a-d049-4c4a-a3d0-be8e1bf374e8",
   "metadata": {
    "colab": {
     "base_uri": "https://localhost:8080/"
    },
    "id": "939a6c7a-d049-4c4a-a3d0-be8e1bf374e8",
    "outputId": "bb9b9e63-c8c7-4fdd-f695-5e44c642927c"
   },
   "outputs": [
    {
     "name": "stdout",
     "output_type": "stream",
     "text": [
      "메일 , https://mail.naver.com/\n",
      "카페 , https://section.cafe.naver.com/\n",
      "블로그 , https://section.blog.naver.com/\n",
      "지식iN , https://kin.naver.com/\n",
      "쇼핑 , https://shopping.naver.com/\n",
      "쇼핑LIVE , https://shoppinglive.naver.com/home\n",
      "Pay , https://order.pay.naver.com/home\n",
      "TV , https://tv.naver.com/\n",
      "사전 , https://dict.naver.com/\n",
      "뉴스 , https://news.naver.com/\n",
      "증권 , https://finance.naver.com/\n",
      "부동산 , https://land.naver.com/\n",
      "지도 , https://map.naver.com/\n",
      "VIBE , https://vibe.naver.com/\n",
      "도서 , https://search.shopping.naver.com/book/home\n",
      "웹툰 , https://comic.naver.com/\n"
     ]
    }
   ],
   "source": [
    "for i in nav_list:\n",
    "    nav_list_name = i.get_text()\n",
    "    nav_list_name = nav_list_name.replace(\"\\n\",\"\")\n",
    "    nav_list_url = i.find(\"a\")[\"href\"]\n",
    "    print(nav_list_name,\",\", nav_list_url)  #get_text 텍스트를 추출한다.\n",
    "    "
   ]
  },
  {
   "cell_type": "markdown",
   "id": "bcee60b1-a1ad-4082-a04d-2d579ba42f84",
   "metadata": {
    "id": "bcee60b1-a1ad-4082-a04d-2d579ba42f84"
   },
   "source": [
    "\n",
    "## 4. 선택자\n",
    "### 선택자\n",
    "- 태그 중에는 동일한 태그가 존재할 수있다. \n",
    "- 선택자(Selector)는 동일한 태그 여러 개 중에서도 각 태그를 구별할 수 있는 일종의 주소이다.\n",
    "\n",
    "### 선택자의 필요성\n",
    "\n",
    "```html\n",
    "<div>\t\n",
    "\t<div>\n",
    "\t\t<span> Python </span>\n",
    "\t\t<span> Hello world </span>\n",
    "\t</div>\n",
    "\t\n",
    "\t<div>\n",
    "\t\t<span> Java </span>\n",
    "\t\t<span> Coffee </span>\n",
    "\t</div>\n",
    "<div>\n",
    "```\n",
    "\n",
    "- <span> 태그는 다양한 내용을 담을 수 있다.\n",
    "- <span> 태그가 4개나 있어서 컴퓨터가 구분하기 어렵다. 이러한 문제를 해결하기 위해 선택자를 사용함.\n",
    "\n",
    "```html\n",
    "<div id = \"contents\">\t\n",
    "\t<div class = \"metadata1\">\n",
    "\t\t<span class = \"language\"> Python </span>\n",
    "\t\t<span class = \"project\" > Hello world </span>\n",
    "\t</div>\n",
    "\t\n",
    "\t<div class = \"metadata2\">\n",
    "\t\t<span class = \"language\"> Java </span>\n",
    "\t\t<span class = \"project\"> Coffee </span>\n",
    "\t</div>\n",
    "<div>\n",
    "```\n",
    "\n",
    "언어(language)와 관련된 데이터만 필요하다면, 태그로만 해당 데이터를 선택하면, <span>을 사용할 것이다.\n",
    "\n",
    "하지만 <span>에 언어 정보 뿐만 아니라 프로젝트 정보(Hello world, Coffee)도 포함됩니다.\n",
    "\n",
    "이러한 경우, 원하는 정보만 찾는 것이 힘들지만 \"class = 'language'\"라는 선택자를 통해 우리는 두 개의 언어 관련 데이터(python, java)를 찾을 수 있다."
   ]
  },
  {
   "cell_type": "markdown",
   "id": "128e5728-db5d-4150-ac49-e5ffd08d6526",
   "metadata": {
    "id": "128e5728-db5d-4150-ac49-e5ffd08d6526"
   },
   "source": [
    "### id와 class\n",
    "- 태그의 선택자는 주로 id와 class를 사용한다.\n",
    "- id는 어떤 요소의 고유한 값.\n",
    "    - [참고](https://www.w3schools.com/html/html_id.asp)\n",
    "    - html에서도 id는 하나의 고유한 선택자로, __중복__ 되지 않고 하나만 존재한다.\n",
    "- class 태그는 같은 속성을 지닌 데이터를 묶어주는 값이다.\n",
    "    - 한 태그가 __여러 개__ 의 class를 가질 수 있다.\n",
    "    - [참고](https://www.w3schools.com/html/html_classes.asp)\n",
    "\n",
    "비슷한 속성끼리 묶어줄 때 class 태그를 사용한다.\n",
    "\n",
    "\n",
    "\n",
    "### 선택자 사용법\n",
    "```html\n",
    "<div id='123' class='456'>\n",
    "```\n",
    "- 선택자에 따라 데이터를 찾는 코드에 차이가 있다.\n",
    "- id는 '#'를 붙이고, class는 '.'을 붙여준다.\n",
    "\n",
    "- 태그만 사용해 데이터를 찾을 경우 -> 태그\n",
    "  - div\n",
    "- 태그와 id를 사용해 데이터를 찾을 경우 -> 태그#id\n",
    "  - div#123\n",
    "- 태그와 class를 사용해 데이터를 찾을 경우 -> 태그.class\n",
    "  - div.456\n",
    "- 태그, id, class 모두 사용해 데이터를 찾을 경우 -> 태그#id.class\n",
    "  - div#123.456\n",
    "\n",
    "- 참고 : class 이름에 공백이 포함될 경우가 종종 있는데, 이럴 경우 공백을 .으로 대체해서 작성하면 된다.\n",
    "    - ex)\n",
    "\n",
    "    ```html\n",
    "    <div class='hello python'>\n",
    "    ```\n",
    "\n",
    "    -> div.hello.python"
   ]
  },
  {
   "cell_type": "code",
   "execution_count": null,
   "id": "e4c758ce-406e-4e58-961c-1a9fbb33fa93",
   "metadata": {
    "id": "e4c758ce-406e-4e58-961c-1a9fbb33fa93"
   },
   "outputs": [],
   "source": [
    "selector_soup = soup.select(\"#NM_FAVORITE > div.group_nav > ul.list_nav.type_fix\") # 해당 tag 에서 마우스 오른쪽 버튼 -> copy -> copy selector"
   ]
  },
  {
   "cell_type": "code",
   "execution_count": null,
   "id": "80b5ec19-496d-454c-82e7-ff5a8c6ed077",
   "metadata": {
    "colab": {
     "base_uri": "https://localhost:8080/"
    },
    "id": "80b5ec19-496d-454c-82e7-ff5a8c6ed077",
    "outputId": "3890fc09-584d-4606-aee9-15a81b6b4938",
    "tags": []
   },
   "outputs": [
    {
     "data": {
      "text/plain": [
       "[<ul class=\"list_nav type_fix\">\n",
       " <li class=\"nav_item\">\n",
       " <a class=\"nav\" data-clk=\"svc.mail\" href=\"https://mail.naver.com/\"><i class=\"ico_mail\"></i>메일</a>\n",
       " </li>\n",
       " <li class=\"nav_item\"><a class=\"nav\" data-clk=\"svc.cafe\" href=\"https://section.cafe.naver.com/\">카페</a></li>\n",
       " <li class=\"nav_item\"><a class=\"nav\" data-clk=\"svc.blog\" href=\"https://section.blog.naver.com/\">블로그</a></li>\n",
       " <li class=\"nav_item\"><a class=\"nav\" data-clk=\"svc.kin\" href=\"https://kin.naver.com/\">지식iN</a></li>\n",
       " <li class=\"nav_item\"><a class=\"nav shop\" data-clk=\"svc.shopping\" href=\"https://shopping.naver.com/\"><span class=\"blind\">쇼핑</span></a></li>\n",
       " <li class=\"nav_item\"><a class=\"nav shoplive\" data-clk=\"svc.shoppinglive\" href=\"https://shoppinglive.naver.com/home\"><span class=\"blind\">쇼핑LIVE</span></a></li>\n",
       " <li class=\"nav_item\"><a class=\"nav\" data-clk=\"svc.pay\" href=\"https://order.pay.naver.com/home\">Pay</a></li>\n",
       " <li class=\"nav_item\">\n",
       " <a class=\"nav\" data-clk=\"svc.tvcast\" href=\"https://tv.naver.com/\"><i class=\"ico_tv\"></i>TV</a>\n",
       " </li>\n",
       " </ul>]"
      ]
     },
     "execution_count": 131,
     "metadata": {},
     "output_type": "execute_result"
    }
   ],
   "source": [
    "selector_soup"
   ]
  },
  {
   "cell_type": "code",
   "execution_count": null,
   "id": "3ec6c4e6-64ec-4aaa-a170-20b5321562c7",
   "metadata": {
    "colab": {
     "base_uri": "https://localhost:8080/"
    },
    "id": "3ec6c4e6-64ec-4aaa-a170-20b5321562c7",
    "outputId": "4c3a74ec-3a04-45ae-f53d-7cd96caaeb6f",
    "tags": []
   },
   "outputs": [
    {
     "data": {
      "text/plain": [
       "[<a class=\"nav\" data-clk=\"svc.mail\" href=\"https://mail.naver.com/\"><i class=\"ico_mail\"></i>메일</a>,\n",
       " <a class=\"nav\" data-clk=\"svc.cafe\" href=\"https://section.cafe.naver.com/\">카페</a>,\n",
       " <a class=\"nav\" data-clk=\"svc.blog\" href=\"https://section.blog.naver.com/\">블로그</a>,\n",
       " <a class=\"nav\" data-clk=\"svc.kin\" href=\"https://kin.naver.com/\">지식iN</a>,\n",
       " <a class=\"nav shop\" data-clk=\"svc.shopping\" href=\"https://shopping.naver.com/\"><span class=\"blind\">쇼핑</span></a>,\n",
       " <a class=\"nav shoplive\" data-clk=\"svc.shoppinglive\" href=\"https://shoppinglive.naver.com/home\"><span class=\"blind\">쇼핑LIVE</span></a>,\n",
       " <a class=\"nav\" data-clk=\"svc.pay\" href=\"https://order.pay.naver.com/home\">Pay</a>,\n",
       " <a class=\"nav\" data-clk=\"svc.tvcast\" href=\"https://tv.naver.com/\"><i class=\"ico_tv\"></i>TV</a>]"
      ]
     },
     "execution_count": 154,
     "metadata": {},
     "output_type": "execute_result"
    }
   ],
   "source": [
    "# selector_soup[0].text   전체가 리스트 형태라서 0번 인덱스 요소를 가져와야한다.\n",
    "selector_soup[0].find_all(\"a\")\n",
    "# selector를 이용해\n",
    "# 메일, 카페, 블로그 지식iN, ... 을 출력해보세요"
   ]
  },
  {
   "cell_type": "code",
   "execution_count": null,
   "id": "a907e8b0-933f-4460-938d-85e7261121e7",
   "metadata": {
    "colab": {
     "base_uri": "https://localhost:8080/"
    },
    "id": "a907e8b0-933f-4460-938d-85e7261121e7",
    "outputId": "c10d6205-ed6b-496c-ad44-411f84915f66"
   },
   "outputs": [
    {
     "name": "stdout",
     "output_type": "stream",
     "text": [
      "메일\n",
      "카페\n",
      "블로그\n",
      "지식iN\n",
      "쇼핑\n",
      "쇼핑LIVE\n",
      "Pay\n",
      "TV\n"
     ]
    }
   ],
   "source": [
    "for i in selector_soup[0].find_all(\"a\"):\n",
    "    print(i.text)"
   ]
  },
  {
   "cell_type": "markdown",
   "id": "cb0b2889-c1ca-4a72-ba9f-91f14ccae2f9",
   "metadata": {
    "id": "cb0b2889-c1ca-4a72-ba9f-91f14ccae2f9"
   },
   "source": [
    "# 라이브러리 BeautifulSoup\n",
    "- BeautifulSoup 라이브러리는 HTML 문설르 탐색해서 원하는 부분만 쉽게 뽑아낼 수 있게 해주는 라이브러리이다.\n",
    "\n",
    "## BeutifulSoup의 필요성\n",
    "\n",
    "\n"
   ]
  },
  {
   "cell_type": "markdown",
   "id": "273d3e74-828e-402c-be53-eda460c4c9d3",
   "metadata": {
    "id": "273d3e74-828e-402c-be53-eda460c4c9d3"
   },
   "source": [
    "### BeautifulSoup\n",
    "- 함수 BeautifulSoup()\n",
    "    - 문자열 HTML 코드를 실제 HTML 코드로 변환해주는 함수 BeautifulSoup\n",
    "\n",
    "```python\n",
    "BeautifulSoup(문자열, 'html.parser')\n",
    "```\n",
    "- 함수 find_all()\n",
    "    - find_all() 함수는 HTML 코드에서 우리가 원하는 부분을 모두 가져오는 함수\n",
    "    - 원하는 부분을 지정할 때 사용하는 것은 태그와 선택자\n",
    "    - find_all()은 해당 태그의 모든 HTML 코드를 리스트 형태로 반환\n",
    "\n",
    "```python\n",
    "# <div id=\"example1\">\n",
    "실제HTML코드.find_all(\"div\")\n",
    "실제HTML코드.find_all(id=\"example1\")\n",
    "\n",
    "# <div id=\"example1\">, <span class=\"example2\">\n",
    "실제HTML코드.find_all([\"div\", \"span\"])\n",
    "실제HTML코드.find_all(attrs = {\"id\":\"example1\", \"class\":\"example2\"})\n",
    "```\n",
    "\n",
    "- 함수 find()\n",
    "    - find() 함수는 딱 하나만 가져온다.\n",
    "\n",
    "```python\n",
    "# <div id=\"example1\">\n",
    "실제HTML코드.find(\"div\")  #tag만\n",
    "실제HTML코드.find(id=\"example1\")  #selector만\n",
    "실제HTML코드.find(attrs = {\"id\":\"example1\"})  #selector\n",
    "실제HTML코드.find(\"div\", {\"id\":\"example1\"})  #tag, selector\n",
    "```\n",
    "\n"
   ]
  },
  {
   "cell_type": "markdown",
   "id": "3af90307-c841-44f8-8fb2-28354699828f",
   "metadata": {
    "id": "3af90307-c841-44f8-8fb2-28354699828f"
   },
   "source": [
    "#### 로또 당첨 확인"
   ]
  },
  {
   "cell_type": "code",
   "execution_count": null,
   "id": "d1f7c043-6fab-4537-a7fb-18fab8af0a37",
   "metadata": {
    "id": "d1f7c043-6fab-4537-a7fb-18fab8af0a37"
   },
   "outputs": [],
   "source": [
    "from bs4 import BeautifulSoup"
   ]
  },
  {
   "cell_type": "code",
   "execution_count": null,
   "id": "c0da31e3-53fe-4342-a2b0-b2b0c8165929",
   "metadata": {
    "id": "c0da31e3-53fe-4342-a2b0-b2b0c8165929"
   },
   "outputs": [],
   "source": [
    "import requests"
   ]
  },
  {
   "cell_type": "code",
   "execution_count": null,
   "id": "6826abd9-f6c3-4359-9da1-9a15cb14efea",
   "metadata": {
    "colab": {
     "base_uri": "https://localhost:8080/"
    },
    "id": "6826abd9-f6c3-4359-9da1-9a15cb14efea",
    "outputId": "b841db88-4694-43a0-ab62-5e27ebf44156"
   },
   "outputs": [
    {
     "name": "stdout",
     "output_type": "stream",
     "text": [
      "<div class=\"nums\">\n",
      "<div class=\"num win\">\n",
      "<strong>당첨번호</strong>\n",
      "<p>\n",
      "<span class=\"ball_645 lrg ball1\">8</span>\n",
      "<span class=\"ball_645 lrg ball1\">9</span>\n",
      "<span class=\"ball_645 lrg ball2\">20</span>\n",
      "<span class=\"ball_645 lrg ball3\">25</span>\n",
      "<span class=\"ball_645 lrg ball3\">29</span>\n",
      "<span class=\"ball_645 lrg ball4\">33</span>\n",
      "</p>\n",
      "</div>\n",
      "<div class=\"num bonus\">\n",
      "<strong>보너스</strong>\n",
      "<p><span class=\"ball_645 lrg ball1\">7</span></p>\n",
      "</div>\n",
      "</div>\n",
      "8\n",
      "9\n",
      "20\n",
      "25\n",
      "29\n",
      "33\n",
      "7\n"
     ]
    }
   ],
   "source": [
    "lot_url = \"https://dhlottery.co.kr/gameResult.do?method=byWin\"\n",
    "raw = requests.get(lot_url)\n",
    "lot_soup = BeautifulSoup(raw.text, \"html.parser\")\n",
    "lot_nums = lot_soup.find(\"div\", {\"class\":\"nums\"})\n",
    "lot_nums = lot_soup.find(\"div\", class_ = \"nums\")\n",
    "print(lot_nums)\n",
    "lot_nums = lot_nums.find_all(\"span\")\n",
    "#print(lot_nums)\n",
    "for i in lot_nums:\n",
    "    print(i.text)"
   ]
  },
  {
   "cell_type": "markdown",
   "id": "2a6056a1-d31a-4052-bf20-d1d79383be69",
   "metadata": {
    "id": "2a6056a1-d31a-4052-bf20-d1d79383be69"
   },
   "source": [
    "##### 크롤링 대상 사이트 살펴보기\n",
    "- https://search.hankyung.com/apps.frm/search.news?query=%EC%BD%94%EB%A1%9C%EB%82%98&page=1\n",
    "- url 패턴 : query=\"검색값\"&page=\"페이지값\"임을 알 수 있다. \n",
    "- html 태그\n",
    "    - \\<ul class=\"article\">\n",
    "    - \\<ul class=\"article\">\n",
    "    - \\<li> 태그 속 <em class=\"tit\"> "
   ]
  },
  {
   "cell_type": "raw",
   "id": "96c4d597-af71-4d3a-ad02-a0a501ef69f0",
   "metadata": {
    "id": "96c4d597-af71-4d3a-ad02-a0a501ef69f0",
    "tags": []
   },
   "source": [
    "hank_url = \"https://search.hankyung.com/apps.frm/search.news?query=%EC%BD%94%EB%A1%9C%EB%82%98&page=1\"\n",
    "hank_raw = requests.get(hank_url)\n",
    "hank_soup = BeautifulSoup(hank_raw.text, \"html.parser\")\n",
    "\n",
    "articles = hank_soup.find(\"ul\", {\"class\":\"article\"})\n",
    "title = articles.find_all(\"em\", {\"class\":\"tit\"})\n",
    "date_time = articles.find_all(\"span\", {\"class\":\"data_time\"})\n",
    "\n",
    "for tit, time in zip(title, date_time):\n",
    " print(tit.text, time.text)\n"
   ]
  },
  {
   "cell_type": "code",
   "execution_count": null,
   "id": "9e4b649c-3f43-4344-87fa-50c52df6c635",
   "metadata": {
    "colab": {
     "base_uri": "https://localhost:8080/"
    },
    "id": "9e4b649c-3f43-4344-87fa-50c52df6c635",
    "outputId": "de5cc3ba-9074-42c5-d1df-f6a53a180d6b"
   },
   "outputs": [
    {
     "name": "stdout",
     "output_type": "stream",
     "text": [
      "[팩트체크] 훈련소 입소 후 코로나 확진돼 귀가하면 복무기간 안 빼준다? 2022.07.28 17:50\n",
      "깐깐해진 거래소…바이오 IPO 꽉 막혔다 2022.07.28 17:49\n",
      "日, 일주일간 신규 확진 100만명 육박…이 기간 '세계 최다' 2022.07.28 17:49\n",
      "휴가철 교통사고 증가 우려…\"오후 2~6시 주의하세요\" 2022.07.28 17:46\n",
      "또 외부일정…사흘째 도어스테핑 생략 2022.07.28 17:45\n",
      "한화솔루션, 태양광 흑자 전환에 20% 급등 2022.07.28 17:44\n",
      "이스타항공 항공 면허 무효 위기…국토부 부실 심사 지적도 2022.07.28 17:44\n",
      "필리핀 K팝 경연대회 열기'후끈'…관람객 1천명 몰려 2022.07.28 17:43\n",
      "[바이오 컴퍼니 2022] 아미코젠, 바이오의약품 소재 국산화 2022.07.28 17:40\n",
      "[바이오 컴퍼니 2022] 아이센스, 혈당측정기 세계적 강자 2022.07.28 17:36\n"
     ]
    }
   ],
   "source": [
    "hank_url = \"https://search.hankyung.com/apps.frm/search.news?query=%EC%BD%94%EB%A1%9C%EB%82%98&page=3\"\n",
    "hank_raw = requests.get(hank_url)\n",
    "hank_soup = BeautifulSoup(hank_raw.text, \"html.parser\")\n",
    "\n",
    "articles  = hank_soup.find(\"ul\", {\"class\":\"article\"})\n",
    "title = articles.find_all(\"em\", {\"class\":\"tit\"})\n",
    "date_time = articles.find_all(\"span\", {\"class\":\"date_time\"})\n",
    "\n",
    "for tit, time in zip(title, date_time):\n",
    "  print(tit.text, time.text)"
   ]
  },
  {
   "cell_type": "markdown",
   "id": "dfcd0cd2-dde9-4845-bd32-4408f28153bd",
   "metadata": {
    "id": "dfcd0cd2-dde9-4845-bd32-4408f28153bd"
   },
   "source": [
    "<img src=\"https://blog.kakaocdn.net/dn/caNQvW/btq4JfrNJfP/zdIHGBlZFZr26k2XeHJhbK/img.png\">\n",
    "- https://it-eldorado.tistory.com/143"
   ]
  },
  {
   "cell_type": "raw",
   "id": "43345ee6-44b1-4469-b8b7-7a27dba7bf7f",
   "metadata": {
    "id": "43345ee6-44b1-4469-b8b7-7a27dba7bf7f"
   },
   "source": [
    "# 실습 한경에서 검색어를 받으면 기사를 100개 검색할수 있도록 만들어 보세요 \n",
    "\n",
    "검색어를 입력하세요 : 코로나\n",
    "1.코로나 ... 시간\n",
    "2.코로나 ... 시간\n",
    "...\n",
    "100.코로나 ... 시간"
   ]
  },
  {
   "cell_type": "code",
   "execution_count": null,
   "id": "1acf71f3-cd65-4c7c-afbe-3e9cd36e3491",
   "metadata": {
    "collapsed": true,
    "id": "1acf71f3-cd65-4c7c-afbe-3e9cd36e3491",
    "jupyter": {
     "outputs_hidden": true
    },
    "tags": []
   },
   "outputs": [],
   "source": [
    "import pandas as pd\n",
    "\n",
    "keyword = input(\"검색어를 입력하세요 : \")\n",
    "\n",
    "count = 0\n",
    "for i in range(1,11):\n",
    "    hank_url = \"https://search.hankyung.com/apps.frm/search.news?query=\"+keyword+\"&page=\"+str(i)\n",
    "    hank_raw = requests.get(hank_url)\n",
    "    hank_soup = BeautifulSoup(hank_raw.text, \"html.parser\")\n",
    "\n",
    "    articles  = hank_soup.find(\"ul\", {\"class\":\"article\"})\n",
    "    title = articles.find_all(\"em\", {\"class\":\"tit\"})\n",
    "    date_time = articles.find_all(\"span\", {\"class\":\"date_time\"})\n",
    "\n",
    "    \n",
    "\n",
    "    for tit, time in zip(title, date_time):\n",
    "      count += 1  \n",
    "      print(count, tit.text, pd.to_datetime(time.text))"
   ]
  },
  {
   "cell_type": "code",
   "execution_count": null,
   "id": "652b168b-32e1-49d3-a595-4fd0f4b8e4e0",
   "metadata": {
    "collapsed": true,
    "id": "652b168b-32e1-49d3-a595-4fd0f4b8e4e0",
    "jupyter": {
     "outputs_hidden": true,
     "source_hidden": true
    },
    "tags": []
   },
   "outputs": [],
   "source": [
    "import pandas as pd\n",
    "\n",
    "keyword = input(\"검색어를 입력하세요 : \")\n",
    "\n",
    "count = 0\n",
    "df = pd.DataFrame(columns = [\"title\", \"date\"])\n",
    "\n",
    "for i in range(1,11):\n",
    "    hank_url = f\"https://search.hankyung.com/apps.frm/search.news?query={keyword}&page={i}\"\n",
    "    hank_raw = requests.get(hank_url)\n",
    "    hank_soup = BeautifulSoup(hank_raw.text, \"html.parser\")\n",
    "\n",
    "    articles  = hank_soup.find(\"ul\", {\"class\":\"article\"})\n",
    "    title = articles.find_all(\"em\", {\"class\":\"tit\"})\n",
    "    date_time = articles.find_all(\"span\", {\"class\":\"date_time\"})\n",
    "\n",
    "    \n",
    "\n",
    "    for tit, time in zip(title, date_time):\n",
    "      count += 1  \n",
    "      title = tit.text\n",
    "      title_time = pd.to_datetime(time.text)\n",
    "      print(count, title, title_time)\n",
    "      df = df.append({\"title\": title, \"date\":title_time}, ignore_index = True)"
   ]
  },
  {
   "cell_type": "code",
   "execution_count": null,
   "id": "1335f8e0-7226-4a28-bd81-8c605090d765",
   "metadata": {
    "colab": {
     "base_uri": "https://localhost:8080/",
     "height": 424
    },
    "id": "1335f8e0-7226-4a28-bd81-8c605090d765",
    "outputId": "ff9a3c2c-945b-4999-9e12-e02a5573d73f"
   },
   "outputs": [
    {
     "data": {
      "text/html": [
       "\n",
       "  <div id=\"df-34fb2a5a-971b-4bc3-834c-dbb933dbdd19\">\n",
       "    <div class=\"colab-df-container\">\n",
       "      <div>\n",
       "<style scoped>\n",
       "    .dataframe tbody tr th:only-of-type {\n",
       "        vertical-align: middle;\n",
       "    }\n",
       "\n",
       "    .dataframe tbody tr th {\n",
       "        vertical-align: top;\n",
       "    }\n",
       "\n",
       "    .dataframe thead th {\n",
       "        text-align: right;\n",
       "    }\n",
       "</style>\n",
       "<table border=\"1\" class=\"dataframe\">\n",
       "  <thead>\n",
       "    <tr style=\"text-align: right;\">\n",
       "      <th></th>\n",
       "      <th>title</th>\n",
       "      <th>date</th>\n",
       "    </tr>\n",
       "  </thead>\n",
       "  <tbody>\n",
       "    <tr>\n",
       "      <th>0</th>\n",
       "      <td>\"기회는 한 번\"…BTS 머물던 그 별장, 단돈 9000원에 즐긴다</td>\n",
       "      <td>2022-07-28 16:27:00</td>\n",
       "    </tr>\n",
       "    <tr>\n",
       "      <th>1</th>\n",
       "      <td>[고침] 문화('싱어게인2' 톱6 서기, 지친 이들을 위한 힐링송…)</td>\n",
       "      <td>2022-07-28 15:12:00</td>\n",
       "    </tr>\n",
       "    <tr>\n",
       "      <th>2</th>\n",
       "      <td>'싱어게인2' 톱6 서기, 지친 이들을 위한 힐링송 '낮잠' 발표</td>\n",
       "      <td>2022-07-28 13:31:00</td>\n",
       "    </tr>\n",
       "    <tr>\n",
       "      <th>3</th>\n",
       "      <td>[신간] 100단어로 읽는 중세 이야기·고대 그리스에서 1년 살기</td>\n",
       "      <td>2022-07-28 11:41:00</td>\n",
       "    </tr>\n",
       "    <tr>\n",
       "      <th>4</th>\n",
       "      <td>서기 \"방탄소년단 커버 영상에 뷔 댓글 안 믿겨…최애는 지민\"</td>\n",
       "      <td>2022-07-28 11:22:00</td>\n",
       "    </tr>\n",
       "    <tr>\n",
       "      <th>...</th>\n",
       "      <td>...</td>\n",
       "      <td>...</td>\n",
       "    </tr>\n",
       "    <tr>\n",
       "      <th>95</th>\n",
       "      <td>\"국가 위해 진행\"…정부 행사서만 볼 수 있는 BTS '완전체'</td>\n",
       "      <td>2022-07-22 07:00:00</td>\n",
       "    </tr>\n",
       "    <tr>\n",
       "      <th>96</th>\n",
       "      <td>'태국의 BTS' 뮤 수파싯, '심플리케이팝 콘투어' 출연</td>\n",
       "      <td>2022-07-21 18:08:00</td>\n",
       "    </tr>\n",
       "    <tr>\n",
       "      <th>97</th>\n",
       "      <td>안무가 류재준, 댄서 기반 빌리드엔터 설립</td>\n",
       "      <td>2022-07-21 17:25:00</td>\n",
       "    </tr>\n",
       "    <tr>\n",
       "      <th>98</th>\n",
       "      <td>BTS 솔로 활동 첫 주자 '제이홉' 외신서 호평…\"강력한 음반\"</td>\n",
       "      <td>2022-07-21 15:37:00</td>\n",
       "    </tr>\n",
       "    <tr>\n",
       "      <th>99</th>\n",
       "      <td>\"美 사로잡았다\"...아모레퍼시픽, 아마존 행사서 역대 최대 성과</td>\n",
       "      <td>2022-07-21 14:31:00</td>\n",
       "    </tr>\n",
       "  </tbody>\n",
       "</table>\n",
       "<p>100 rows × 2 columns</p>\n",
       "</div>\n",
       "      <button class=\"colab-df-convert\" onclick=\"convertToInteractive('df-34fb2a5a-971b-4bc3-834c-dbb933dbdd19')\"\n",
       "              title=\"Convert this dataframe to an interactive table.\"\n",
       "              style=\"display:none;\">\n",
       "        \n",
       "  <svg xmlns=\"http://www.w3.org/2000/svg\" height=\"24px\"viewBox=\"0 0 24 24\"\n",
       "       width=\"24px\">\n",
       "    <path d=\"M0 0h24v24H0V0z\" fill=\"none\"/>\n",
       "    <path d=\"M18.56 5.44l.94 2.06.94-2.06 2.06-.94-2.06-.94-.94-2.06-.94 2.06-2.06.94zm-11 1L8.5 8.5l.94-2.06 2.06-.94-2.06-.94L8.5 2.5l-.94 2.06-2.06.94zm10 10l.94 2.06.94-2.06 2.06-.94-2.06-.94-.94-2.06-.94 2.06-2.06.94z\"/><path d=\"M17.41 7.96l-1.37-1.37c-.4-.4-.92-.59-1.43-.59-.52 0-1.04.2-1.43.59L10.3 9.45l-7.72 7.72c-.78.78-.78 2.05 0 2.83L4 21.41c.39.39.9.59 1.41.59.51 0 1.02-.2 1.41-.59l7.78-7.78 2.81-2.81c.8-.78.8-2.07 0-2.86zM5.41 20L4 18.59l7.72-7.72 1.47 1.35L5.41 20z\"/>\n",
       "  </svg>\n",
       "      </button>\n",
       "      \n",
       "  <style>\n",
       "    .colab-df-container {\n",
       "      display:flex;\n",
       "      flex-wrap:wrap;\n",
       "      gap: 12px;\n",
       "    }\n",
       "\n",
       "    .colab-df-convert {\n",
       "      background-color: #E8F0FE;\n",
       "      border: none;\n",
       "      border-radius: 50%;\n",
       "      cursor: pointer;\n",
       "      display: none;\n",
       "      fill: #1967D2;\n",
       "      height: 32px;\n",
       "      padding: 0 0 0 0;\n",
       "      width: 32px;\n",
       "    }\n",
       "\n",
       "    .colab-df-convert:hover {\n",
       "      background-color: #E2EBFA;\n",
       "      box-shadow: 0px 1px 2px rgba(60, 64, 67, 0.3), 0px 1px 3px 1px rgba(60, 64, 67, 0.15);\n",
       "      fill: #174EA6;\n",
       "    }\n",
       "\n",
       "    [theme=dark] .colab-df-convert {\n",
       "      background-color: #3B4455;\n",
       "      fill: #D2E3FC;\n",
       "    }\n",
       "\n",
       "    [theme=dark] .colab-df-convert:hover {\n",
       "      background-color: #434B5C;\n",
       "      box-shadow: 0px 1px 3px 1px rgba(0, 0, 0, 0.15);\n",
       "      filter: drop-shadow(0px 1px 2px rgba(0, 0, 0, 0.3));\n",
       "      fill: #FFFFFF;\n",
       "    }\n",
       "  </style>\n",
       "\n",
       "      <script>\n",
       "        const buttonEl =\n",
       "          document.querySelector('#df-34fb2a5a-971b-4bc3-834c-dbb933dbdd19 button.colab-df-convert');\n",
       "        buttonEl.style.display =\n",
       "          google.colab.kernel.accessAllowed ? 'block' : 'none';\n",
       "\n",
       "        async function convertToInteractive(key) {\n",
       "          const element = document.querySelector('#df-34fb2a5a-971b-4bc3-834c-dbb933dbdd19');\n",
       "          const dataTable =\n",
       "            await google.colab.kernel.invokeFunction('convertToInteractive',\n",
       "                                                     [key], {});\n",
       "          if (!dataTable) return;\n",
       "\n",
       "          const docLinkHtml = 'Like what you see? Visit the ' +\n",
       "            '<a target=\"_blank\" href=https://colab.research.google.com/notebooks/data_table.ipynb>data table notebook</a>'\n",
       "            + ' to learn more about interactive tables.';\n",
       "          element.innerHTML = '';\n",
       "          dataTable['output_type'] = 'display_data';\n",
       "          await google.colab.output.renderOutput(dataTable, element);\n",
       "          const docLink = document.createElement('div');\n",
       "          docLink.innerHTML = docLinkHtml;\n",
       "          element.appendChild(docLink);\n",
       "        }\n",
       "      </script>\n",
       "    </div>\n",
       "  </div>\n",
       "  "
      ],
      "text/plain": [
       "                                     title                date\n",
       "0    \"기회는 한 번\"…BTS 머물던 그 별장, 단돈 9000원에 즐긴다 2022-07-28 16:27:00\n",
       "1   [고침] 문화('싱어게인2' 톱6 서기, 지친 이들을 위한 힐링송…) 2022-07-28 15:12:00\n",
       "2     '싱어게인2' 톱6 서기, 지친 이들을 위한 힐링송 '낮잠' 발표 2022-07-28 13:31:00\n",
       "3     [신간] 100단어로 읽는 중세 이야기·고대 그리스에서 1년 살기 2022-07-28 11:41:00\n",
       "4       서기 \"방탄소년단 커버 영상에 뷔 댓글 안 믿겨…최애는 지민\" 2022-07-28 11:22:00\n",
       "..                                     ...                 ...\n",
       "95     \"국가 위해 진행\"…정부 행사서만 볼 수 있는 BTS '완전체' 2022-07-22 07:00:00\n",
       "96        '태국의 BTS' 뮤 수파싯, '심플리케이팝 콘투어' 출연 2022-07-21 18:08:00\n",
       "97                 안무가 류재준, 댄서 기반 빌리드엔터 설립 2022-07-21 17:25:00\n",
       "98    BTS 솔로 활동 첫 주자 '제이홉' 외신서 호평…\"강력한 음반\" 2022-07-21 15:37:00\n",
       "99    \"美 사로잡았다\"...아모레퍼시픽, 아마존 행사서 역대 최대 성과 2022-07-21 14:31:00\n",
       "\n",
       "[100 rows x 2 columns]"
      ]
     },
     "execution_count": 140,
     "metadata": {},
     "output_type": "execute_result"
    }
   ],
   "source": [
    "df"
   ]
  },
  {
   "cell_type": "code",
   "execution_count": null,
   "id": "76aef6cf-c92a-451a-b62f-61377ffc5f84",
   "metadata": {
    "id": "76aef6cf-c92a-451a-b62f-61377ffc5f84"
   },
   "outputs": [],
   "source": [
    "import datetime as dt\n",
    "df.to_csv(f'{dt.datetime.now()}.csv')"
   ]
  },
  {
   "cell_type": "code",
   "execution_count": null,
   "id": "cRUWI2-Bpw5_",
   "metadata": {
    "id": "cRUWI2-Bpw5_"
   },
   "outputs": [],
   "source": [
    "#주피터 랩에서 다시 만든다"
   ]
  },
  {
   "cell_type": "code",
   "execution_count": null,
   "id": "TTYODOBPoQgv",
   "metadata": {
    "id": "TTYODOBPoQgv"
   },
   "outputs": [],
   "source": [
    "#멜론 top100"
   ]
  },
  {
   "cell_type": "markdown",
   "id": "PnRzIRlNvdgi",
   "metadata": {
    "id": "PnRzIRlNvdgi"
   },
   "source": [
    "- 장르를 번호로 입력받고 입력받은 장르의 Top 50 을 DF로 출력하세요\n",
    "- df에는 가수, 제목이 있어야 합니다. \n",
    "\n",
    "\n",
    "장르를 고르세요\n",
    "1: 발라드\n",
    "2: 댄스\n",
    "3: 랩/힙합\n",
    "4: R&B/Soul\n",
    "5: 인디음악\n",
    "6: 록/메탈\n",
    "7: 트로트\n",
    "8: 포크/블루스\n",
    "\n",
    "7\n",
    "트로트 top 50 입니다.\n",
    "df...."
   ]
  },
  {
   "cell_type": "code",
   "execution_count": null,
   "id": "y6e2BEHSoi6k",
   "metadata": {
    "id": "y6e2BEHSoi6k"
   },
   "outputs": [],
   "source": [
    "melon_url = \"https://www.melon.com/genre/song_list.htm?gnrCode=GN0500\"\n",
    "header = {\"User-Agent\": \"Mozilla/5.0 (Windows NT 10.0; Win64; x64) AppleWebKit/537.36 (KHTML, like Gecko)\"}\n",
    "raw = requests.get(melon_url, headers = header)\n",
    "melon_soup = BeautifulSoup(raw.text, \"html.parser\")\n",
    "\n",
    "melon_tbody = melon_soup.find(\"tbody\")\n",
    "title = melon_tbody.find_all(\"div\", {\"class\":\"ellipsis rank01\"})\n",
    "singer = melon_tbody.find_all(\"div\", {\"class\":\"ellipsis rank02\"})\n",
    "print(title)\n",
    "print(singer)"
   ]
  },
  {
   "cell_type": "code",
   "execution_count": null,
   "id": "rYOL1M_dsYnO",
   "metadata": {
    "colab": {
     "base_uri": "https://localhost:8080/"
    },
    "id": "rYOL1M_dsYnO",
    "outputId": "92514873-07ab-4b15-aa44-55444ca6209d"
   },
   "outputs": [
    {
     "name": "stdout",
     "output_type": "stream",
     "text": [
      "1 발라드\n",
      "2 댄스\n",
      "3 랩/힙합\n",
      "4 R&B/Soul\n",
      "5 인디음악\n",
      "6 록/메탈\n",
      "7 트로트\n",
      "8 포크/블루스\n"
     ]
    }
   ],
   "source": [
    "melon_url = \"https://www.melon.com/genre/song_list.htm?gnrCode=GN0500\"\n",
    "header = {\"User-Agent\": \"Mozilla/5.0 (Windows NT 10.0; Win64; x64) AppleWebKit/537.36 (KHTML, like Gecko)\"}\n",
    "raw = requests.get(melon_url, headers = header)\n",
    "melon_soup = BeautifulSoup(raw.text, \"html.parser\")\n",
    "\n",
    "melon_soup = melon_soup.select(\"#conts > div.wrap_tabmenu01.type08\")\n",
    "#melon_genre = melon_soup.find_all(\"li\")\n",
    "#genre = melon_genre.find_all(\"li\")\n",
    "melon_genre = melon_soup[0].find_all(\"a\")\n",
    "for i, j in zip(melon_genre,range(len(melon_genre))):\n",
    "  print(j+1, i.text)"
   ]
  },
  {
   "cell_type": "code",
   "execution_count": null,
   "id": "4xm6RPyT3mnL",
   "metadata": {
    "id": "4xm6RPyT3mnL"
   },
   "outputs": [],
   "source": [
    "i = input(\" : \")\n",
    "melon_url = f\"https://www.melon.com/genre/song_list.htm?gnrCode=GN0{i}00\"\n",
    "header = {\"User-Agent\": \"Mozilla/5.0 (Windows NT 10.0; Win64; x64) AppleWebKit/537.36 (KHTML, like Gecko)\"}\n",
    "raw = requests.get(melon_url, headers = header)\n",
    "melon_soup = BeautifulSoup(raw.text, \"html.parser\")\n",
    "\n",
    "melon_tbody = melon_soup.find(\"tbody\")\n",
    "title = melon_tbody.find_all(\"div\", {\"class\":\"ellipsis rank01\"})\n",
    "singer = melon_tbody.find_all(\"span\",{\"class\":\"checkEllipsis\"})\n",
    "print(singer[0].text)\n",
    "title[0].find(\"a\").text\n",
    "for i,j in zip (title, singer):\n",
    "  title = i.text\n",
    "  singer = j.text\n",
    "  print(title, singer)"
   ]
  },
  {
   "cell_type": "code",
   "execution_count": null,
   "id": "NDFD9TBb8lxZ",
   "metadata": {
    "colab": {
     "base_uri": "https://localhost:8080/"
    },
    "id": "NDFD9TBb8lxZ",
    "outputId": "24f96701-66b9-4619-cddb-8ae7bd34ce5d"
   },
   "outputs": [
    {
     "name": "stdout",
     "output_type": "stream",
     "text": [
      "1 발라드\n",
      "2 댄스\n",
      "3 랩/힙합\n",
      "4 R&B/Soul\n",
      "5 인디음악\n",
      "6 록/메탈\n",
      "7 트로트\n",
      "8 포크/블루스\n",
      "장르를 선택하세요 : 2\n",
      "\n",
      "첫사랑 (Pop? Pop!)\n",
      " 첫사랑(CSR)\n",
      "\n",
      "Drummin'\n",
      " TO1 (티오원)\n",
      "\n",
      "로나로나땅땅\n",
      " 로나 Rona\n",
      "\n",
      "Ice Cream\n",
      " Ziodina (지오디나)\n",
      "\n",
      "외롭지않느냐고\n",
      " HAEXSO\n",
      "\n",
      "Monochrome (Color)\n",
      " ATBO\n",
      "\n",
      "YOU.F.O\n",
      " 니콜\n",
      "\n",
      "PARADE (Feat. 양요섭 of 하이라이트)\n",
      " 하이파이브 (Hy-Five)\n",
      "\n",
      "EMERGENCY\n",
      " 라미\n",
      "\n",
      "You're my…\n",
      " 히양\n",
      "\n",
      "Walking on the moon\n",
      " TAN\n",
      "\n",
      "DRIVE\n",
      " 모나 (MONA)\n",
      "\n",
      "Churup!\n",
      " Hezz (홍의진)\n",
      "\n",
      "City of Star\n",
      " Taebeen\n",
      "\n",
      "I Like That (Feat.소울크라이) (Tropical Mix)\n",
      " 데니스프로젝트\n",
      "\n",
      "여름밤 우리\n",
      " J-Young\n",
      "\n",
      "중화반점\n",
      " 루이스 (Louis)\n",
      "\n",
      "STARLIGHT\n",
      " 덴파마루 (DENPAMARU)\n",
      "\n",
      "Somebody!\n",
      " 로꼬, 화사 (Hwa Sa)\n",
      "\n",
      "Nerdy\n",
      " 퍼플키스 (PURPLE KISS)\n",
      "\n",
      "Cheeky (feat. Bustabomb, 김산하)\n",
      " 마리포사 (Mariposa)\n",
      "\n",
      "썸머썸 (Summer Some) (Feat. 2.3.4)\n",
      " 송포유\n",
      "\n",
      "달빛바다\n",
      " 프로미스나인\n",
      "\n",
      "이래도 되는걸까\n",
      " 유슬, 라키\n",
      "\n",
      "Traveler\n",
      " CHEEZE (치즈), 곽윤기\n",
      "\n",
      "빛이나는 그대 (feat. 강대웅 of 삼총사 & 노유하)\n",
      " 용이\n",
      "\n",
      "권토중래\n",
      " Manjagu(맨자구)\n",
      "\n",
      "옛날 통닭\n",
      " 이백길\n",
      "\n",
      "ALIEN (Feat. 천누리)\n",
      " Musist\n",
      "\n",
      "집에 보내줘\n",
      " 예랑가랑\n",
      "\n",
      "aHHa\n",
      " 뮤티브(MuuTive)\n",
      "\n",
      "Love(위클리 X 김이나 프로젝트)\n",
      " Weeekly (위클리)\n",
      "\n",
      "U&Iverse\n",
      " ASTRO (아스트로)\n",
      "\n",
      "Golden Hours\n",
      " Risso (리소), BNJX (밴젝스)\n",
      "\n",
      "나빌레라\n",
      " 현아\n",
      "\n",
      "둠두둠 (Doom Du Doom)\n",
      " P1Harmony\n",
      "\n",
      "쥐 (RATvolution)\n",
      " 안예은\n",
      "\n",
      "BLIND LOVE\n",
      " 멋진녀석들 (GreatGuys)\n",
      "\n",
      "여름은바다 (Feat. 안지, 빅알렉스)\n",
      " 정경일 원맨밴드\n",
      "\n",
      "History (Feat. 김찬미, 최지운)\n",
      " 가평군\n",
      "\n",
      "BEAUTIFUL MONSTER\n",
      " STAYC(스테이씨)\n",
      "\n",
      "Que Sera Sera (케세라세라)\n",
      " 아일리원(ILY:1)\n",
      "\n",
      "Rely\n",
      " 권주희\n",
      "\n",
      "mirrorball (미러볼)\n",
      " 앨리스(ALICE)\n",
      "\n",
      "Ice Cream\n",
      " Inof\n",
      "\n",
      "NO THANKS\n",
      " 효린\n",
      "\n",
      "천생연분\n",
      " 국민가수\n",
      "\n",
      "우리는 NZ세대 (Full Version)\n",
      " 산업통상자원부 & 한국에너지공단\n",
      "\n",
      "HELLO ZATION\n",
      " ZATION\n",
      "\n",
      "Hear My Voice (2022 ver.)\n",
      " NEKIRU\n"
     ]
    }
   ],
   "source": [
    "melon_url = \"https://www.melon.com/genre/song_list.htm?gnrCode=GN0500\"\n",
    "header = {\"User-Agent\": \"Mozilla/5.0 (Windows NT 10.0; Win64; x64) AppleWebKit/537.36 (KHTML, like Gecko)\"}\n",
    "raw = requests.get(melon_url, headers = header)\n",
    "melon_soup = BeautifulSoup(raw.text, \"html.parser\")\n",
    "\n",
    "melon_soup_1 = melon_soup.select(\"#conts > div.wrap_tabmenu01.type08\")\n",
    "melon_genre = melon_soup_1[0].find_all(\"a\")\n",
    "for i, j in zip(melon_genre,range(len(melon_genre))):\n",
    "  print(j+1, i.text)\n",
    "\n",
    "genre_input = input(\"장르를 선택하세요 : \")\n",
    "\n",
    "melon_url = f\"https://www.melon.com/genre/song_list.htm?gnrCode=GN0{genre_input}00\"\n",
    "header = {\"User-Agent\": \"Mozilla/5.0 (Windows NT 10.0; Win64; x64) AppleWebKit/537.36 (KHTML, like Gecko)\"}\n",
    "raw = requests.get(melon_url, headers = header)\n",
    "melon_soup = BeautifulSoup(raw.text, \"html.parser\")\n",
    "\n",
    "melon_tbody = melon_soup.find(\"tbody\")\n",
    "title = melon_tbody.find_all(\"div\", {\"class\":\"ellipsis rank01\"})\n",
    "singer = melon_tbody.find_all(\"span\",{\"class\":\"checkEllipsis\"})\n",
    "for i,j in zip (title, singer):\n",
    "  title = i.text\n",
    "  singer = j.text\n",
    "  print(title, singer)"
   ]
  },
  {
   "cell_type": "code",
   "execution_count": 2,
   "id": "15b9b5c8-8332-4343-8ddc-76ffd2c23db3",
   "metadata": {},
   "outputs": [],
   "source": [
    "from urllib.request import urlopen\n",
    "import requests\n",
    "from bs4 import BeautifulSoup\n",
    "import pandas as pd"
   ]
  },
  {
   "cell_type": "code",
   "execution_count": 3,
   "id": "21b4d125-a23f-4f59-8628-1b9bd16ab00c",
   "metadata": {},
   "outputs": [
    {
     "name": "stdout",
     "output_type": "stream",
     "text": [
      "1 발라드\n",
      "2 댄스\n",
      "3 랩/힙합\n",
      "4 R&B/Soul\n",
      "5 인디음악\n",
      "6 록/메탈\n",
      "7 트로트\n",
      "8 포크/블루스\n",
      "장르를 선택하세요 :  4\n",
      "이브닝 (Feat. BIG Naughty) 유주 (YUJU)\n",
      "Let's Take a Walk 정바스, PERC%NT\n",
      "Take this waltz 오안, 성담\n",
      "Beat of My Heart Elodie Wave\n",
      "CHANCE 최수환 (Choi suhwan)\n",
      "다 알아요 클래디 (ClaD)\n",
      "coverin’ MADDY (매디)\n",
      "Hockney Summer 권소만\n",
      "Dancing in the moonlight Anna (안나)\n",
      "Airplane (feat.윤서원) Remo\n",
      "Vinyl house Peak eqwa\n",
      "Sunday Morning 마누\n",
      "곰팡이 이아론\n",
      "무하루 (Feat. Somm) SOFI\n",
      "Polaroid Madeby\n",
      "Light the way Mugg (머그)\n",
      "여름밤 (Flowery Night) 이섬\n",
      "어설픈 사이 연후\n",
      "서수진 강재영\n",
      "퇴근할 때 듣는 노래 WE ARE THE FUTURE (위아더퓨처)\n",
      "달은 밝고 밝은데 리밋 (Limit)\n",
      "Wave (Song By Joyce Yoo) KozyPop\n",
      "산책 (Feat. 하루 (HARU)) 새벽, Mainvow\n",
      "Summer Dream (feat. 지은 (ZIEUN)) 서교동의 밤\n",
      "Don't wake up (feat. muhpy, Horim) Neulbo\n",
      "Never know JERO\n",
      "이 순간 JEMINN\n",
      "This Dawn 안이 (Ahny)\n",
      "Into You 서인범\n",
      "DAWN 첼로 (Chello)\n",
      "It must be Love (Feat. 문예린) 영원\n",
      "이제 그만 이상훈\n",
      "Leave it There 콜리 (Collie)\n",
      "27 캔버스 (feat. a 9uy) 바일린하우스(VYLYNN HOUSE)\n",
      "치즈 piyanie (피얀이)\n",
      "RIDE! HEEE\n",
      "소음 루나틱퍼플\n",
      "Just A Dancer 선예\n",
      "be free 규빈 (OnlyOneOf)\n",
      "안녕 (Prod. DASU) Earn\n",
      "Love? Love! 하이빈 (HiBin)\n",
      "Sink in (Feat. 성담) 데일로그 (Dailog)\n",
      "Freedom Floody (플루디)\n",
      "Summer drive (feat. 정지윤) 디에이 프로젝트 (D.A Project)\n",
      "You're Not Mine (feat. 최솔지) IO\n",
      "눈빛 (Noonbit) MAZ.B\n",
      "에어컨 93BOY, MC 한새(MC haNsAi)\n",
      "IVY LOVE (Feat. ROSESIA) Ahntist\n",
      "서울 기묘\n",
      "WE (Oui) OuiOui (위위)\n"
     ]
    },
    {
     "name": "stderr",
     "output_type": "stream",
     "text": [
      "C:\\Users\\haekyu\\AppData\\Local\\Temp\\ipykernel_14640\\3753307608.py:33: FutureWarning: The frame.append method is deprecated and will be removed from pandas in a future version. Use pandas.concat instead.\n",
      "  df = df.append({\"title\": title, \"singer\": singer}, ignore_index = True)\n",
      "C:\\Users\\haekyu\\AppData\\Local\\Temp\\ipykernel_14640\\3753307608.py:33: FutureWarning: The frame.append method is deprecated and will be removed from pandas in a future version. Use pandas.concat instead.\n",
      "  df = df.append({\"title\": title, \"singer\": singer}, ignore_index = True)\n",
      "C:\\Users\\haekyu\\AppData\\Local\\Temp\\ipykernel_14640\\3753307608.py:33: FutureWarning: The frame.append method is deprecated and will be removed from pandas in a future version. Use pandas.concat instead.\n",
      "  df = df.append({\"title\": title, \"singer\": singer}, ignore_index = True)\n",
      "C:\\Users\\haekyu\\AppData\\Local\\Temp\\ipykernel_14640\\3753307608.py:33: FutureWarning: The frame.append method is deprecated and will be removed from pandas in a future version. Use pandas.concat instead.\n",
      "  df = df.append({\"title\": title, \"singer\": singer}, ignore_index = True)\n",
      "C:\\Users\\haekyu\\AppData\\Local\\Temp\\ipykernel_14640\\3753307608.py:33: FutureWarning: The frame.append method is deprecated and will be removed from pandas in a future version. Use pandas.concat instead.\n",
      "  df = df.append({\"title\": title, \"singer\": singer}, ignore_index = True)\n",
      "C:\\Users\\haekyu\\AppData\\Local\\Temp\\ipykernel_14640\\3753307608.py:33: FutureWarning: The frame.append method is deprecated and will be removed from pandas in a future version. Use pandas.concat instead.\n",
      "  df = df.append({\"title\": title, \"singer\": singer}, ignore_index = True)\n",
      "C:\\Users\\haekyu\\AppData\\Local\\Temp\\ipykernel_14640\\3753307608.py:33: FutureWarning: The frame.append method is deprecated and will be removed from pandas in a future version. Use pandas.concat instead.\n",
      "  df = df.append({\"title\": title, \"singer\": singer}, ignore_index = True)\n",
      "C:\\Users\\haekyu\\AppData\\Local\\Temp\\ipykernel_14640\\3753307608.py:33: FutureWarning: The frame.append method is deprecated and will be removed from pandas in a future version. Use pandas.concat instead.\n",
      "  df = df.append({\"title\": title, \"singer\": singer}, ignore_index = True)\n",
      "C:\\Users\\haekyu\\AppData\\Local\\Temp\\ipykernel_14640\\3753307608.py:33: FutureWarning: The frame.append method is deprecated and will be removed from pandas in a future version. Use pandas.concat instead.\n",
      "  df = df.append({\"title\": title, \"singer\": singer}, ignore_index = True)\n",
      "C:\\Users\\haekyu\\AppData\\Local\\Temp\\ipykernel_14640\\3753307608.py:33: FutureWarning: The frame.append method is deprecated and will be removed from pandas in a future version. Use pandas.concat instead.\n",
      "  df = df.append({\"title\": title, \"singer\": singer}, ignore_index = True)\n",
      "C:\\Users\\haekyu\\AppData\\Local\\Temp\\ipykernel_14640\\3753307608.py:33: FutureWarning: The frame.append method is deprecated and will be removed from pandas in a future version. Use pandas.concat instead.\n",
      "  df = df.append({\"title\": title, \"singer\": singer}, ignore_index = True)\n",
      "C:\\Users\\haekyu\\AppData\\Local\\Temp\\ipykernel_14640\\3753307608.py:33: FutureWarning: The frame.append method is deprecated and will be removed from pandas in a future version. Use pandas.concat instead.\n",
      "  df = df.append({\"title\": title, \"singer\": singer}, ignore_index = True)\n",
      "C:\\Users\\haekyu\\AppData\\Local\\Temp\\ipykernel_14640\\3753307608.py:33: FutureWarning: The frame.append method is deprecated and will be removed from pandas in a future version. Use pandas.concat instead.\n",
      "  df = df.append({\"title\": title, \"singer\": singer}, ignore_index = True)\n",
      "C:\\Users\\haekyu\\AppData\\Local\\Temp\\ipykernel_14640\\3753307608.py:33: FutureWarning: The frame.append method is deprecated and will be removed from pandas in a future version. Use pandas.concat instead.\n",
      "  df = df.append({\"title\": title, \"singer\": singer}, ignore_index = True)\n",
      "C:\\Users\\haekyu\\AppData\\Local\\Temp\\ipykernel_14640\\3753307608.py:33: FutureWarning: The frame.append method is deprecated and will be removed from pandas in a future version. Use pandas.concat instead.\n",
      "  df = df.append({\"title\": title, \"singer\": singer}, ignore_index = True)\n",
      "C:\\Users\\haekyu\\AppData\\Local\\Temp\\ipykernel_14640\\3753307608.py:33: FutureWarning: The frame.append method is deprecated and will be removed from pandas in a future version. Use pandas.concat instead.\n",
      "  df = df.append({\"title\": title, \"singer\": singer}, ignore_index = True)\n",
      "C:\\Users\\haekyu\\AppData\\Local\\Temp\\ipykernel_14640\\3753307608.py:33: FutureWarning: The frame.append method is deprecated and will be removed from pandas in a future version. Use pandas.concat instead.\n",
      "  df = df.append({\"title\": title, \"singer\": singer}, ignore_index = True)\n",
      "C:\\Users\\haekyu\\AppData\\Local\\Temp\\ipykernel_14640\\3753307608.py:33: FutureWarning: The frame.append method is deprecated and will be removed from pandas in a future version. Use pandas.concat instead.\n",
      "  df = df.append({\"title\": title, \"singer\": singer}, ignore_index = True)\n",
      "C:\\Users\\haekyu\\AppData\\Local\\Temp\\ipykernel_14640\\3753307608.py:33: FutureWarning: The frame.append method is deprecated and will be removed from pandas in a future version. Use pandas.concat instead.\n",
      "  df = df.append({\"title\": title, \"singer\": singer}, ignore_index = True)\n",
      "C:\\Users\\haekyu\\AppData\\Local\\Temp\\ipykernel_14640\\3753307608.py:33: FutureWarning: The frame.append method is deprecated and will be removed from pandas in a future version. Use pandas.concat instead.\n",
      "  df = df.append({\"title\": title, \"singer\": singer}, ignore_index = True)\n",
      "C:\\Users\\haekyu\\AppData\\Local\\Temp\\ipykernel_14640\\3753307608.py:33: FutureWarning: The frame.append method is deprecated and will be removed from pandas in a future version. Use pandas.concat instead.\n",
      "  df = df.append({\"title\": title, \"singer\": singer}, ignore_index = True)\n",
      "C:\\Users\\haekyu\\AppData\\Local\\Temp\\ipykernel_14640\\3753307608.py:33: FutureWarning: The frame.append method is deprecated and will be removed from pandas in a future version. Use pandas.concat instead.\n",
      "  df = df.append({\"title\": title, \"singer\": singer}, ignore_index = True)\n",
      "C:\\Users\\haekyu\\AppData\\Local\\Temp\\ipykernel_14640\\3753307608.py:33: FutureWarning: The frame.append method is deprecated and will be removed from pandas in a future version. Use pandas.concat instead.\n",
      "  df = df.append({\"title\": title, \"singer\": singer}, ignore_index = True)\n",
      "C:\\Users\\haekyu\\AppData\\Local\\Temp\\ipykernel_14640\\3753307608.py:33: FutureWarning: The frame.append method is deprecated and will be removed from pandas in a future version. Use pandas.concat instead.\n",
      "  df = df.append({\"title\": title, \"singer\": singer}, ignore_index = True)\n",
      "C:\\Users\\haekyu\\AppData\\Local\\Temp\\ipykernel_14640\\3753307608.py:33: FutureWarning: The frame.append method is deprecated and will be removed from pandas in a future version. Use pandas.concat instead.\n",
      "  df = df.append({\"title\": title, \"singer\": singer}, ignore_index = True)\n",
      "C:\\Users\\haekyu\\AppData\\Local\\Temp\\ipykernel_14640\\3753307608.py:33: FutureWarning: The frame.append method is deprecated and will be removed from pandas in a future version. Use pandas.concat instead.\n",
      "  df = df.append({\"title\": title, \"singer\": singer}, ignore_index = True)\n",
      "C:\\Users\\haekyu\\AppData\\Local\\Temp\\ipykernel_14640\\3753307608.py:33: FutureWarning: The frame.append method is deprecated and will be removed from pandas in a future version. Use pandas.concat instead.\n",
      "  df = df.append({\"title\": title, \"singer\": singer}, ignore_index = True)\n",
      "C:\\Users\\haekyu\\AppData\\Local\\Temp\\ipykernel_14640\\3753307608.py:33: FutureWarning: The frame.append method is deprecated and will be removed from pandas in a future version. Use pandas.concat instead.\n",
      "  df = df.append({\"title\": title, \"singer\": singer}, ignore_index = True)\n",
      "C:\\Users\\haekyu\\AppData\\Local\\Temp\\ipykernel_14640\\3753307608.py:33: FutureWarning: The frame.append method is deprecated and will be removed from pandas in a future version. Use pandas.concat instead.\n",
      "  df = df.append({\"title\": title, \"singer\": singer}, ignore_index = True)\n",
      "C:\\Users\\haekyu\\AppData\\Local\\Temp\\ipykernel_14640\\3753307608.py:33: FutureWarning: The frame.append method is deprecated and will be removed from pandas in a future version. Use pandas.concat instead.\n",
      "  df = df.append({\"title\": title, \"singer\": singer}, ignore_index = True)\n",
      "C:\\Users\\haekyu\\AppData\\Local\\Temp\\ipykernel_14640\\3753307608.py:33: FutureWarning: The frame.append method is deprecated and will be removed from pandas in a future version. Use pandas.concat instead.\n",
      "  df = df.append({\"title\": title, \"singer\": singer}, ignore_index = True)\n",
      "C:\\Users\\haekyu\\AppData\\Local\\Temp\\ipykernel_14640\\3753307608.py:33: FutureWarning: The frame.append method is deprecated and will be removed from pandas in a future version. Use pandas.concat instead.\n",
      "  df = df.append({\"title\": title, \"singer\": singer}, ignore_index = True)\n",
      "C:\\Users\\haekyu\\AppData\\Local\\Temp\\ipykernel_14640\\3753307608.py:33: FutureWarning: The frame.append method is deprecated and will be removed from pandas in a future version. Use pandas.concat instead.\n",
      "  df = df.append({\"title\": title, \"singer\": singer}, ignore_index = True)\n",
      "C:\\Users\\haekyu\\AppData\\Local\\Temp\\ipykernel_14640\\3753307608.py:33: FutureWarning: The frame.append method is deprecated and will be removed from pandas in a future version. Use pandas.concat instead.\n",
      "  df = df.append({\"title\": title, \"singer\": singer}, ignore_index = True)\n",
      "C:\\Users\\haekyu\\AppData\\Local\\Temp\\ipykernel_14640\\3753307608.py:33: FutureWarning: The frame.append method is deprecated and will be removed from pandas in a future version. Use pandas.concat instead.\n",
      "  df = df.append({\"title\": title, \"singer\": singer}, ignore_index = True)\n",
      "C:\\Users\\haekyu\\AppData\\Local\\Temp\\ipykernel_14640\\3753307608.py:33: FutureWarning: The frame.append method is deprecated and will be removed from pandas in a future version. Use pandas.concat instead.\n",
      "  df = df.append({\"title\": title, \"singer\": singer}, ignore_index = True)\n",
      "C:\\Users\\haekyu\\AppData\\Local\\Temp\\ipykernel_14640\\3753307608.py:33: FutureWarning: The frame.append method is deprecated and will be removed from pandas in a future version. Use pandas.concat instead.\n",
      "  df = df.append({\"title\": title, \"singer\": singer}, ignore_index = True)\n",
      "C:\\Users\\haekyu\\AppData\\Local\\Temp\\ipykernel_14640\\3753307608.py:33: FutureWarning: The frame.append method is deprecated and will be removed from pandas in a future version. Use pandas.concat instead.\n",
      "  df = df.append({\"title\": title, \"singer\": singer}, ignore_index = True)\n",
      "C:\\Users\\haekyu\\AppData\\Local\\Temp\\ipykernel_14640\\3753307608.py:33: FutureWarning: The frame.append method is deprecated and will be removed from pandas in a future version. Use pandas.concat instead.\n",
      "  df = df.append({\"title\": title, \"singer\": singer}, ignore_index = True)\n",
      "C:\\Users\\haekyu\\AppData\\Local\\Temp\\ipykernel_14640\\3753307608.py:33: FutureWarning: The frame.append method is deprecated and will be removed from pandas in a future version. Use pandas.concat instead.\n",
      "  df = df.append({\"title\": title, \"singer\": singer}, ignore_index = True)\n",
      "C:\\Users\\haekyu\\AppData\\Local\\Temp\\ipykernel_14640\\3753307608.py:33: FutureWarning: The frame.append method is deprecated and will be removed from pandas in a future version. Use pandas.concat instead.\n",
      "  df = df.append({\"title\": title, \"singer\": singer}, ignore_index = True)\n",
      "C:\\Users\\haekyu\\AppData\\Local\\Temp\\ipykernel_14640\\3753307608.py:33: FutureWarning: The frame.append method is deprecated and will be removed from pandas in a future version. Use pandas.concat instead.\n",
      "  df = df.append({\"title\": title, \"singer\": singer}, ignore_index = True)\n",
      "C:\\Users\\haekyu\\AppData\\Local\\Temp\\ipykernel_14640\\3753307608.py:33: FutureWarning: The frame.append method is deprecated and will be removed from pandas in a future version. Use pandas.concat instead.\n",
      "  df = df.append({\"title\": title, \"singer\": singer}, ignore_index = True)\n",
      "C:\\Users\\haekyu\\AppData\\Local\\Temp\\ipykernel_14640\\3753307608.py:33: FutureWarning: The frame.append method is deprecated and will be removed from pandas in a future version. Use pandas.concat instead.\n",
      "  df = df.append({\"title\": title, \"singer\": singer}, ignore_index = True)\n",
      "C:\\Users\\haekyu\\AppData\\Local\\Temp\\ipykernel_14640\\3753307608.py:33: FutureWarning: The frame.append method is deprecated and will be removed from pandas in a future version. Use pandas.concat instead.\n",
      "  df = df.append({\"title\": title, \"singer\": singer}, ignore_index = True)\n",
      "C:\\Users\\haekyu\\AppData\\Local\\Temp\\ipykernel_14640\\3753307608.py:33: FutureWarning: The frame.append method is deprecated and will be removed from pandas in a future version. Use pandas.concat instead.\n",
      "  df = df.append({\"title\": title, \"singer\": singer}, ignore_index = True)\n",
      "C:\\Users\\haekyu\\AppData\\Local\\Temp\\ipykernel_14640\\3753307608.py:33: FutureWarning: The frame.append method is deprecated and will be removed from pandas in a future version. Use pandas.concat instead.\n",
      "  df = df.append({\"title\": title, \"singer\": singer}, ignore_index = True)\n",
      "C:\\Users\\haekyu\\AppData\\Local\\Temp\\ipykernel_14640\\3753307608.py:33: FutureWarning: The frame.append method is deprecated and will be removed from pandas in a future version. Use pandas.concat instead.\n",
      "  df = df.append({\"title\": title, \"singer\": singer}, ignore_index = True)\n",
      "C:\\Users\\haekyu\\AppData\\Local\\Temp\\ipykernel_14640\\3753307608.py:33: FutureWarning: The frame.append method is deprecated and will be removed from pandas in a future version. Use pandas.concat instead.\n",
      "  df = df.append({\"title\": title, \"singer\": singer}, ignore_index = True)\n",
      "C:\\Users\\haekyu\\AppData\\Local\\Temp\\ipykernel_14640\\3753307608.py:33: FutureWarning: The frame.append method is deprecated and will be removed from pandas in a future version. Use pandas.concat instead.\n",
      "  df = df.append({\"title\": title, \"singer\": singer}, ignore_index = True)\n"
     ]
    },
    {
     "data": {
      "text/html": [
       "<div>\n",
       "<style scoped>\n",
       "    .dataframe tbody tr th:only-of-type {\n",
       "        vertical-align: middle;\n",
       "    }\n",
       "\n",
       "    .dataframe tbody tr th {\n",
       "        vertical-align: top;\n",
       "    }\n",
       "\n",
       "    .dataframe thead th {\n",
       "        text-align: right;\n",
       "    }\n",
       "</style>\n",
       "<table border=\"1\" class=\"dataframe\">\n",
       "  <thead>\n",
       "    <tr style=\"text-align: right;\">\n",
       "      <th></th>\n",
       "      <th>title</th>\n",
       "      <th>singer</th>\n",
       "    </tr>\n",
       "  </thead>\n",
       "  <tbody>\n",
       "    <tr>\n",
       "      <th>0</th>\n",
       "      <td>이브닝 (Feat. BIG Naughty)</td>\n",
       "      <td>유주 (YUJU)</td>\n",
       "    </tr>\n",
       "    <tr>\n",
       "      <th>1</th>\n",
       "      <td>Let's Take a Walk</td>\n",
       "      <td>정바스, PERC%NT</td>\n",
       "    </tr>\n",
       "    <tr>\n",
       "      <th>2</th>\n",
       "      <td>Take this waltz</td>\n",
       "      <td>오안, 성담</td>\n",
       "    </tr>\n",
       "    <tr>\n",
       "      <th>3</th>\n",
       "      <td>Beat of My Heart</td>\n",
       "      <td>Elodie Wave</td>\n",
       "    </tr>\n",
       "    <tr>\n",
       "      <th>4</th>\n",
       "      <td>CHANCE</td>\n",
       "      <td>최수환 (Choi suhwan)</td>\n",
       "    </tr>\n",
       "    <tr>\n",
       "      <th>5</th>\n",
       "      <td>다 알아요</td>\n",
       "      <td>클래디 (ClaD)</td>\n",
       "    </tr>\n",
       "    <tr>\n",
       "      <th>6</th>\n",
       "      <td>coverin’</td>\n",
       "      <td>MADDY (매디)</td>\n",
       "    </tr>\n",
       "    <tr>\n",
       "      <th>7</th>\n",
       "      <td>Hockney Summer</td>\n",
       "      <td>권소만</td>\n",
       "    </tr>\n",
       "    <tr>\n",
       "      <th>8</th>\n",
       "      <td>Dancing in the moonlight</td>\n",
       "      <td>Anna (안나)</td>\n",
       "    </tr>\n",
       "    <tr>\n",
       "      <th>9</th>\n",
       "      <td>Airplane (feat.윤서원)</td>\n",
       "      <td>Remo</td>\n",
       "    </tr>\n",
       "    <tr>\n",
       "      <th>10</th>\n",
       "      <td>Vinyl house Peak</td>\n",
       "      <td>eqwa</td>\n",
       "    </tr>\n",
       "    <tr>\n",
       "      <th>11</th>\n",
       "      <td>Sunday Morning</td>\n",
       "      <td>마누</td>\n",
       "    </tr>\n",
       "    <tr>\n",
       "      <th>12</th>\n",
       "      <td>곰팡이</td>\n",
       "      <td>이아론</td>\n",
       "    </tr>\n",
       "    <tr>\n",
       "      <th>13</th>\n",
       "      <td>무하루 (Feat. Somm)</td>\n",
       "      <td>SOFI</td>\n",
       "    </tr>\n",
       "    <tr>\n",
       "      <th>14</th>\n",
       "      <td>Polaroid</td>\n",
       "      <td>Madeby</td>\n",
       "    </tr>\n",
       "    <tr>\n",
       "      <th>15</th>\n",
       "      <td>Light the way</td>\n",
       "      <td>Mugg (머그)</td>\n",
       "    </tr>\n",
       "    <tr>\n",
       "      <th>16</th>\n",
       "      <td>여름밤 (Flowery Night)</td>\n",
       "      <td>이섬</td>\n",
       "    </tr>\n",
       "    <tr>\n",
       "      <th>17</th>\n",
       "      <td>어설픈 사이</td>\n",
       "      <td>연후</td>\n",
       "    </tr>\n",
       "    <tr>\n",
       "      <th>18</th>\n",
       "      <td>서수진</td>\n",
       "      <td>강재영</td>\n",
       "    </tr>\n",
       "    <tr>\n",
       "      <th>19</th>\n",
       "      <td>퇴근할 때 듣는 노래</td>\n",
       "      <td>WE ARE THE FUTURE (위아더퓨처)</td>\n",
       "    </tr>\n",
       "    <tr>\n",
       "      <th>20</th>\n",
       "      <td>달은 밝고 밝은데</td>\n",
       "      <td>리밋 (Limit)</td>\n",
       "    </tr>\n",
       "    <tr>\n",
       "      <th>21</th>\n",
       "      <td>Wave (Song By Joyce Yoo)</td>\n",
       "      <td>KozyPop</td>\n",
       "    </tr>\n",
       "    <tr>\n",
       "      <th>22</th>\n",
       "      <td>산책 (Feat. 하루 (HARU))</td>\n",
       "      <td>새벽, Mainvow</td>\n",
       "    </tr>\n",
       "    <tr>\n",
       "      <th>23</th>\n",
       "      <td>Summer Dream (feat. 지은 (ZIEUN))</td>\n",
       "      <td>서교동의 밤</td>\n",
       "    </tr>\n",
       "    <tr>\n",
       "      <th>24</th>\n",
       "      <td>Don't wake up (feat. muhpy, Horim)</td>\n",
       "      <td>Neulbo</td>\n",
       "    </tr>\n",
       "    <tr>\n",
       "      <th>25</th>\n",
       "      <td>Never know</td>\n",
       "      <td>JERO</td>\n",
       "    </tr>\n",
       "    <tr>\n",
       "      <th>26</th>\n",
       "      <td>이 순간</td>\n",
       "      <td>JEMINN</td>\n",
       "    </tr>\n",
       "    <tr>\n",
       "      <th>27</th>\n",
       "      <td>This Dawn</td>\n",
       "      <td>안이 (Ahny)</td>\n",
       "    </tr>\n",
       "    <tr>\n",
       "      <th>28</th>\n",
       "      <td>Into You</td>\n",
       "      <td>서인범</td>\n",
       "    </tr>\n",
       "    <tr>\n",
       "      <th>29</th>\n",
       "      <td>DAWN</td>\n",
       "      <td>첼로 (Chello)</td>\n",
       "    </tr>\n",
       "    <tr>\n",
       "      <th>30</th>\n",
       "      <td>It must be Love (Feat. 문예린)</td>\n",
       "      <td>영원</td>\n",
       "    </tr>\n",
       "    <tr>\n",
       "      <th>31</th>\n",
       "      <td>이제 그만</td>\n",
       "      <td>이상훈</td>\n",
       "    </tr>\n",
       "    <tr>\n",
       "      <th>32</th>\n",
       "      <td>Leave it There</td>\n",
       "      <td>콜리 (Collie)</td>\n",
       "    </tr>\n",
       "    <tr>\n",
       "      <th>33</th>\n",
       "      <td>27 캔버스 (feat. a 9uy)</td>\n",
       "      <td>바일린하우스(VYLYNN HOUSE)</td>\n",
       "    </tr>\n",
       "    <tr>\n",
       "      <th>34</th>\n",
       "      <td>치즈</td>\n",
       "      <td>piyanie (피얀이)</td>\n",
       "    </tr>\n",
       "    <tr>\n",
       "      <th>35</th>\n",
       "      <td>RIDE!</td>\n",
       "      <td>HEEE</td>\n",
       "    </tr>\n",
       "    <tr>\n",
       "      <th>36</th>\n",
       "      <td>소음</td>\n",
       "      <td>루나틱퍼플</td>\n",
       "    </tr>\n",
       "    <tr>\n",
       "      <th>37</th>\n",
       "      <td>Just A Dancer</td>\n",
       "      <td>선예</td>\n",
       "    </tr>\n",
       "    <tr>\n",
       "      <th>38</th>\n",
       "      <td>be free</td>\n",
       "      <td>규빈 (OnlyOneOf)</td>\n",
       "    </tr>\n",
       "    <tr>\n",
       "      <th>39</th>\n",
       "      <td>안녕 (Prod. DASU)</td>\n",
       "      <td>Earn</td>\n",
       "    </tr>\n",
       "    <tr>\n",
       "      <th>40</th>\n",
       "      <td>Love? Love!</td>\n",
       "      <td>하이빈 (HiBin)</td>\n",
       "    </tr>\n",
       "    <tr>\n",
       "      <th>41</th>\n",
       "      <td>Sink in (Feat. 성담)</td>\n",
       "      <td>데일로그 (Dailog)</td>\n",
       "    </tr>\n",
       "    <tr>\n",
       "      <th>42</th>\n",
       "      <td>Freedom</td>\n",
       "      <td>Floody (플루디)</td>\n",
       "    </tr>\n",
       "    <tr>\n",
       "      <th>43</th>\n",
       "      <td>Summer drive (feat. 정지윤)</td>\n",
       "      <td>디에이 프로젝트 (D.A Project)</td>\n",
       "    </tr>\n",
       "    <tr>\n",
       "      <th>44</th>\n",
       "      <td>You're Not Mine (feat. 최솔지)</td>\n",
       "      <td>IO</td>\n",
       "    </tr>\n",
       "    <tr>\n",
       "      <th>45</th>\n",
       "      <td>눈빛 (Noonbit)</td>\n",
       "      <td>MAZ.B</td>\n",
       "    </tr>\n",
       "    <tr>\n",
       "      <th>46</th>\n",
       "      <td>에어컨</td>\n",
       "      <td>93BOY, MC 한새(MC haNsAi)</td>\n",
       "    </tr>\n",
       "    <tr>\n",
       "      <th>47</th>\n",
       "      <td>IVY LOVE (Feat. ROSESIA)</td>\n",
       "      <td>Ahntist</td>\n",
       "    </tr>\n",
       "    <tr>\n",
       "      <th>48</th>\n",
       "      <td>서울</td>\n",
       "      <td>기묘</td>\n",
       "    </tr>\n",
       "    <tr>\n",
       "      <th>49</th>\n",
       "      <td>WE (Oui)</td>\n",
       "      <td>OuiOui (위위)</td>\n",
       "    </tr>\n",
       "  </tbody>\n",
       "</table>\n",
       "</div>"
      ],
      "text/plain": [
       "                                 title                     singer\n",
       "0              이브닝 (Feat. BIG Naughty)                  유주 (YUJU)\n",
       "1                    Let's Take a Walk               정바스, PERC%NT\n",
       "2                      Take this waltz                     오안, 성담\n",
       "3                     Beat of My Heart                Elodie Wave\n",
       "4                               CHANCE          최수환 (Choi suhwan)\n",
       "5                                다 알아요                 클래디 (ClaD)\n",
       "6                             coverin’                 MADDY (매디)\n",
       "7                       Hockney Summer                        권소만\n",
       "8             Dancing in the moonlight                  Anna (안나)\n",
       "9                  Airplane (feat.윤서원)                       Remo\n",
       "10                    Vinyl house Peak                       eqwa\n",
       "11                      Sunday Morning                         마누\n",
       "12                                 곰팡이                        이아론\n",
       "13                    무하루 (Feat. Somm)                       SOFI\n",
       "14                            Polaroid                     Madeby\n",
       "15                       Light the way                  Mugg (머그)\n",
       "16                 여름밤 (Flowery Night)                         이섬\n",
       "17                              어설픈 사이                         연후\n",
       "18                                 서수진                        강재영\n",
       "19                         퇴근할 때 듣는 노래  WE ARE THE FUTURE (위아더퓨처)\n",
       "20                           달은 밝고 밝은데                 리밋 (Limit)\n",
       "21            Wave (Song By Joyce Yoo)                    KozyPop\n",
       "22                산책 (Feat. 하루 (HARU))                새벽, Mainvow\n",
       "23     Summer Dream (feat. 지은 (ZIEUN))                     서교동의 밤\n",
       "24  Don't wake up (feat. muhpy, Horim)                     Neulbo\n",
       "25                          Never know                       JERO\n",
       "26                                이 순간                     JEMINN\n",
       "27                           This Dawn                  안이 (Ahny)\n",
       "28                            Into You                        서인범\n",
       "29                                DAWN                첼로 (Chello)\n",
       "30         It must be Love (Feat. 문예린)                         영원\n",
       "31                               이제 그만                        이상훈\n",
       "32                      Leave it There                콜리 (Collie)\n",
       "33                27 캔버스 (feat. a 9uy)       바일린하우스(VYLYNN HOUSE)\n",
       "34                                  치즈              piyanie (피얀이)\n",
       "35                               RIDE!                       HEEE\n",
       "36                                  소음                      루나틱퍼플\n",
       "37                       Just A Dancer                         선예\n",
       "38                             be free             규빈 (OnlyOneOf)\n",
       "39                     안녕 (Prod. DASU)                       Earn\n",
       "40                         Love? Love!                하이빈 (HiBin)\n",
       "41                  Sink in (Feat. 성담)              데일로그 (Dailog)\n",
       "42                             Freedom               Floody (플루디)\n",
       "43            Summer drive (feat. 정지윤)     디에이 프로젝트 (D.A Project)\n",
       "44         You're Not Mine (feat. 최솔지)                         IO\n",
       "45                        눈빛 (Noonbit)                      MAZ.B\n",
       "46                                 에어컨    93BOY, MC 한새(MC haNsAi)\n",
       "47            IVY LOVE (Feat. ROSESIA)                    Ahntist\n",
       "48                                  서울                         기묘\n",
       "49                            WE (Oui)                OuiOui (위위)"
      ]
     },
     "execution_count": 3,
     "metadata": {},
     "output_type": "execute_result"
    }
   ],
   "source": [
    "df = pd.DataFrame(columns = [\"title\", \"singer\"]) \n",
    "\n",
    "melon_url = \"https://www.melon.com/genre/song_list.htm?gnrCode=GN0100\"\n",
    "header = {\"User-Agent\": \"Mozilla/5.0 (Windows NT 10.0; Win64; x64) AppleWebKit/537.36 (KHTML, like Gecko)\"}\n",
    "raw = requests.get(melon_url, headers = header)\n",
    "melon_soup = BeautifulSoup(raw.text, \"html.parser\")\n",
    "\n",
    "#melon_soup_list = melon_soup.find(\"div\", attrs = {\"class\":\"wrap_tabmenu01.type08\"})\n",
    "#print(melon_soup_list)\n",
    "\n",
    "melon_soup = melon_soup.select(\"#conts > div.wrap_tabmenu01.type08\")\n",
    "melon_genre = melon_soup[0].find_all(\"li\")\n",
    "\n",
    "for i, j in zip(melon_genre,range(len(melon_genre))):\n",
    "  print(j+1, i.text)\n",
    "\n",
    "\n",
    "genre_input = input(\"장르를 선택하세요 : \")\n",
    "\n",
    "melon_url = f\"https://www.melon.com/genre/song_list.htm?gnrCode=GN0{genre_input}00\"\n",
    "header = {\"User-Agent\": \"Mozilla/5.0 (Windows NT 10.0; Win64; x64) AppleWebKit/537.36 (KHTML, like Gecko)\"}\n",
    "raw = requests.get(melon_url, headers = header)\n",
    "melon_soup = BeautifulSoup(raw.text, \"html.parser\")\n",
    "\n",
    "melon_tbody = melon_soup.find(\"tbody\")\n",
    "title = melon_tbody.find_all(\"div\", {\"class\":\"ellipsis rank01\"})\n",
    "singer = melon_tbody.find_all(\"span\",{\"class\":\"checkEllipsis\"})\n",
    "for i,j in zip (title, singer):\n",
    "  title = i.text\n",
    "  title = title.replace(\"\\n\",\"\")\n",
    "  singer = j.text\n",
    "  print(title, singer)\n",
    "  df = df.append({\"title\": title, \"singer\": singer}, ignore_index = True)\n",
    "df"
   ]
  },
  {
   "cell_type": "code",
   "execution_count": null,
   "id": "d5e5ceb7-4af9-446b-886d-82d06d796614",
   "metadata": {},
   "outputs": [],
   "source": [
    "pip uninstall jupyterlab-git"
   ]
  },
  {
   "cell_type": "code",
   "execution_count": null,
   "id": "e451e9f9-e58e-46a0-b069-e4e43b4f9260",
   "metadata": {},
   "outputs": [],
   "source": []
  }
 ],
 "metadata": {
  "colab": {
   "collapsed_sections": [],
   "name": "day18.ipynb",
   "provenance": []
  },
  "kernelspec": {
   "display_name": "Python 3 (ipykernel)",
   "language": "python",
   "name": "python3"
  },
  "language_info": {
   "codemirror_mode": {
    "name": "ipython",
    "version": 3
   },
   "file_extension": ".py",
   "mimetype": "text/x-python",
   "name": "python",
   "nbconvert_exporter": "python",
   "pygments_lexer": "ipython3",
   "version": "3.9.12"
  }
 },
 "nbformat": 4,
 "nbformat_minor": 5
}
